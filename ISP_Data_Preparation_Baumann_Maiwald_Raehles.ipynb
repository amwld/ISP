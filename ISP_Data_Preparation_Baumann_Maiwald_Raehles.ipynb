{
  "nbformat": 4,
  "nbformat_minor": 0,
  "metadata": {
    "colab": {
      "name": "ISP_Data_Preparation.ipynb",
      "provenance": [],
      "collapsed_sections": [],
      "toc_visible": true
    },
    "kernelspec": {
      "display_name": "Python 3",
      "language": "python",
      "name": "python3"
    },
    "language_info": {
      "codemirror_mode": {
        "name": "ipython",
        "version": 3
      },
      "file_extension": ".py",
      "mimetype": "text/x-python",
      "name": "python",
      "nbconvert_exporter": "python",
      "pygments_lexer": "ipython3",
      "version": "3.7.6"
    }
  },
  "cells": [
    {
      "cell_type": "markdown",
      "metadata": {
        "colab_type": "text",
        "id": "Hey8Wz8Hk7Wz"
      },
      "source": [
        "### IT Security and Privacy\n",
        "### HU WS 2019/2020\n",
        "# Extremism Detection: Data Scraping and Preparation\n",
        "\n",
        "---\n",
        "\n",
        "\n"
      ]
    },
    {
      "cell_type": "markdown",
      "metadata": {
        "id": "BpfojbEptqWd",
        "colab_type": "text"
      },
      "source": [
        "*Amanda Maiwald, 599665, maiwald@posteo.de* \\\\\n",
        "*Lukas Baumann, 597742, lukasb94@gmx.de* \\\\\n",
        "Simon Rähles, 600785, s.raehles@me.com \\\\"
      ]
    },
    {
      "cell_type": "markdown",
      "metadata": {
        "colab_type": "text",
        "id": "TZhkL8P7lWYF"
      },
      "source": [
        "## Google drive connection and import of packages"
      ]
    },
    {
      "cell_type": "markdown",
      "metadata": {
        "colab_type": "text",
        "id": "rayc8RLklp-N"
      },
      "source": [
        "READ ME:\n",
        "As we have different file structures in our respective google drive, we need to define separate paths to save files externally. Please define your own path where you want to save and load files from. When using this code, only change the variable *output_dir* and *input_dir*."
      ]
    },
    {
      "cell_type": "code",
      "metadata": {
        "colab_type": "code",
        "id": "l58W_buc8U-O",
        "colab": {}
      },
      "source": [
        "#from google.colab import drive\n",
        "#drive.mount('/content/drive')"
      ],
      "execution_count": 0,
      "outputs": []
    },
    {
      "cell_type": "markdown",
      "metadata": {
        "colab_type": "text",
        "id": "KvL-OtapmgOh"
      },
      "source": [
        "Individual paths to directories."
      ]
    },
    {
      "cell_type": "code",
      "metadata": {
        "colab_type": "code",
        "id": "tBfNoBv7mW18",
        "colab": {}
      },
      "source": [
        "# Amanda's directory structure\n",
        "#input_dir_am = \"/content/drive/My Drive/ISP_Extremism_Detection/ISP_Colab/Input/\"\n",
        "#output_dir_am = \"/content/drive/My Drive/ISP_Extremism_Detection/ISP_Colab/Output/\""
      ],
      "execution_count": 0,
      "outputs": []
    },
    {
      "cell_type": "code",
      "metadata": {
        "colab_type": "code",
        "id": "INNGYibRnTQ0",
        "colab": {}
      },
      "source": [
        "# Lukas's directory structure\n",
        "#input_dir_lb = \"/content/drive/My Drive/ISP_Extremism_Detection/ISP_Colab/Input/\"\n",
        "#output_dir_lb = \"/content/drive/My Drive/ISP_Extremism_Detection/ISP_Colab/Outp\""
      ],
      "execution_count": 0,
      "outputs": []
    },
    {
      "cell_type": "code",
      "metadata": {
        "colab_type": "code",
        "id": "Eb8zBVOgnXPv",
        "colab": {}
      },
      "source": [
        "# Simon's directory structure\n",
        "#input_dir_sr = \"/content/drive/shared with me/ISP_Extremism_Detection/ISP_Colab/Input/\"\n",
        "#output_dir_sr = \"/content/drive/shared with me/ISP_Extremism_Detection/ISP_Colab/Output/\""
      ],
      "execution_count": 0,
      "outputs": []
    },
    {
      "cell_type": "code",
      "metadata": {
        "colab_type": "code",
        "id": "eaERsTq4ndIS",
        "colab": {}
      },
      "source": [
        "# set directory to individual directory (right now it is Amanda's)\n",
        "#input_dir = input_dir_sr\n",
        "#output_dir = output_dir_sr"
      ],
      "execution_count": 0,
      "outputs": []
    },
    {
      "cell_type": "code",
      "metadata": {
        "colab_type": "code",
        "id": "WbKE8hPD-eL9",
        "outputId": "3b91a8bd-0316-41d0-da4d-b1d4e0dddd2d",
        "colab": {
          "base_uri": "https://localhost:8080/",
          "height": 261
        }
      },
      "source": [
        "from sklearn.model_selection import train_test_split\n",
        "import pandas as pd\n",
        "import tensorflow as tf\n",
        "import tensorflow_hub as hub\n",
        "from datetime import datetime\n",
        "import numpy as np\n",
        "import torch \n",
        "import sklearn\n",
        "import time\n",
        "import GetOldTweets3 as got #  https://pypi.org/project/GetOldTweets3/\n",
        "import os\n",
        "import re\n",
        "import matplotlib.pyplot as plt\n",
        "import seaborn as sns\n",
        "from sklearn.utils import resample\n",
        "\n",
        "os.getcwd()"
      ],
      "execution_count": 0,
      "outputs": [
        {
          "output_type": "execute_result",
          "data": {
            "text/plain": [
              "'/Users/sraehles/Downloads'"
            ]
          },
          "metadata": {
            "tags": []
          },
          "execution_count": 6
        }
      ]
    },
    {
      "cell_type": "markdown",
      "metadata": {
        "colab_type": "text",
        "id": "ScXBCDOFIIP4"
      },
      "source": [
        "### Import account data"
      ]
    },
    {
      "cell_type": "code",
      "metadata": {
        "colab_type": "code",
        "id": "iwly1TAX9p-k",
        "colab": {},
        "outputId": "bee7dac8-4c5a-42f4-9282-4f0a9e7fefa3"
      },
      "source": [
        "# afd accounts\n",
        "#google_sheet_all= 'https://docs.google.com/spreadsheets/d/1Wz7K_eSx72JIanjSwsD_btxSLTaw839a6iLvt3O9KAc/edit#gid=423768268'\n",
        "\n",
        "# replace “edit#gid” text in the google_sheet_url variable above with “export?format=csv&gid”\n",
        "#new_google_sheet_all = 'https://docs.google.com/spreadsheets/d/1Wz7K_eSx72JIanjSwsD_btxSLTaw839a6iLvt3O9KAc/export?format=csv&gid=423768268'\n",
        "\n",
        "# import data\n",
        "\n",
        "accounts_all = pd.read_csv(\"final_df_all_accounts.csv\")"
      ],
      "execution_count": 0,
      "outputs": [
        {
          "output_type": "stream",
          "text": [
            "/Users/sraehles/opt/anaconda3/envs/ITSec/lib/python3.7/site-packages/IPython/core/interactiveshell.py:3051: DtypeWarning: Columns (3) have mixed types. Specify dtype option on import or set low_memory=False.\n",
            "  interactivity=interactivity, compiler=compiler, result=result)\n"
          ],
          "name": "stderr"
        }
      ]
    },
    {
      "cell_type": "code",
      "metadata": {
        "colab_type": "code",
        "id": "wthRWF28-Ctb",
        "outputId": "bd09085e-83a1-4c2e-d143-867ec387245a",
        "colab": {
          "base_uri": "https://localhost:8080/",
          "height": 195
        }
      },
      "source": [
        "print(accounts_all.head(3))"
      ],
      "execution_count": 0,
      "outputs": [
        {
          "output_type": "stream",
          "text": [
            "   Unnamed: 0  Unnamed: 0.1          user        id  \\\n",
            "0           0             0  Alice_Weidel  1,22E+34   \n",
            "1           1             1  Alice_Weidel  1,22E+34   \n",
            "2           2             2  Alice_Weidel  1,21E+34   \n",
            "\n",
            "                                           permalink   to  \\\n",
            "0  https://twitter.com/Alice_Weidel/status/121664...  NaN   \n",
            "1  https://twitter.com/Alice_Weidel/status/121563...  NaN   \n",
            "2  https://twitter.com/Alice_Weidel/status/121485...  NaN   \n",
            "\n",
            "                                                text  \\\n",
            "0  Vor 75 Jahren flohen 2,5 Millionen Deutsche vo...   \n",
            "1  Islamisierung und Indoktrination aus Ankara ve...   \n",
            "2  Mein herzliches Beileid den Angehörigen der Op...   \n",
            "\n",
            "                        date  retweets  favorites mentions  \\\n",
            "0  2020-01-13 09:09:20+00:00     904.0     3715.0      NaN   \n",
            "1  2020-01-10 14:14:47+00:00     567.0     2142.0      NaN   \n",
            "2  2020-01-08 10:20:19+00:00     265.0     1516.0      NaN   \n",
            "\n",
            "                             hashtags  geo          name party  \\\n",
            "0                                #AfD  NaN  Alice Weidel   AfD   \n",
            "1                                #AfD  NaN  Alice Weidel   AfD   \n",
            "2  #PS752 #Iran #IranAttacks #Teheran  NaN  Alice Weidel   AfD   \n",
            "\n",
            "                            position       since  \n",
            "0  Stellvertretende Bundessprecherin  2017-02-01  \n",
            "1  Stellvertretende Bundessprecherin  2017-02-01  \n",
            "2  Stellvertretende Bundessprecherin  2017-02-01  \n"
          ],
          "name": "stdout"
        }
      ]
    },
    {
      "cell_type": "code",
      "metadata": {
        "colab_type": "code",
        "id": "jWr6LnN6ALuq",
        "outputId": "7fbbd5b1-7c60-4251-875e-7fd5d5c1a168",
        "colab": {
          "base_uri": "https://localhost:8080/",
          "height": 101
        }
      },
      "source": [
        "print(\"Shape of accounts_all: \", accounts_all.shape)"
      ],
      "execution_count": 0,
      "outputs": [
        {
          "output_type": "stream",
          "text": [
            "Shape of accounts_all:  (469337, 17)\n"
          ],
          "name": "stdout"
        }
      ]
    },
    {
      "cell_type": "code",
      "metadata": {
        "id": "XbrAFgzDtakv",
        "colab_type": "code",
        "colab": {},
        "outputId": "6519fb8b-3c67-4bb0-86b0-c933fceac5e6"
      },
      "source": [
        "#Count unique user\n",
        "print(accounts_all['user'].nunique())"
      ],
      "execution_count": 0,
      "outputs": [
        {
          "output_type": "stream",
          "text": [
            "129\n"
          ],
          "name": "stdout"
        }
      ]
    },
    {
      "cell_type": "code",
      "metadata": {
        "id": "uzkK7bKAtakz",
        "colab_type": "code",
        "colab": {}
      },
      "source": [
        "df = accounts_all.copy()"
      ],
      "execution_count": 0,
      "outputs": []
    },
    {
      "cell_type": "code",
      "metadata": {
        "id": "UhEtoEdttak4",
        "colab_type": "code",
        "colab": {},
        "outputId": "3aa33f29-9582-419a-ba36-915363ca118c"
      },
      "source": [
        "df.shape"
      ],
      "execution_count": 0,
      "outputs": [
        {
          "output_type": "execute_result",
          "data": {
            "text/plain": [
              "(469337, 17)"
            ]
          },
          "metadata": {
            "tags": []
          },
          "execution_count": 12
        }
      ]
    },
    {
      "cell_type": "code",
      "metadata": {
        "id": "MUvTEJW2tak-",
        "colab_type": "code",
        "colab": {},
        "outputId": "f49b5c72-1dca-4b93-c1b3-6086cf6d0365"
      },
      "source": [
        "plt.title(\"Total observations of variable 'Party'\") \n",
        "sns.countplot(y = \"party\", data = df, order = accounts_all['party'].value_counts().index,\n",
        " palette = \"Greens_d\")"
      ],
      "execution_count": 0,
      "outputs": [
        {
          "output_type": "execute_result",
          "data": {
            "text/plain": [
              "<matplotlib.axes._subplots.AxesSubplot at 0x1a484e1690>"
            ]
          },
          "metadata": {
            "tags": []
          },
          "execution_count": 13
        },
        {
          "output_type": "display_data",
          "data": {
            "image/png": "[encoded data removed]",
            "text/plain": [
              "<Figure size 432x288 with 1 Axes>"
            ]
          },
          "metadata": {
            "tags": [],
            "needs_background": "light"
          }
        }
      ]
    },
    {
      "cell_type": "code",
      "metadata": {
        "id": "tbjesYIdtalD",
        "colab_type": "code",
        "colab": {}
      },
      "source": [
        "# \"CDU \" to \"CDU\"\n",
        "df['party'] = df['party'].replace('CDU ', 'CDU')"
      ],
      "execution_count": 0,
      "outputs": []
    },
    {
      "cell_type": "code",
      "metadata": {
        "id": "CrGCDAQFtalH",
        "colab_type": "code",
        "colab": {}
      },
      "source": [
        "# Separate AfD\n",
        "df_afd = df[df.party == 'AfD']\n",
        "df = df[df.party != 'AfD']"
      ],
      "execution_count": 0,
      "outputs": []
    },
    {
      "cell_type": "code",
      "metadata": {
        "id": "Dq1YpRHytalL",
        "colab_type": "code",
        "colab": {}
      },
      "source": [
        "# Label Data as extremist and non extremist\n",
        "extremist_parties = ['NPD', 'Die Rechte']\n",
        "df['label'] = ['extremist' if x in extremist_parties else 'non_extremist' for x in df['party']]"
      ],
      "execution_count": 0,
      "outputs": []
    },
    {
      "cell_type": "code",
      "metadata": {
        "id": "OZsa59HotalO",
        "colab_type": "code",
        "colab": {},
        "outputId": "262db073-dffd-43f8-88a1-87f244c5cb3d"
      },
      "source": [
        "# Plot distribution between extremist and non extremist tweets\n",
        "plt.title(\"Total observations of binary variable 'Extremist'\") \n",
        "sns.countplot(y = \"label\", data = df,\n",
        " palette = \"Greens_d\")"
      ],
      "execution_count": 0,
      "outputs": [
        {
          "output_type": "execute_result",
          "data": {
            "text/plain": [
              "<matplotlib.axes._subplots.AxesSubplot at 0x1a4abcba50>"
            ]
          },
          "metadata": {
            "tags": []
          },
          "execution_count": 17
        },
        {
          "output_type": "display_data",
          "data": {
            "image/png": "[encoded data removed]",
            "text/plain": [
              "<Figure size 432x288 with 1 Axes>"
            ]
          },
          "metadata": {
            "tags": [],
            "needs_background": "light"
          }
        }
      ]
    },
    {
      "cell_type": "code",
      "metadata": {
        "id": "TzE0WzpktalR",
        "colab_type": "code",
        "colab": {}
      },
      "source": [
        "# set percentage of right and not right data in data set for machine learning\n",
        "right_percent = 0.5\n",
        "not_right_percent = 1 - right_percent"
      ],
      "execution_count": 0,
      "outputs": []
    },
    {
      "cell_type": "code",
      "metadata": {
        "id": "6YQBK_ZMtalW",
        "colab_type": "code",
        "colab": {},
        "outputId": "13add0d3-7076-4fab-8a9d-c9e8519ddfa6"
      },
      "source": [
        "# Separate majority and minority classes\n",
        "df_majority = df[df.label == 'non_extremist']\n",
        "df_minority = df[df.label == 'extremist']\n",
        "\n",
        "print('Number of extremist tweets: \\t', len(df_minority))\n",
        "print('Number of non extremist tweets:\\t', len(df_majority))"
      ],
      "execution_count": 0,
      "outputs": [
        {
          "output_type": "stream",
          "text": [
            "Number of extremist tweets: \t 24272\n",
            "Number of non extremist tweets:\t 389122\n"
          ],
          "name": "stdout"
        }
      ]
    },
    {
      "cell_type": "code",
      "metadata": {
        "id": "mFWkxe3VtalY",
        "colab_type": "code",
        "colab": {}
      },
      "source": [
        "# Downsample majority class\n",
        "df_majority_downsampled = resample(df_majority, \n",
        "                                 replace = False,    # sample without replacement\n",
        "                                 n_samples = len(df_minority)*1,     # to match minority class\n",
        "                                 random_state = 123)"
      ],
      "execution_count": 0,
      "outputs": []
    },
    {
      "cell_type": "code",
      "metadata": {
        "id": "NMnMYfJbtald",
        "colab_type": "code",
        "colab": {}
      },
      "source": [
        "df_downsampled = pd.concat([df_majority_downsampled, df_minority])"
      ],
      "execution_count": 0,
      "outputs": []
    },
    {
      "cell_type": "code",
      "metadata": {
        "id": "fAIePBPqtalg",
        "colab_type": "code",
        "colab": {},
        "outputId": "9ab88130-2b5f-4529-a93b-50d0d37befb0"
      },
      "source": [
        "# Plot distribution between extremist and non extremist tweets\n",
        "plt.title(\"Total observations of binary variable 'Extremist'\") \n",
        "sns.countplot(y = \"label\", data = df_downsampled,\n",
        " palette = \"Greens_d\")"
      ],
      "execution_count": 0,
      "outputs": [
        {
          "output_type": "execute_result",
          "data": {
            "text/plain": [
              "<matplotlib.axes._subplots.AxesSubplot at 0x1a49a8ee50>"
            ]
          },
          "metadata": {
            "tags": []
          },
          "execution_count": 22
        },
        {
          "output_type": "display_data",
          "data": {
            "image/png": "[encoded data removed]",
            "text/plain": [
              "<Figure size 432x288 with 1 Axes>"
            ]
          },
          "metadata": {
            "tags": [],
            "needs_background": "light"
          }
        }
      ]
    },
    {
      "cell_type": "code",
      "metadata": {
        "id": "-fpd3Ujhtall",
        "colab_type": "code",
        "colab": {},
        "outputId": "4ecb4c55-ec84-4b8d-a2f5-e3113b0615a7"
      },
      "source": [
        "plt.title(\"Total observations of variable 'Party'\") \n",
        "sns.countplot(y=\"party\", data=df_downsampled,\n",
        " palette=\"Greens_d\")"
      ],
      "execution_count": 0,
      "outputs": [
        {
          "output_type": "execute_result",
          "data": {
            "text/plain": [
              "<matplotlib.axes._subplots.AxesSubplot at 0x1a49a29550>"
            ]
          },
          "metadata": {
            "tags": []
          },
          "execution_count": 23
        },
        {
          "output_type": "display_data",
          "data": {
            "image/png": "[encoded data removed]",
            "text/plain": [
              "<Figure size 432x288 with 1 Axes>"
            ]
          },
          "metadata": {
            "tags": [],
            "needs_background": "light"
          }
        }
      ]
    },
    {
      "cell_type": "markdown",
      "metadata": {
        "id": "wz-VMiXFtalo",
        "colab_type": "text"
      },
      "source": [
        "### Text Cleaning"
      ]
    },
    {
      "cell_type": "code",
      "metadata": {
        "id": "wgH1Z2hStalp",
        "colab_type": "code",
        "colab": {}
      },
      "source": [
        "from nltk.stem.snowball import SnowballStemmer\n",
        "germanStemmer = SnowballStemmer(\"german\")"
      ],
      "execution_count": 0,
      "outputs": []
    },
    {
      "cell_type": "code",
      "metadata": {
        "id": "hglXaa5mtalt",
        "colab_type": "code",
        "colab": {},
        "outputId": "be750280-eee3-45ad-e8b4-951a1257d6d1"
      },
      "source": [
        "import nltk\n",
        "from nltk.tokenize import word_tokenize\n",
        "from nltk.corpus import stopwords\n",
        "from nltk.stem import WordNetLemmatizer\n",
        "from nltk.corpus import wordnet\n",
        "nltk.download('punkt')\n",
        "nltk.download('averaged_perceptron_tagger')\n",
        "nltk.download('wordnet')"
      ],
      "execution_count": 0,
      "outputs": [
        {
          "output_type": "stream",
          "text": [
            "[nltk_data] Downloading package punkt to /Users/sraehles/nltk_data...\n",
            "[nltk_data]   Package punkt is already up-to-date!\n",
            "[nltk_data] Downloading package averaged_perceptron_tagger to\n",
            "[nltk_data]     /Users/sraehles/nltk_data...\n",
            "[nltk_data]   Package averaged_perceptron_tagger is already up-to-\n",
            "[nltk_data]       date!\n",
            "[nltk_data] Downloading package wordnet to\n",
            "[nltk_data]     /Users/sraehles/nltk_data...\n",
            "[nltk_data]   Package wordnet is already up-to-date!\n"
          ],
          "name": "stderr"
        },
        {
          "output_type": "execute_result",
          "data": {
            "text/plain": [
              "True"
            ]
          },
          "metadata": {
            "tags": []
          },
          "execution_count": 25
        }
      ]
    },
    {
      "cell_type": "code",
      "metadata": {
        "id": "sX2wSJY5talw",
        "colab_type": "code",
        "colab": {}
      },
      "source": [
        "## currently not used as tweets are in german\n",
        "\n",
        "# Lemmatize with POS Tag\n",
        "lemmatizer = WordNetLemmatizer()\n",
        "\n",
        "def get_wordnet_pos(word):\n",
        "    \"\"\"Map POS tag to first character lemmatize() accepts\"\"\"\n",
        "    tag = nltk.pos_tag([word])[0][1][0].upper()\n",
        "    tag_dict = {\"J\": wordnet.ADJ,\n",
        "                \"N\": wordnet.NOUN,\n",
        "                \"V\": wordnet.VERB,\n",
        "                \"R\": wordnet.ADV}\n",
        "\n",
        "    return tag_dict.get(tag, wordnet.NOUN)"
      ],
      "execution_count": 0,
      "outputs": []
    },
    {
      "cell_type": "code",
      "metadata": {
        "id": "5Vyp7AxTtalz",
        "colab_type": "code",
        "colab": {}
      },
      "source": [
        "def clean_sentences(df):\n",
        "    tweets = []\n",
        "\n",
        "    for sent in df:\n",
        "\n",
        "        #remove links\n",
        "        tweet = re.sub(r'http\\S+', '', sent, flags=re.MULTILINE)\n",
        "\n",
        "        #remove non-alphabetic characters\n",
        "        tweet = re.sub(\"[^a-zöüäA-ZÜÖÄ]\",\" \", tweet)\n",
        "    \n",
        "        # Tokenize the sentences\n",
        "        words = word_tokenize(tweet.lower(), language = 'german')\n",
        "  \n",
        "        # Lemmatize each word to its lemma\n",
        "        #lemma_words = [germanStemmer.stem(i) for i in words]\n",
        "\n",
        "        tweets.append(words)\n",
        "\n",
        "    return(tweets)"
      ],
      "execution_count": 0,
      "outputs": []
    },
    {
      "cell_type": "code",
      "metadata": {
        "id": "f3ja9zpptal1",
        "colab_type": "code",
        "colab": {},
        "outputId": "628238cc-8fb5-497a-d2fb-25c2824d35d3"
      },
      "source": [
        "start = time.time()\n",
        "X_text_clean = clean_sentences(df_downsampled['text'].astype(str))\n",
        "end = time.time()\n",
        "print('Time for tokenization with 100% of data:', (end-start)/60)"
      ],
      "execution_count": 0,
      "outputs": [
        {
          "output_type": "stream",
          "text": [
            "Time for tokenization with 100% of data: 0.10825800100962321\n"
          ],
          "name": "stdout"
        }
      ]
    },
    {
      "cell_type": "code",
      "metadata": {
        "id": "P0MEEwVEtal4",
        "colab_type": "code",
        "colab": {},
        "outputId": "d7f59aba-e791-4d4b-9741-cc9f3b482684"
      },
      "source": [
        "print('Before preprocessing: \\t', df_downsampled.text.iloc[0])\n",
        "print('After preprocessing: \\t', X_text_clean[0])"
      ],
      "execution_count": 0,
      "outputs": [
        {
          "output_type": "stream",
          "text": [
            "Before preprocessing: \t Wer Rettungsschirm gesagt hat, muss Hebel sagen - das ist seit Wochen klar, alles andere war Augenwischerei, nicht zuletzt von Schäuble\n",
            "After preprocessing: \t ['wer', 'rettungsschirm', 'gesagt', 'hat', 'muss', 'hebel', 'sagen', 'das', 'ist', 'seit', 'wochen', 'klar', 'alles', 'andere', 'war', 'augenwischerei', 'nicht', 'zuletzt', 'von', 'schäuble']\n"
          ],
          "name": "stdout"
        }
      ]
    },
    {
      "cell_type": "code",
      "metadata": {
        "id": "zjzbnojNtal7",
        "colab_type": "code",
        "colab": {},
        "outputId": "21c63834-cfc9-4a32-b24f-d59d38e8da6b"
      },
      "source": [
        "full_text = []\n",
        "\n",
        "for tweet in X_text_clean:\n",
        "  for token in tweet:\n",
        "    full_text.append(token)\n",
        "\n",
        "print('Total number of tweets: \\t', len(X_text_clean))\n",
        "print('Total number of tokens: \\t', len(full_text))\n",
        "print('Average tweet length: \\t \\t', len(full_text)/len(X_text_clean))"
      ],
      "execution_count": 0,
      "outputs": [
        {
          "output_type": "stream",
          "text": [
            "Total number of tweets: \t 48544\n",
            "Total number of tokens: \t 705726\n",
            "Average tweet length: \t \t 14.537862557679631\n"
          ],
          "name": "stdout"
        }
      ]
    },
    {
      "cell_type": "code",
      "metadata": {
        "id": "O7o8MTAYtal-",
        "colab_type": "code",
        "colab": {},
        "outputId": "b2b30602-fce1-4a38-989c-d426bca3e019"
      },
      "source": [
        "import collections\n",
        "# Create a Wordcloud\n",
        "nltk.download('stopwords')\n",
        "\n",
        "from nltk.corpus import stopwords\n",
        "stop_words = stopwords.words(\"german\")\n",
        "stop_words.append('amp')\n",
        "stop_words.append('gt')"
      ],
      "execution_count": 0,
      "outputs": [
        {
          "output_type": "stream",
          "text": [
            "[nltk_data] Downloading package stopwords to\n",
            "[nltk_data]     /Users/sraehles/nltk_data...\n",
            "[nltk_data]   Package stopwords is already up-to-date!\n"
          ],
          "name": "stderr"
        }
      ]
    },
    {
      "cell_type": "code",
      "metadata": {
        "id": "QKrYam-jtamB",
        "colab_type": "code",
        "colab": {}
      },
      "source": [
        "wordcount = collections.defaultdict(int)\n",
        "\n",
        "for word in full_text:\n",
        "  if word not in stop_words:\n",
        "    wordcount[word] += 1\n",
        "\n",
        "# the x most used words\n",
        "to_print = 50\n",
        "\n",
        "mc = sorted(wordcount.items(), key=lambda k_v: k_v[1], reverse=True)[:to_print]"
      ],
      "execution_count": 0,
      "outputs": []
    },
    {
      "cell_type": "code",
      "metadata": {
        "id": "SGUYOFNFtamE",
        "colab_type": "code",
        "colab": {},
        "outputId": "20003e2d-7cc6-4899-c636-21c33fa854fc"
      },
      "source": [
        "# Show most occuring words\n",
        "for word, count in mc[0:50]:\n",
        "    print(word, \":\", count)"
      ],
      "execution_count": 0,
      "outputs": [
        {
          "output_type": "stream",
          "text": [
            "heute : 3238\n",
            "npd : 3047\n",
            "mehr : 1822\n",
            "mal : 1605\n",
            "deutschland : 1490\n",
            "geht : 1443\n",
            "schon : 1417\n",
            "ja : 1361\n",
            "cdu : 1318\n",
            "rt : 1311\n",
            "spd : 1277\n",
            "immer : 1105\n",
            "wer : 1103\n",
            "afd : 1031\n",
            "gibt : 996\n",
            "berlin : 975\n",
            "beim : 959\n",
            "youtube : 928\n",
            "gut : 889\n",
            "fdp : 858\n",
            "nrw : 849\n",
            "gro : 843\n",
            "e : 842\n",
            "morgen : 835\n",
            "linke : 818\n",
            "danke : 807\n",
            "europa : 805\n",
            "gute : 765\n",
            "s : 756\n",
            "gerade : 756\n",
            "eu : 743\n",
            "merkel : 720\n",
            "statt : 713\n",
            "müssen : 708\n",
            "a : 697\n",
            "jn : 697\n",
            "ab : 686\n",
            "en : 684\n",
            "tag : 672\n",
            "land : 670\n",
            "menschen : 663\n",
            "video : 653\n",
            "wurde : 639\n",
            "beitrag : 629\n",
            "zeit : 626\n",
            "politik : 618\n",
            "macht : 614\n",
            "sachsen : 612\n",
            "neue : 601\n",
            "neuer : 583\n"
          ],
          "name": "stdout"
        }
      ]
    },
    {
      "cell_type": "code",
      "metadata": {
        "id": "1gfRGyPktamG",
        "colab_type": "code",
        "colab": {}
      },
      "source": [
        "# remove parties and single characters from the tweets\n",
        "remove = ['spd', 'ddw', 'afd', 'linke', 'cdu', 'npd', 'gruene', 'grüne','fdp', 'csu',\n",
        "          'a', 'b', 'c', 'd', 'e', 'f', 'g', 'h','i', 'j','k','l','m','n','o','p','q',\n",
        "          'r','s','t','u','v','w','x','y','z']\n",
        "\n",
        "X_text = []\n",
        "\n",
        "for tweet in X_text_clean:\n",
        "  X_text.append([word for word in tweet if word not in remove])"
      ],
      "execution_count": 0,
      "outputs": []
    },
    {
      "cell_type": "code",
      "metadata": {
        "id": "pFl8fadDtamJ",
        "colab_type": "code",
        "colab": {}
      },
      "source": [
        "full_text = []\n",
        "\n",
        "for tweet in X_text:\n",
        "  for token in tweet:\n",
        "    full_text.append(token)"
      ],
      "execution_count": 0,
      "outputs": []
    },
    {
      "cell_type": "code",
      "metadata": {
        "id": "WjPMizW-tamN",
        "colab_type": "code",
        "colab": {}
      },
      "source": [
        "wordcount = collections.defaultdict(int)\n",
        "\n",
        "for word in full_text:\n",
        "  if word not in stop_words:\n",
        "    wordcount[word] += 1\n",
        "\n",
        "# the x most used words\n",
        "to_print = 50\n",
        "\n",
        "mc = sorted(wordcount.items(), key=lambda k_v: k_v[1], reverse=True)[:to_print]"
      ],
      "execution_count": 0,
      "outputs": []
    },
    {
      "cell_type": "code",
      "metadata": {
        "id": "AJ7woMtCtamP",
        "colab_type": "code",
        "colab": {},
        "outputId": "20cfc127-6ecf-4bdf-deee-2162b3e9c46f"
      },
      "source": [
        "# Show most occuring words\n",
        "for word, count in mc[0:50]:\n",
        "    print(word, \":\", count)"
      ],
      "execution_count": 0,
      "outputs": [
        {
          "output_type": "stream",
          "text": [
            "heute : 3238\n",
            "mehr : 1822\n",
            "mal : 1605\n",
            "deutschland : 1490\n",
            "geht : 1443\n",
            "schon : 1417\n",
            "ja : 1361\n",
            "rt : 1311\n",
            "immer : 1105\n",
            "wer : 1103\n",
            "gibt : 996\n",
            "berlin : 975\n",
            "beim : 959\n",
            "youtube : 928\n",
            "gut : 889\n",
            "nrw : 849\n",
            "gro : 843\n",
            "morgen : 835\n",
            "danke : 807\n",
            "europa : 805\n",
            "gute : 765\n",
            "gerade : 756\n",
            "eu : 743\n",
            "merkel : 720\n",
            "statt : 713\n",
            "müssen : 708\n",
            "jn : 697\n",
            "ab : 686\n",
            "en : 684\n",
            "tag : 672\n",
            "land : 670\n",
            "menschen : 663\n",
            "video : 653\n",
            "wurde : 639\n",
            "beitrag : 629\n",
            "zeit : 626\n",
            "politik : 618\n",
            "macht : 614\n",
            "sachsen : 612\n",
            "neue : 601\n",
            "neuer : 583\n",
            "de : 565\n",
            "recht : 552\n",
            "deutschen : 551\n",
            "viele : 548\n",
            "ganz : 545\n",
            "deutsche : 532\n",
            "endlich : 523\n",
            "facebook : 499\n",
            "kommt : 498\n"
          ],
          "name": "stdout"
        }
      ]
    },
    {
      "cell_type": "code",
      "metadata": {
        "id": "TJqmtq8etamU",
        "colab_type": "code",
        "colab": {},
        "outputId": "c199758e-28d0-4287-baa4-23278db559ab"
      },
      "source": [
        "print(df.shape)\n",
        "print(df_afd.shape)\n",
        "print(df_downsampled.shape)"
      ],
      "execution_count": 0,
      "outputs": [
        {
          "output_type": "stream",
          "text": [
            "(413394, 18)\n",
            "(55943, 17)\n",
            "(48544, 18)\n"
          ],
          "name": "stdout"
        }
      ]
    },
    {
      "cell_type": "markdown",
      "metadata": {
        "id": "eKR8fbC3tamX",
        "colab_type": "text"
      },
      "source": [
        "### Export the final data for our model "
      ]
    },
    {
      "cell_type": "code",
      "metadata": {
        "id": "QFlIht4OtamY",
        "colab_type": "code",
        "colab": {}
      },
      "source": [
        "df.to_csv('df_all_accounts.csv', index=False)\n",
        "df_afd.to_csv('df_afd.csv', index=False)\n",
        "df_downsampled.to_csv('df_downsampled.csv', index=False)"
      ],
      "execution_count": 0,
      "outputs": []
    },
    {
      "cell_type": "code",
      "metadata": {
        "id": "bhpbHB49tama",
        "colab_type": "code",
        "colab": {}
      },
      "source": [
        ""
      ],
      "execution_count": 0,
      "outputs": []
    }
  ]
}