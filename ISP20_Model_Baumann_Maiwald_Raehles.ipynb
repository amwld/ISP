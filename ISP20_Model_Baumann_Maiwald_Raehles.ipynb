{
  "nbformat": 4,
  "nbformat_minor": 0,
  "metadata": {
    "colab": {
      "name": "ISP_BERT_FINAL.ipynb",
      "provenance": [],
      "toc_visible": true
    },
    "kernelspec": {
      "name": "python3",
      "display_name": "Python 3"
    },
    "accelerator": "GPU"
  },
  "cells": [
    {
      "cell_type": "markdown",
      "metadata": {
        "id": "JgeUEPxfSzVi",
        "colab_type": "text"
      },
      "source": [
        "### IT Security and Privacy\n",
        "### HU WS 2019/2020\n",
        "# Extremism Detection: BERT Model\n"
      ]
    },
    {
      "cell_type": "markdown",
      "metadata": {
        "id": "tIZV9ybgAWAe",
        "colab_type": "text"
      },
      "source": [
        "*Amanda Maiwald, 599665, maiwald@posteo.de* \\\\\n",
        "*Lukas Baumann, 597742, lukasb94@gmx.de* \\\\\n",
        "Simon Rähles, 600785, s.raehles@me.com \\\\"
      ]
    },
    {
      "cell_type": "markdown",
      "metadata": {
        "id": "0ecm7pPUAWPY",
        "colab_type": "text"
      },
      "source": [
        "---"
      ]
    },
    {
      "cell_type": "markdown",
      "metadata": {
        "id": "KW6I3oC6BClG",
        "colab_type": "text"
      },
      "source": [
        "# Setup"
      ]
    },
    {
      "cell_type": "code",
      "metadata": {
        "id": "_VvEj3IkkewE",
        "colab_type": "code",
        "outputId": "0e60dea9-46b6-45a6-86d6-23e7afcb1c18",
        "colab": {
          "base_uri": "https://localhost:8080/",
          "height": 82
        }
      },
      "source": [
        "import pandas as pd\n",
        "import numpy as np\n",
        "import seaborn as sns\n",
        "import matplotlib.pyplot as plt\n",
        "%matplotlib inline\n",
        "\n",
        "from sklearn.model_selection import StratifiedKFold, cross_val_score, train_test_split, KFold\n",
        "import random\n",
        "\n",
        "from sklearn.model_selection import cross_validate\n",
        "from sklearn.metrics import roc_auc_score, average_precision_score\n",
        "from sklearn.feature_extraction.text import TfidfVectorizer\n",
        "\n",
        "from keras.preprocessing import text, sequence\n",
        "from keras.layers import Embedding, SpatialDropout1D\n",
        "from keras.models import Model, Sequential\n",
        "from keras.layers import Dense, Embedding, Input\n",
        "from keras.optimizers import RMSprop\n",
        "import keras.backend as K\n",
        "from keras.layers import Dense, Input, GRU, LSTM, Bidirectional, Dropout, CuDNNLSTM, CuDNNGRU\n",
        "from sklearn.metrics import average_precision_score, roc_auc_score\n",
        "from sklearn.model_selection import StratifiedKFold"
      ],
      "execution_count": 0,
      "outputs": [
        {
          "output_type": "stream",
          "text": [
            "Using TensorFlow backend.\n"
          ],
          "name": "stderr"
        },
        {
          "output_type": "display_data",
          "data": {
            "text/html": [
              "<p style=\"color: red;\">\n",
              "The default version of TensorFlow in Colab will soon switch to TensorFlow 2.x.<br>\n",
              "We recommend you <a href=\"https://www.tensorflow.org/guide/migrate\" target=\"_blank\">upgrade</a> now \n",
              "or ensure your notebook will continue to use TensorFlow 1.x via the <code>%tensorflow_version 1.x</code> magic:\n",
              "<a href=\"https://colab.research.google.com/notebooks/tensorflow_version.ipynb\" target=\"_blank\">more info</a>.</p>\n"
            ],
            "text/plain": [
              "<IPython.core.display.HTML object>"
            ]
          },
          "metadata": {
            "tags": []
          }
        }
      ]
    },
    {
      "cell_type": "code",
      "metadata": {
        "id": "4Jd-73F0h7gI",
        "colab_type": "code",
        "outputId": "dcc87e43-0b3e-47d4-dc77-f72cc5e0ca04",
        "colab": {
          "base_uri": "https://localhost:8080/",
          "height": 125
        }
      },
      "source": [
        "from google.colab import drive\n",
        "drive.mount('/content/drive')"
      ],
      "execution_count": 0,
      "outputs": [
        {
          "output_type": "stream",
          "text": [
            "Go to this URL in a browser: https://accounts.google.com/o/oauth2/auth?client_id=947318989803-6bn6qk8qdgf4n4g3pfee6491hc0brc4i.apps.googleusercontent.com&redirect_uri=urn%3aietf%3awg%3aoauth%3a2.0%3aoob&response_type=code&scope=email%20https%3a%2f%2fwww.googleapis.com%2fauth%2fdocs.test%20https%3a%2f%2fwww.googleapis.com%2fauth%2fdrive%20https%3a%2f%2fwww.googleapis.com%2fauth%2fdrive.photos.readonly%20https%3a%2f%2fwww.googleapis.com%2fauth%2fpeopleapi.readonly\n",
            "\n",
            "Enter your authorization code:\n",
            "··········\n",
            "Mounted at /content/drive\n"
          ],
          "name": "stdout"
        }
      ]
    },
    {
      "cell_type": "code",
      "metadata": {
        "id": "yITHPqQbYB2P",
        "colab_type": "code",
        "colab": {}
      },
      "source": [
        "# Amanda's directory structure\n",
        "input_dir_am = \"/content/drive/My Drive/ISP_Extremism_Detection/ISP_Colab/Input/\"\n",
        "output_dir_am = \"/content/drive/My Drive/ISP_Extremism_Detection/ISP_Colab/Output/\""
      ],
      "execution_count": 0,
      "outputs": []
    },
    {
      "cell_type": "code",
      "metadata": {
        "id": "k40sKW0Ji8oN",
        "colab_type": "code",
        "colab": {}
      },
      "source": [
        "# Amanda directory structure\n",
        "base_dir = '/content/drive/My Drive/ISP_Extremism_Detection/ISP_Colab/'\n",
        "data_dir = base_dir + 'Input/'\n",
        "model_dir = base_dir + 'Model_Output_BERT'\n",
        "output_dir = output_dir_am"
      ],
      "execution_count": 0,
      "outputs": []
    },
    {
      "cell_type": "code",
      "metadata": {
        "id": "1J6yeN0zjP3_",
        "colab_type": "code",
        "colab": {}
      },
      "source": [
        "df = pd.read_csv(data_dir + 'df_downsampled.csv') \n",
        "afd = pd.read_csv(data_dir + 'df_afd.csv') "
      ],
      "execution_count": 0,
      "outputs": []
    },
    {
      "cell_type": "code",
      "metadata": {
        "id": "dOApla6SbC4V",
        "colab_type": "code",
        "outputId": "95395b75-a748-4c9d-f440-0b03bb6a9d10",
        "colab": {
          "base_uri": "https://localhost:8080/",
          "height": 187
        }
      },
      "source": [
        "df.head(1)"
      ],
      "execution_count": 0,
      "outputs": [
        {
          "output_type": "execute_result",
          "data": {
            "text/html": [
              "<div>\n",
              "<style scoped>\n",
              "    .dataframe tbody tr th:only-of-type {\n",
              "        vertical-align: middle;\n",
              "    }\n",
              "\n",
              "    .dataframe tbody tr th {\n",
              "        vertical-align: top;\n",
              "    }\n",
              "\n",
              "    .dataframe thead th {\n",
              "        text-align: right;\n",
              "    }\n",
              "</style>\n",
              "<table border=\"1\" class=\"dataframe\">\n",
              "  <thead>\n",
              "    <tr style=\"text-align: right;\">\n",
              "      <th></th>\n",
              "      <th>Unnamed: 0</th>\n",
              "      <th>Unnamed: 0.1</th>\n",
              "      <th>user</th>\n",
              "      <th>id</th>\n",
              "      <th>permalink</th>\n",
              "      <th>to</th>\n",
              "      <th>text</th>\n",
              "      <th>date</th>\n",
              "      <th>retweets</th>\n",
              "      <th>favorites</th>\n",
              "      <th>mentions</th>\n",
              "      <th>hashtags</th>\n",
              "      <th>geo</th>\n",
              "      <th>name</th>\n",
              "      <th>party</th>\n",
              "      <th>position</th>\n",
              "      <th>since</th>\n",
              "      <th>label</th>\n",
              "    </tr>\n",
              "  </thead>\n",
              "  <tbody>\n",
              "    <tr>\n",
              "      <th>0</th>\n",
              "      <td>277085</td>\n",
              "      <td>100921</td>\n",
              "      <td>katjadoerner</td>\n",
              "      <td>129128258263449601</td>\n",
              "      <td>https://twitter.com/katjadoerner/status/129128...</td>\n",
              "      <td>NaN</td>\n",
              "      <td>Wer Rettungsschirm gesagt hat, muss Hebel sage...</td>\n",
              "      <td>2011-10-26 09:32:30+00:00</td>\n",
              "      <td>3.0</td>\n",
              "      <td>0.0</td>\n",
              "      <td>NaN</td>\n",
              "      <td>NaN</td>\n",
              "      <td>NaN</td>\n",
              "      <td>Katja Dörner</td>\n",
              "      <td>Gruene</td>\n",
              "      <td>MdB</td>\n",
              "      <td>2009-01-01</td>\n",
              "      <td>non_extremist</td>\n",
              "    </tr>\n",
              "  </tbody>\n",
              "</table>\n",
              "</div>"
            ],
            "text/plain": [
              "   Unnamed: 0  Unnamed: 0.1          user  ... position       since          label\n",
              "0      277085        100921  katjadoerner  ...      MdB  2009-01-01  non_extremist\n",
              "\n",
              "[1 rows x 18 columns]"
            ]
          },
          "metadata": {
            "tags": []
          },
          "execution_count": 6
        }
      ]
    },
    {
      "cell_type": "markdown",
      "metadata": {
        "id": "34XU97_uBPNQ",
        "colab_type": "text"
      },
      "source": [
        "# Data Preprocessing"
      ]
    },
    {
      "cell_type": "code",
      "metadata": {
        "id": "rDrpKLrMh5PI",
        "colab_type": "code",
        "colab": {}
      },
      "source": [
        "# fill in case text is empty\n",
        "df.text.fillna(\"empty\", inplace=True)\n",
        "afd.text.fillna(\"empty\", inplace=True)\n",
        "\n",
        "# drop unnecessary columns\n",
        "df.drop(df.columns[[0, 1]], axis = 1, inplace = True) \n",
        "afd.drop(afd.columns[[0, 1]], axis = 1, inplace = True) "
      ],
      "execution_count": 0,
      "outputs": []
    },
    {
      "cell_type": "code",
      "metadata": {
        "id": "eAXnKRtydVIa",
        "colab_type": "code",
        "colab": {}
      },
      "source": [
        "# \"CDU \" to \"CDU\"\n",
        "df['party'] = df['party'].replace('CDU ', 'CDU')"
      ],
      "execution_count": 0,
      "outputs": []
    },
    {
      "cell_type": "code",
      "metadata": {
        "id": "ICWfBROwg0Wz",
        "colab_type": "code",
        "outputId": "14f523c3-8fa6-4f7a-d7fb-bb57d296c29b",
        "colab": {
          "base_uri": "https://localhost:8080/",
          "height": 35
        }
      },
      "source": [
        "# remove parties from the tweets\n",
        "import re\n",
        "parties = ['spd', 'ddw', 'afd', 'linke', 'cdu', 'npd', 'gruene', 'grüne','fdp', 'csu']\n",
        "partiesRegex = re.compile(\"|\".join(parties), re.IGNORECASE)\n",
        "sent = 'This Person is a member of the SPD and spd http.fe'\n",
        "partiesRegex.sub(\"\", sent)"
      ],
      "execution_count": 0,
      "outputs": [
        {
          "output_type": "execute_result",
          "data": {
            "text/plain": [
              "'This Person is a member of the  and  http.fe'"
            ]
          },
          "metadata": {
            "tags": []
          },
          "execution_count": 9
        }
      ]
    },
    {
      "cell_type": "code",
      "metadata": {
        "id": "Xi8vOpRFjP3T",
        "colab_type": "code",
        "colab": {}
      },
      "source": [
        "# remove party names from text\n",
        "df['text'] =  df['text'].apply(lambda x: partiesRegex.sub(\"\", str(x)))\n",
        "afd['text'] =  afd['text'].apply(lambda x: partiesRegex.sub(\"\", str(x)))"
      ],
      "execution_count": 0,
      "outputs": []
    },
    {
      "cell_type": "code",
      "metadata": {
        "id": "54yG9ccL-K6P",
        "colab_type": "code",
        "colab": {}
      },
      "source": [
        "# remove links and non alphabetic letters\n",
        "df['text'] =  df['text'].apply(lambda x: re.sub(r'http\\S+',\" \", str(x), flags=re.MULTILINE))\n",
        "df['text'] =  df['text'].apply(lambda x: re.sub(\"[^a-zöüäA-ZÜÖÄ]\",\" \", str(x)))\n",
        "\n",
        "afd['text'] =  afd['text'].apply(lambda x: re.sub(r'http\\S+',\" \", str(x), flags=re.MULTILINE))\n",
        "afd['text'] =  afd['text'].apply(lambda x: re.sub(\"[^a-zöüäA-ZÜÖÄ]\",\" \", str(x)))"
      ],
      "execution_count": 0,
      "outputs": []
    },
    {
      "cell_type": "code",
      "metadata": {
        "id": "bHxabLx3jUNM",
        "colab_type": "code",
        "colab": {}
      },
      "source": [
        "# split into stratified train, validation and test set\n",
        "from sklearn.model_selection import train_test_split\n",
        "RS = 42\n",
        "X_train, X_test, y_train, y_test  = train_test_split(df, df.label, stratify=df.label, test_size=0.10, random_state=RS)\n",
        "X_train, X_val, y_train, y_val  = train_test_split(X_train, X_train.label, stratify=X_train.label, test_size=0.25, random_state=RS)"
      ],
      "execution_count": 0,
      "outputs": []
    },
    {
      "cell_type": "code",
      "metadata": {
        "id": "z30EFvpSle-K",
        "colab_type": "code",
        "colab": {}
      },
      "source": [
        "# create test data set WITH afd tweets\n",
        "afd_sample = afd.sample(1000, random_state = RS)\n",
        "afd_sample[\"label\"] = \"extremist\"\n",
        "X_afd = afd_sample.append(X_test)\n",
        "y_afd = afd_sample.label\n",
        "y_afd = y_afd.append(y_test)"
      ],
      "execution_count": 0,
      "outputs": []
    },
    {
      "cell_type": "code",
      "metadata": {
        "id": "rnD7NkGe9y3R",
        "colab_type": "code",
        "outputId": "f2959291-4b85-4e1e-bcc4-1ee61ccbf7c7",
        "colab": {
          "base_uri": "https://localhost:8080/",
          "height": 105
        }
      },
      "source": [
        "y_afd.describe() # test has 3428 extremist tweets"
      ],
      "execution_count": 0,
      "outputs": [
        {
          "output_type": "execute_result",
          "data": {
            "text/plain": [
              "count          5855\n",
              "unique            2\n",
              "top       extremist\n",
              "freq           3428\n",
              "Name: label, dtype: object"
            ]
          },
          "metadata": {
            "tags": []
          },
          "execution_count": 14
        }
      ]
    },
    {
      "cell_type": "code",
      "metadata": {
        "id": "BEG8oLXWfo2E",
        "colab_type": "code",
        "outputId": "c2636c14-f922-468e-d6f4-fbc68b805e5f",
        "colab": {
          "base_uri": "https://localhost:8080/",
          "height": 175
        }
      },
      "source": [
        "print(\"df shape: \", df.shape)\n",
        "print(\"Shape of X\")\n",
        "print(\"X_train shape: \", X_train.shape)\n",
        "print(\"X_val shape: \", X_val.shape)\n",
        "print(\"X_afd shape: \", X_afd.shape)\n",
        "print(\"Shape of y\")\n",
        "print(\"y_train shape: \", y_train.shape)\n",
        "print(\"y_val shape: \", y_val.shape)\n",
        "print(\"y_afd shape: \", y_afd.shape)"
      ],
      "execution_count": 0,
      "outputs": [
        {
          "output_type": "stream",
          "text": [
            "df shape:  (48544, 16)\n",
            "Shape of X\n",
            "X_train shape:  (32766, 16)\n",
            "X_val shape:  (10923, 16)\n",
            "X_afd shape:  (5855, 16)\n",
            "Shape of y\n",
            "y_train shape:  (32766,)\n",
            "y_val shape:  (10923,)\n",
            "y_afd shape:  (5855,)\n"
          ],
          "name": "stdout"
        }
      ]
    },
    {
      "cell_type": "markdown",
      "metadata": {
        "id": "2acsDv2bz-rV",
        "colab_type": "text"
      },
      "source": [
        "# Model\n"
      ]
    },
    {
      "cell_type": "code",
      "metadata": {
        "id": "-bqzOaLSjgEM",
        "colab_type": "code",
        "colab": {}
      },
      "source": [
        "# Parameters\n",
        "MAXLEN = 41 # was 256\n",
        "DROPOUT = 0\n",
        "RS = 42\n",
        "EPOCHS = 4\n",
        "BATCHSIZE = 64 # was 32\n",
        "MAX_LR=3e-5"
      ],
      "execution_count": 0,
      "outputs": []
    },
    {
      "cell_type": "code",
      "metadata": {
        "id": "EZNojmzcs-3t",
        "colab_type": "code",
        "colab": {}
      },
      "source": [
        "import numpy as np\n",
        "import pandas as pd\n",
        "\n",
        "from pathlib import Path\n",
        "from typing import *\n",
        "\n",
        "import torch\n",
        "import torch.optim as optim"
      ],
      "execution_count": 0,
      "outputs": []
    },
    {
      "cell_type": "code",
      "metadata": {
        "id": "uW2ydjlF0Bkp",
        "colab_type": "code",
        "colab": {}
      },
      "source": [
        "from fastai import *\n",
        "from fastai.vision import *\n",
        "from fastai.text import *\n",
        "from fastai.callbacks import *"
      ],
      "execution_count": 0,
      "outputs": []
    },
    {
      "cell_type": "code",
      "metadata": {
        "id": "DV0JaPny0EOu",
        "colab_type": "code",
        "outputId": "5fa7b969-7d98-477d-974d-a353d346e414",
        "colab": {
          "base_uri": "https://localhost:8080/",
          "height": 336
        }
      },
      "source": [
        "!pip install pytorch-pretrained-bert"
      ],
      "execution_count": 0,
      "outputs": [
        {
          "output_type": "stream",
          "text": [
            "Requirement already satisfied: pytorch-pretrained-bert in /usr/local/lib/python3.6/dist-packages (0.6.2)\n",
            "Requirement already satisfied: torch>=0.4.1 in /usr/local/lib/python3.6/dist-packages (from pytorch-pretrained-bert) (1.4.0)\n",
            "Requirement already satisfied: regex in /usr/local/lib/python3.6/dist-packages (from pytorch-pretrained-bert) (2019.12.20)\n",
            "Requirement already satisfied: requests in /usr/local/lib/python3.6/dist-packages (from pytorch-pretrained-bert) (2.21.0)\n",
            "Requirement already satisfied: numpy in /usr/local/lib/python3.6/dist-packages (from pytorch-pretrained-bert) (1.17.5)\n",
            "Requirement already satisfied: boto3 in /usr/local/lib/python3.6/dist-packages (from pytorch-pretrained-bert) (1.11.15)\n",
            "Requirement already satisfied: tqdm in /usr/local/lib/python3.6/dist-packages (from pytorch-pretrained-bert) (4.28.1)\n",
            "Requirement already satisfied: chardet<3.1.0,>=3.0.2 in /usr/local/lib/python3.6/dist-packages (from requests->pytorch-pretrained-bert) (3.0.4)\n",
            "Requirement already satisfied: idna<2.9,>=2.5 in /usr/local/lib/python3.6/dist-packages (from requests->pytorch-pretrained-bert) (2.8)\n",
            "Requirement already satisfied: urllib3<1.25,>=1.21.1 in /usr/local/lib/python3.6/dist-packages (from requests->pytorch-pretrained-bert) (1.24.3)\n",
            "Requirement already satisfied: certifi>=2017.4.17 in /usr/local/lib/python3.6/dist-packages (from requests->pytorch-pretrained-bert) (2019.11.28)\n",
            "Requirement already satisfied: s3transfer<0.4.0,>=0.3.0 in /usr/local/lib/python3.6/dist-packages (from boto3->pytorch-pretrained-bert) (0.3.3)\n",
            "Requirement already satisfied: jmespath<1.0.0,>=0.7.1 in /usr/local/lib/python3.6/dist-packages (from boto3->pytorch-pretrained-bert) (0.9.4)\n",
            "Requirement already satisfied: botocore<1.15.0,>=1.14.15 in /usr/local/lib/python3.6/dist-packages (from boto3->pytorch-pretrained-bert) (1.14.15)\n",
            "Requirement already satisfied: docutils<0.16,>=0.10 in /usr/local/lib/python3.6/dist-packages (from botocore<1.15.0,>=1.14.15->boto3->pytorch-pretrained-bert) (0.15.2)\n",
            "Requirement already satisfied: python-dateutil<3.0.0,>=2.1 in /usr/local/lib/python3.6/dist-packages (from botocore<1.15.0,>=1.14.15->boto3->pytorch-pretrained-bert) (2.6.1)\n",
            "Requirement already satisfied: six>=1.5 in /usr/local/lib/python3.6/dist-packages (from python-dateutil<3.0.0,>=2.1->botocore<1.15.0,>=1.14.15->boto3->pytorch-pretrained-bert) (1.12.0)\n"
          ],
          "name": "stdout"
        }
      ]
    },
    {
      "cell_type": "code",
      "metadata": {
        "id": "RnD-TEkgkZwW",
        "colab_type": "code",
        "colab": {}
      },
      "source": [
        "#BERT = \"bert-base-uncased\"\n",
        "BERT = \"bert-base-multilingual-cased\""
      ],
      "execution_count": 0,
      "outputs": []
    },
    {
      "cell_type": "code",
      "metadata": {
        "id": "z4Plq3UO0Gca",
        "colab_type": "code",
        "colab": {}
      },
      "source": [
        "class Config(dict):\n",
        "    def __init__(self, **kwargs):\n",
        "        super().__init__(**kwargs)\n",
        "        for k, v in kwargs.items():\n",
        "            setattr(self, k, v)\n",
        "    \n",
        "    def set(self, key, val):\n",
        "        self[key] = val\n",
        "        setattr(self, key, val)\n",
        "\n",
        "config = Config(\n",
        "    testing=False,\n",
        "    bert_model_name=BERT,\n",
        "    max_lr=MAX_LR,\n",
        "    epochs=EPOCHS,\n",
        "    use_fp16=True,\n",
        "    bs=BATCHSIZE,\n",
        "    discriminative=False,\n",
        "    max_seq_len=MAXLEN,\n",
        ")"
      ],
      "execution_count": 0,
      "outputs": []
    },
    {
      "cell_type": "code",
      "metadata": {
        "id": "oLguaaYY0IMO",
        "colab_type": "code",
        "outputId": "76d42c24-7bbb-426f-e778-a7068979c0f0",
        "colab": {
          "base_uri": "https://localhost:8080/",
          "height": 55
        }
      },
      "source": [
        "from pytorch_pretrained_bert import BertTokenizer\n",
        "bert_tok = BertTokenizer.from_pretrained(\n",
        "    config.bert_model_name,\n",
        ")"
      ],
      "execution_count": 0,
      "outputs": [
        {
          "output_type": "stream",
          "text": [
            "The pre-trained model you are loading is a cased model but you have not set `do_lower_case` to False. We are setting `do_lower_case=False` for you but you may want to check this behavior.\n"
          ],
          "name": "stderr"
        }
      ]
    },
    {
      "cell_type": "code",
      "metadata": {
        "id": "p-QWaN7y0KRT",
        "colab_type": "code",
        "colab": {}
      },
      "source": [
        "def _join_texts(texts:Collection[str], mark_fields:bool=False, sos_token:Optional[str]=BOS):\n",
        "    \"\"\"Borrowed from fast.ai source\"\"\"\n",
        "    if not isinstance(texts, np.ndarray): texts = np.array(texts)\n",
        "    if is1d(texts): texts = texts[:,None]\n",
        "    df = pd.DataFrame({i:texts[:,i] for i in range(texts.shape[1])})\n",
        "    text_col = f'{FLD} {1} ' + df[0].astype(str) if mark_fields else df[0].astype(str)\n",
        "    if sos_token is not None: text_col = f\"{sos_token} \" + text_col\n",
        "    for i in range(1,len(df.columns)):\n",
        "        #text_col += (f' {FLD} {i+1} ' if mark_fields else ' ') + df[i]\n",
        "        text_col += (f' {FLD} {i+1} ' if mark_fields else ' ') + df[i].astype(str)\n",
        "    return text_col.values"
      ],
      "execution_count": 0,
      "outputs": []
    },
    {
      "cell_type": "code",
      "metadata": {
        "id": "Z9QvPGsG0Mk-",
        "colab_type": "code",
        "colab": {}
      },
      "source": [
        "class FastAiBertTokenizer(BaseTokenizer):\n",
        "    \"\"\"Wrapper around BertTokenizer to be compatible with fast.ai\"\"\"\n",
        "    def __init__(self, tokenizer: BertTokenizer, max_seq_len: int=128, **kwargs):\n",
        "        self._pretrained_tokenizer = tokenizer\n",
        "        self.max_seq_len = max_seq_len\n",
        "\n",
        "    def __call__(self, *args, **kwargs):\n",
        "        return self\n",
        "\n",
        "    def tokenizer(self, t:str) -> List[str]:\n",
        "        \"\"\"Limits the maximum sequence length\"\"\"\n",
        "        return [\"[CLS]\"] + self._pretrained_tokenizer.tokenize(t)[:self.max_seq_len - 2] + [\"[SEP]\"]"
      ],
      "execution_count": 0,
      "outputs": []
    },
    {
      "cell_type": "code",
      "metadata": {
        "id": "yZlaf31hoi7J",
        "colab_type": "code",
        "colab": {}
      },
      "source": [
        "train = X_train.copy()\n",
        "val = X_val.copy()\n",
        "test = X_afd.copy()"
      ],
      "execution_count": 0,
      "outputs": []
    },
    {
      "cell_type": "code",
      "metadata": {
        "id": "k4cmRTw--x_Y",
        "colab_type": "code",
        "colab": {}
      },
      "source": [
        "# better format for following functions\n",
        "#train = pd.DataFrame(np.stack((X_train, pd.DataFrame(y_train)), axis = 1)).rename(columns={0: \"text\", 1: \"extremist\"})\n",
        "#val = pd.DataFrame(np.stack((X_val, y_val), axis = 1)).rename(columns={0: \"text\", 1: \"extremist\"})\n",
        "#test = pd.DataFrame(np.stack((X_afd, y_afd), axis = 1)).rename(columns={0: \"text\", 1: \"extremist\"})"
      ],
      "execution_count": 0,
      "outputs": []
    },
    {
      "cell_type": "code",
      "metadata": {
        "id": "EKcSVzCHo8DQ",
        "colab_type": "code",
        "colab": {}
      },
      "source": [
        "train.label = train.label == \"extremist\" # 1 = extremist, 0 = non_extremist\n",
        "train.label = train.label.astype(int)\n",
        "val.label = val.label == \"extremist\"\n",
        "val.label = val.label.astype(int)\n",
        "test.label = test.label == \"extremist\"\n",
        "test.label = test.label.astype(int)"
      ],
      "execution_count": 0,
      "outputs": []
    },
    {
      "cell_type": "code",
      "metadata": {
        "id": "sAV7pVf2YzeA",
        "colab_type": "code",
        "outputId": "93788884-3470-4b66-89b6-32e38c1d2e2b",
        "colab": {
          "base_uri": "https://localhost:8080/",
          "height": 504
        }
      },
      "source": [
        "test.tail()"
      ],
      "execution_count": 0,
      "outputs": [
        {
          "output_type": "execute_result",
          "data": {
            "text/html": [
              "<div>\n",
              "<style scoped>\n",
              "    .dataframe tbody tr th:only-of-type {\n",
              "        vertical-align: middle;\n",
              "    }\n",
              "\n",
              "    .dataframe tbody tr th {\n",
              "        vertical-align: top;\n",
              "    }\n",
              "\n",
              "    .dataframe thead th {\n",
              "        text-align: right;\n",
              "    }\n",
              "</style>\n",
              "<table border=\"1\" class=\"dataframe\">\n",
              "  <thead>\n",
              "    <tr style=\"text-align: right;\">\n",
              "      <th></th>\n",
              "      <th>user</th>\n",
              "      <th>id</th>\n",
              "      <th>permalink</th>\n",
              "      <th>to</th>\n",
              "      <th>text</th>\n",
              "      <th>date</th>\n",
              "      <th>retweets</th>\n",
              "      <th>favorites</th>\n",
              "      <th>mentions</th>\n",
              "      <th>hashtags</th>\n",
              "      <th>geo</th>\n",
              "      <th>name</th>\n",
              "      <th>party</th>\n",
              "      <th>position</th>\n",
              "      <th>since</th>\n",
              "      <th>label</th>\n",
              "    </tr>\n",
              "  </thead>\n",
              "  <tbody>\n",
              "    <tr>\n",
              "      <th>29707</th>\n",
              "      <td>FrankFranz</td>\n",
              "      <td>387642073265889280</td>\n",
              "      <td>https://twitter.com/FrankFranz/status/38764207...</td>\n",
              "      <td>NaN</td>\n",
              "      <td>Sieht relativ eindeutig aus</td>\n",
              "      <td>2013-10-08 18:14:07+00:00</td>\n",
              "      <td>1.0</td>\n",
              "      <td>1.0</td>\n",
              "      <td>NaN</td>\n",
              "      <td>NaN</td>\n",
              "      <td>NaN</td>\n",
              "      <td>Frank Franz</td>\n",
              "      <td>NPD</td>\n",
              "      <td>Parteivorsitzender</td>\n",
              "      <td>2009-03-01</td>\n",
              "      <td>1</td>\n",
              "    </tr>\n",
              "    <tr>\n",
              "      <th>36046</th>\n",
              "      <td>RicardaRiefling</td>\n",
              "      <td>376244271969755136</td>\n",
              "      <td>https://twitter.com/RicardaRiefling/status/376...</td>\n",
              "      <td>NaN</td>\n",
              "      <td>Es spricht Markus Walter</td>\n",
              "      <td>2013-09-07 07:23:19+00:00</td>\n",
              "      <td>0.0</td>\n",
              "      <td>2.0</td>\n",
              "      <td>NaN</td>\n",
              "      <td>NaN</td>\n",
              "      <td>NaN</td>\n",
              "      <td>Ricarda Riefling</td>\n",
              "      <td>NPD</td>\n",
              "      <td>Familienpolitik</td>\n",
              "      <td>2009-07-01</td>\n",
              "      <td>1</td>\n",
              "    </tr>\n",
              "    <tr>\n",
              "      <th>18893</th>\n",
              "      <td>ArminLaschet</td>\n",
              "      <td>1061604183353319424</td>\n",
              "      <td>https://twitter.com/ArminLaschet/status/106160...</td>\n",
              "      <td>Barbara_Schnell</td>\n",
              "      <td>Bevor sich alle weiter in Spekulationen ergehe...</td>\n",
              "      <td>2018-11-11 12:58:55+00:00</td>\n",
              "      <td>1.0</td>\n",
              "      <td>2.0</td>\n",
              "      <td>NaN</td>\n",
              "      <td>NaN</td>\n",
              "      <td>NaN</td>\n",
              "      <td>Armin Laschet</td>\n",
              "      <td>CDU</td>\n",
              "      <td>Ministerpräsident NRW</td>\n",
              "      <td>2012-09-01</td>\n",
              "      <td>0</td>\n",
              "    </tr>\n",
              "    <tr>\n",
              "      <th>41547</th>\n",
              "      <td>claus_cremer</td>\n",
              "      <td>39729032237027328</td>\n",
              "      <td>https://twitter.com/claus_cremer/status/397290...</td>\n",
              "      <td>NaN</td>\n",
              "      <td>Guttenberg hat bei Professor aus NRW abgeschri...</td>\n",
              "      <td>2011-02-21 16:51:54+00:00</td>\n",
              "      <td>0.0</td>\n",
              "      <td>0.0</td>\n",
              "      <td>NaN</td>\n",
              "      <td>NaN</td>\n",
              "      <td>NaN</td>\n",
              "      <td>Claus Cremer</td>\n",
              "      <td>NPD</td>\n",
              "      <td>Landesvorsitzender Nordrhein-Westphalen</td>\n",
              "      <td>2009-03-01</td>\n",
              "      <td>1</td>\n",
              "    </tr>\n",
              "    <tr>\n",
              "      <th>6819</th>\n",
              "      <td>MikeMohring</td>\n",
              "      <td>385436541843427328</td>\n",
              "      <td>https://twitter.com/MikeMohring/status/3854365...</td>\n",
              "      <td>NaN</td>\n",
              "      <td>Mike  Mohring in den Hamburger  abendblatt new...</td>\n",
              "      <td>2013-10-02 16:10:07+00:00</td>\n",
              "      <td>0.0</td>\n",
              "      <td>0.0</td>\n",
              "      <td>@abendblatt_news</td>\n",
              "      <td>#Mohring</td>\n",
              "      <td>NaN</td>\n",
              "      <td>Mike Mohring</td>\n",
              "      <td>CDU</td>\n",
              "      <td>Landesvorsitzender Thüringen</td>\n",
              "      <td>2012-12-01</td>\n",
              "      <td>0</td>\n",
              "    </tr>\n",
              "  </tbody>\n",
              "</table>\n",
              "</div>"
            ],
            "text/plain": [
              "                  user                   id  ...       since label\n",
              "29707       FrankFranz   387642073265889280  ...  2009-03-01     1\n",
              "36046  RicardaRiefling   376244271969755136  ...  2009-07-01     1\n",
              "18893     ArminLaschet  1061604183353319424  ...  2012-09-01     0\n",
              "41547     claus_cremer    39729032237027328  ...  2009-03-01     1\n",
              "6819       MikeMohring   385436541843427328  ...  2012-12-01     0\n",
              "\n",
              "[5 rows x 16 columns]"
            ]
          },
          "metadata": {
            "tags": []
          },
          "execution_count": 28
        }
      ]
    },
    {
      "cell_type": "code",
      "metadata": {
        "id": "WSlzQaSI3jTV",
        "colab_type": "code",
        "colab": {}
      },
      "source": [
        "config.testing = False"
      ],
      "execution_count": 0,
      "outputs": []
    },
    {
      "cell_type": "code",
      "metadata": {
        "id": "NX63TF-a0Qex",
        "colab_type": "code",
        "colab": {}
      },
      "source": [
        "if config.testing:\n",
        "    train = train.head(1024)\n",
        "    val = val.head(1024)\n",
        "    test = test.head(1024)"
      ],
      "execution_count": 0,
      "outputs": []
    },
    {
      "cell_type": "code",
      "metadata": {
        "id": "KlAlnGc90Sb5",
        "colab_type": "code",
        "colab": {}
      },
      "source": [
        "fastai_bert_vocab = Vocab(list(bert_tok.vocab.keys()))"
      ],
      "execution_count": 0,
      "outputs": []
    },
    {
      "cell_type": "code",
      "metadata": {
        "id": "38jX71oE0UYK",
        "colab_type": "code",
        "colab": {}
      },
      "source": [
        "fastai_tokenizer = Tokenizer(tok_func=FastAiBertTokenizer(bert_tok, max_seq_len=config.max_seq_len), pre_rules=[], post_rules=[])"
      ],
      "execution_count": 0,
      "outputs": []
    },
    {
      "cell_type": "code",
      "metadata": {
        "id": "1NlN4Pe70WHE",
        "colab_type": "code",
        "colab": {}
      },
      "source": [
        "label_cols = [\"label\"]"
      ],
      "execution_count": 0,
      "outputs": []
    },
    {
      "cell_type": "code",
      "metadata": {
        "id": "il3NVgWG0aHx",
        "colab_type": "code",
        "colab": {}
      },
      "source": [
        "class BertTokenizeProcessor(TokenizeProcessor):\n",
        "    def __init__(self, tokenizer):\n",
        "        super().__init__(tokenizer=tokenizer, include_bos=False, include_eos=False)\n",
        "\n",
        "class BertNumericalizeProcessor(NumericalizeProcessor):\n",
        "    def __init__(self, *args, **kwargs):\n",
        "        super().__init__(*args, vocab=Vocab(list(bert_tok.vocab.keys())), **kwargs)\n",
        "\n",
        "def get_bert_processor(tokenizer:Tokenizer=None, vocab:Vocab=None):\n",
        "    \"\"\"\n",
        "    Constructing preprocessors for BERT\n",
        "    We remove sos/eos tokens since we add that ourselves in the tokenizer.\n",
        "    We also use a custom vocabulary to match the numericalization with the original BERT model.\n",
        "    \"\"\"\n",
        "    return [BertTokenizeProcessor(tokenizer=tokenizer),\n",
        "            NumericalizeProcessor(vocab=vocab)]"
      ],
      "execution_count": 0,
      "outputs": []
    },
    {
      "cell_type": "code",
      "metadata": {
        "id": "c0vD7i8-0c8M",
        "colab_type": "code",
        "colab": {}
      },
      "source": [
        "class BertDataBunch(TextDataBunch):\n",
        "    @classmethod\n",
        "    def from_df(cls, path:PathOrStr, train_df:DataFrame, valid_df:DataFrame, test_df:Optional[DataFrame]=None,\n",
        "                tokenizer:Tokenizer=None, vocab:Vocab=None, classes:Collection[str]=None, text_cols:IntsOrStrs=1,\n",
        "                label_cols:IntsOrStrs=0, label_delim:str=None, **kwargs) -> DataBunch:\n",
        "        \"Create a `TextDataBunch` from DataFrames.\"\n",
        "        p_kwargs, kwargs = split_kwargs_by_func(kwargs, get_bert_processor)\n",
        "        # use our custom processors while taking tokenizer and vocab as kwargs\n",
        "        processor = get_bert_processor(tokenizer=tokenizer, vocab=vocab, **p_kwargs)\n",
        "        if classes is None and is_listy(label_cols) and len(label_cols) > 1: classes = label_cols\n",
        "        src = ItemLists(path, TextList.from_df(train_df, path, cols=text_cols, processor=processor),\n",
        "                        TextList.from_df(valid_df, path, cols=text_cols, processor=processor))\n",
        "        src = src.label_for_lm() if cls==TextLMDataBunch else src.label_from_df(cols=label_cols, classes=classes)\n",
        "        if test_df is not None: src.add_test(TextList.from_df(test_df, path, cols=text_cols))\n",
        "        return src.databunch(**kwargs)"
      ],
      "execution_count": 0,
      "outputs": []
    },
    {
      "cell_type": "code",
      "metadata": {
        "id": "NBPAuFXD0fCn",
        "colab_type": "code",
        "outputId": "800357e0-6684-48cb-d36c-0a685bbb275e",
        "colab": {
          "base_uri": "https://localhost:8080/",
          "height": 17
        }
      },
      "source": [
        "# this will produce a virtually identical databunch to the code above\n",
        "databunch = BertDataBunch.from_df(\".\", train, val, test,\n",
        "                  tokenizer=fastai_tokenizer,\n",
        "                  vocab=fastai_bert_vocab,\n",
        "                  text_cols=\"text\",\n",
        "                  label_cols=\"label\",\n",
        "                  bs=config.bs,\n",
        "                  collate_fn=partial(pad_collate, pad_first=False, pad_idx=0),\n",
        "             )"
      ],
      "execution_count": 0,
      "outputs": [
        {
          "output_type": "display_data",
          "data": {
            "text/html": [
              ""
            ],
            "text/plain": [
              "<IPython.core.display.HTML object>"
            ]
          },
          "metadata": {
            "tags": []
          }
        },
        {
          "output_type": "display_data",
          "data": {
            "text/html": [
              ""
            ],
            "text/plain": [
              "<IPython.core.display.HTML object>"
            ]
          },
          "metadata": {
            "tags": []
          }
        },
        {
          "output_type": "display_data",
          "data": {
            "text/html": [
              ""
            ],
            "text/plain": [
              "<IPython.core.display.HTML object>"
            ]
          },
          "metadata": {
            "tags": []
          }
        }
      ]
    },
    {
      "cell_type": "code",
      "metadata": {
        "id": "kzaFe9BCSmem",
        "colab_type": "code",
        "outputId": "af9e972a-5fe5-46b1-c66a-10a954ea8171",
        "colab": {
          "base_uri": "https://localhost:8080/",
          "height": 258
        }
      },
      "source": [
        "databunch.show_batch()"
      ],
      "execution_count": 0,
      "outputs": [
        {
          "output_type": "display_data",
          "data": {
            "text/html": [
              "<table border=\"1\" class=\"dataframe\">\n",
              "  <thead>\n",
              "    <tr style=\"text-align: right;\">\n",
              "      <th>text</th>\n",
              "      <th>target</th>\n",
              "    </tr>\n",
              "  </thead>\n",
              "  <tbody>\n",
              "    <tr>\n",
              "      <td>[CLS] End ##lich eine P ##fe ##ifen ##rau ##cher ##in des Jahres Glück ##wu ##ns ##ch an Sonja Ki ##rch ##berger zu dieser Auszeichnung die sie letzte Woche vom V ##d ##R Ra ##ucht ##aba ##k erhielt Damit er ##obe [SEP]</td>\n",
              "      <td>0</td>\n",
              "    </tr>\n",
              "    <tr>\n",
              "      <td>[CLS] Abs ##chie ##bec ##halle ##nge Dan ##ke Rica ##rda ##R ##ief ##ling für die Nominierung Ich bene ##nne Abdul Da ##wood ##zai den M ##ör ##der von Mia aus Kan ##del Ich nomi ##nier ##e Angela vom Thing ##T [SEP]</td>\n",
              "      <td>1</td>\n",
              "    </tr>\n",
              "    <tr>\n",
              "      <td>[CLS] Die Wort ##wahl kommt nicht von uns das ist die Wort ##wahl der die hat diesen Begriff vermutlich ganz be ##wusst so genutzt Den ##n genau das ist es was sie plant Ein At ##tent ##at auf uns ##er [SEP]</td>\n",
              "      <td>0</td>\n",
              "    </tr>\n",
              "    <tr>\n",
              "      <td>[CLS] Wie ##der ein Beispiel für die Abs ##urd ##ität des Hart ##z IV Regime ##s Sp ##enden für ein to ##d ##kra ##nke ##s Kind im Hart ##z IV Bezug müssen viele H ##ürde ##n nehmen um zu hel [SEP]</td>\n",
              "      <td>0</td>\n",
              "    </tr>\n",
              "    <tr>\n",
              "      <td>[CLS] Sad but true Bei Zukunft ##s ##fragen wie dem Klima ##schutz ist Ende ##G ##ela ##ende um ein Vie ##lfa ##ches vera ##nt ##wort ##ung ##s ##be ##wusst ##er als die Staat ##s und Regierung ##schef ##s im Europäischen [SEP]</td>\n",
              "      <td>0</td>\n",
              "    </tr>\n",
              "  </tbody>\n",
              "</table>"
            ],
            "text/plain": [
              "<IPython.core.display.HTML object>"
            ]
          },
          "metadata": {
            "tags": []
          }
        }
      ]
    },
    {
      "cell_type": "markdown",
      "metadata": {
        "id": "FfNn8qcO0h-q",
        "colab_type": "text"
      },
      "source": [
        "## Training"
      ]
    },
    {
      "cell_type": "code",
      "metadata": {
        "id": "DnZwrTve0isW",
        "colab_type": "code",
        "colab": {}
      },
      "source": [
        "from pytorch_pretrained_bert.modeling import BertConfig, BertForSequenceClassification\n",
        "bert_model = BertForSequenceClassification.from_pretrained(config.bert_model_name, num_labels=2)"
      ],
      "execution_count": 0,
      "outputs": []
    },
    {
      "cell_type": "code",
      "metadata": {
        "id": "dn2uuqun0k0z",
        "colab_type": "code",
        "colab": {}
      },
      "source": [
        "loss_func = nn.CrossEntropyLoss()"
      ],
      "execution_count": 0,
      "outputs": []
    },
    {
      "cell_type": "code",
      "metadata": {
        "id": "IX8S9-lu0mzf",
        "colab_type": "code",
        "colab": {}
      },
      "source": [
        "from fastai.callbacks import *\n",
        "\n",
        "learner = Learner(\n",
        "    databunch,\n",
        "    bert_model,\n",
        "    loss_func = loss_func,\n",
        "    model_dir = model_dir\n",
        "    )\n",
        "if config.use_fp16: learner = learner.to_fp16()"
      ],
      "execution_count": 0,
      "outputs": []
    },
    {
      "cell_type": "code",
      "metadata": {
        "id": "WTn1EpjE0pMd",
        "colab_type": "code",
        "outputId": "d008d4a5-9495-4d42-cdc9-18117ddb210a",
        "colab": {
          "base_uri": "https://localhost:8080/",
          "height": 113
        }
      },
      "source": [
        "learner.lr_find()"
      ],
      "execution_count": 0,
      "outputs": [
        {
          "output_type": "display_data",
          "data": {
            "text/html": [
              "\n",
              "    <div>\n",
              "        <style>\n",
              "            /* Turns off some styling */\n",
              "            progress {\n",
              "                /* gets rid of default border in Firefox and Opera. */\n",
              "                border: none;\n",
              "                /* Needs to be in here for Safari polyfill so background images work as expected. */\n",
              "                background-size: auto;\n",
              "            }\n",
              "            .progress-bar-interrupted, .progress-bar-interrupted::-webkit-progress-bar {\n",
              "                background: #F44336;\n",
              "            }\n",
              "        </style>\n",
              "      <progress value='0' class='' max='1', style='width:300px; height:20px; vertical-align: middle;'></progress>\n",
              "      0.00% [0/1 00:00<00:00]\n",
              "    </div>\n",
              "    \n",
              "<table border=\"1\" class=\"dataframe\">\n",
              "  <thead>\n",
              "    <tr style=\"text-align: left;\">\n",
              "      <th>epoch</th>\n",
              "      <th>train_loss</th>\n",
              "      <th>valid_loss</th>\n",
              "      <th>time</th>\n",
              "    </tr>\n",
              "  </thead>\n",
              "  <tbody>\n",
              "  </tbody>\n",
              "</table><p>\n",
              "\n",
              "    <div>\n",
              "        <style>\n",
              "            /* Turns off some styling */\n",
              "            progress {\n",
              "                /* gets rid of default border in Firefox and Opera. */\n",
              "                border: none;\n",
              "                /* Needs to be in here for Safari polyfill so background images work as expected. */\n",
              "                background-size: auto;\n",
              "            }\n",
              "            .progress-bar-interrupted, .progress-bar-interrupted::-webkit-progress-bar {\n",
              "                background: #F44336;\n",
              "            }\n",
              "        </style>\n",
              "      <progress value='78' class='' max='511', style='width:300px; height:20px; vertical-align: middle;'></progress>\n",
              "      15.26% [78/511 02:27<13:39 2.7355]\n",
              "    </div>\n",
              "    "
            ],
            "text/plain": [
              "<IPython.core.display.HTML object>"
            ]
          },
          "metadata": {
            "tags": []
          }
        },
        {
          "output_type": "stream",
          "text": [
            "LR Finder is complete, type {learner_name}.recorder.plot() to see the graph.\n"
          ],
          "name": "stdout"
        }
      ]
    },
    {
      "cell_type": "code",
      "metadata": {
        "id": "6xyo-Q8l0rWS",
        "colab_type": "code",
        "outputId": "d09267f4-9b8b-4918-cf7b-1f9d4d8037bb",
        "colab": {
          "base_uri": "https://localhost:8080/",
          "height": 279
        }
      },
      "source": [
        "learner.recorder.plot()"
      ],
      "execution_count": 0,
      "outputs": [
        {
          "output_type": "display_data",
          "data": {
            "image/png": "[encoded data removed]",
            "text/plain": [
              "<Figure size 432x288 with 1 Axes>"
            ]
          },
          "metadata": {
            "tags": []
          }
        }
      ]
    },
    {
      "cell_type": "code",
      "metadata": {
        "id": "S56rhvR70tyC",
        "colab_type": "code",
        "outputId": "84d90fdf-950e-43a2-aaf9-89097574d549",
        "colab": {
          "base_uri": "https://localhost:8080/",
          "height": 175
        }
      },
      "source": [
        "\n",
        "learner.fit_one_cycle(config.epochs, max_lr=config.max_lr)"
      ],
      "execution_count": 0,
      "outputs": [
        {
          "output_type": "display_data",
          "data": {
            "text/html": [
              "<table border=\"1\" class=\"dataframe\">\n",
              "  <thead>\n",
              "    <tr style=\"text-align: left;\">\n",
              "      <th>epoch</th>\n",
              "      <th>train_loss</th>\n",
              "      <th>valid_loss</th>\n",
              "      <th>time</th>\n",
              "    </tr>\n",
              "  </thead>\n",
              "  <tbody>\n",
              "    <tr>\n",
              "      <td>0</td>\n",
              "      <td>0.436606</td>\n",
              "      <td>0.383239</td>\n",
              "      <td>18:46</td>\n",
              "    </tr>\n",
              "    <tr>\n",
              "      <td>1</td>\n",
              "      <td>0.329723</td>\n",
              "      <td>0.311039</td>\n",
              "      <td>18:09</td>\n",
              "    </tr>\n",
              "    <tr>\n",
              "      <td>2</td>\n",
              "      <td>0.222657</td>\n",
              "      <td>0.323784</td>\n",
              "      <td>19:17</td>\n",
              "    </tr>\n",
              "    <tr>\n",
              "      <td>3</td>\n",
              "      <td>0.139443</td>\n",
              "      <td>0.376595</td>\n",
              "      <td>19:23</td>\n",
              "    </tr>\n",
              "  </tbody>\n",
              "</table>"
            ],
            "text/plain": [
              "<IPython.core.display.HTML object>"
            ]
          },
          "metadata": {
            "tags": []
          }
        }
      ]
    },
    {
      "cell_type": "code",
      "metadata": {
        "id": "UAxZxARi0v1J",
        "colab_type": "code",
        "colab": {}
      },
      "source": [
        "def get_preds_as_nparray(ds_type) -> np.ndarray:\n",
        "    \"\"\"\n",
        "    the get_preds method does not yield the elements in order by default\n",
        "    we borrow the code from the RNNLearner to resort the elements into their correct order\n",
        "    \"\"\"\n",
        "    preds = learner.get_preds(ds_type)[0].detach().cpu().numpy()\n",
        "    sampler = [i for i in databunch.dl(ds_type).sampler]\n",
        "    reverse_sampler = np.argsort(sampler)\n",
        "    return preds[reverse_sampler, :]"
      ],
      "execution_count": 0,
      "outputs": []
    },
    {
      "cell_type": "code",
      "metadata": {
        "id": "GUHqOs-B0xe-",
        "colab_type": "code",
        "outputId": "bf3342a1-f090-488a-98b5-be6d0b5618ab",
        "colab": {
          "base_uri": "https://localhost:8080/",
          "height": 17
        }
      },
      "source": [
        "probs = pd.DataFrame(get_preds_as_nparray(DatasetType.Test))"
      ],
      "execution_count": 0,
      "outputs": [
        {
          "output_type": "display_data",
          "data": {
            "text/html": [
              ""
            ],
            "text/plain": [
              "<IPython.core.display.HTML object>"
            ]
          },
          "metadata": {
            "tags": []
          }
        }
      ]
    },
    {
      "cell_type": "code",
      "metadata": {
        "id": "fuctyWDO33g0",
        "colab_type": "code",
        "outputId": "18b395f5-e9ae-4e67-ac9d-862984e7dd32",
        "colab": {
          "base_uri": "https://localhost:8080/",
          "height": 143
        }
      },
      "source": [
        "probs.head(3)"
      ],
      "execution_count": 0,
      "outputs": [
        {
          "output_type": "execute_result",
          "data": {
            "text/html": [
              "<div>\n",
              "<style scoped>\n",
              "    .dataframe tbody tr th:only-of-type {\n",
              "        vertical-align: middle;\n",
              "    }\n",
              "\n",
              "    .dataframe tbody tr th {\n",
              "        vertical-align: top;\n",
              "    }\n",
              "\n",
              "    .dataframe thead th {\n",
              "        text-align: right;\n",
              "    }\n",
              "</style>\n",
              "<table border=\"1\" class=\"dataframe\">\n",
              "  <thead>\n",
              "    <tr style=\"text-align: right;\">\n",
              "      <th></th>\n",
              "      <th>0</th>\n",
              "      <th>1</th>\n",
              "    </tr>\n",
              "  </thead>\n",
              "  <tbody>\n",
              "    <tr>\n",
              "      <th>0</th>\n",
              "      <td>0.997945</td>\n",
              "      <td>0.002055</td>\n",
              "    </tr>\n",
              "    <tr>\n",
              "      <th>1</th>\n",
              "      <td>0.910784</td>\n",
              "      <td>0.089216</td>\n",
              "    </tr>\n",
              "    <tr>\n",
              "      <th>2</th>\n",
              "      <td>0.003854</td>\n",
              "      <td>0.996146</td>\n",
              "    </tr>\n",
              "  </tbody>\n",
              "</table>\n",
              "</div>"
            ],
            "text/plain": [
              "          0         1\n",
              "0  0.997945  0.002055\n",
              "1  0.910784  0.089216\n",
              "2  0.003854  0.996146"
            ]
          },
          "metadata": {
            "tags": []
          },
          "execution_count": 50
        }
      ]
    },
    {
      "cell_type": "code",
      "metadata": {
        "id": "mJ__pTY6qBFU",
        "colab_type": "code",
        "colab": {}
      },
      "source": [
        "#preds = pd.DataFrame(probs).idxmax(axis = 1) # col 1 is probability for extremist"
      ],
      "execution_count": 0,
      "outputs": []
    },
    {
      "cell_type": "code",
      "metadata": {
        "id": "ngDMqd9j3708",
        "colab_type": "code",
        "colab": {}
      },
      "source": [
        "probs[\"label\"] = (probs.iloc[:,1]>0.5).astype(int)"
      ],
      "execution_count": 0,
      "outputs": []
    },
    {
      "cell_type": "code",
      "metadata": {
        "id": "TVDZz4Xf5jEB",
        "colab_type": "code",
        "outputId": "c93d6919-bed2-48bd-d980-c07c495e5c6e",
        "colab": {
          "base_uri": "https://localhost:8080/",
          "height": 143
        }
      },
      "source": [
        "probs.head(3)"
      ],
      "execution_count": 0,
      "outputs": [
        {
          "output_type": "execute_result",
          "data": {
            "text/html": [
              "<div>\n",
              "<style scoped>\n",
              "    .dataframe tbody tr th:only-of-type {\n",
              "        vertical-align: middle;\n",
              "    }\n",
              "\n",
              "    .dataframe tbody tr th {\n",
              "        vertical-align: top;\n",
              "    }\n",
              "\n",
              "    .dataframe thead th {\n",
              "        text-align: right;\n",
              "    }\n",
              "</style>\n",
              "<table border=\"1\" class=\"dataframe\">\n",
              "  <thead>\n",
              "    <tr style=\"text-align: right;\">\n",
              "      <th></th>\n",
              "      <th>0</th>\n",
              "      <th>1</th>\n",
              "      <th>label</th>\n",
              "    </tr>\n",
              "  </thead>\n",
              "  <tbody>\n",
              "    <tr>\n",
              "      <th>0</th>\n",
              "      <td>0.997945</td>\n",
              "      <td>0.002055</td>\n",
              "      <td>0</td>\n",
              "    </tr>\n",
              "    <tr>\n",
              "      <th>1</th>\n",
              "      <td>0.910784</td>\n",
              "      <td>0.089216</td>\n",
              "      <td>0</td>\n",
              "    </tr>\n",
              "    <tr>\n",
              "      <th>2</th>\n",
              "      <td>0.003854</td>\n",
              "      <td>0.996146</td>\n",
              "      <td>1</td>\n",
              "    </tr>\n",
              "  </tbody>\n",
              "</table>\n",
              "</div>"
            ],
            "text/plain": [
              "          0         1  label\n",
              "0  0.997945  0.002055      0\n",
              "1  0.910784  0.089216      0\n",
              "2  0.003854  0.996146      1"
            ]
          },
          "metadata": {
            "tags": []
          },
          "execution_count": 95
        }
      ]
    },
    {
      "cell_type": "code",
      "metadata": {
        "id": "Ji2HQrFnqQ4s",
        "colab_type": "code",
        "colab": {}
      },
      "source": [
        "import sklearn\n",
        "from sklearn import metrics\n",
        "\n",
        "auc_pr = average_precision_score(test.label, probs.iloc[:,1])\n",
        "auc_roc = roc_auc_score(test.label, probs.iloc[:,1])\n",
        "f1 = sklearn.metrics.f1_score(test.label, probs[\"label\"])"
      ],
      "execution_count": 0,
      "outputs": []
    },
    {
      "cell_type": "code",
      "metadata": {
        "id": "wrDBXPGuslHA",
        "colab_type": "code",
        "outputId": "62a4278d-6640-4803-bf82-e7286ffd849d",
        "colab": {
          "base_uri": "https://localhost:8080/",
          "height": 70
        }
      },
      "source": [
        "print(\"AUC PR: \", round(auc_pr,4))\n",
        "print(\"AUC ROC: \", round(auc_roc,4))\n",
        "print(\"F1 score: \", round(f1,4)) # threshold = 0.2"
      ],
      "execution_count": 0,
      "outputs": [
        {
          "output_type": "stream",
          "text": [
            "AUC PR:  0.9297\n",
            "AUC ROC:  0.9024\n",
            "F1 score:  0.8323\n"
          ],
          "name": "stdout"
        }
      ]
    },
    {
      "cell_type": "markdown",
      "metadata": {
        "id": "a0n8axbk4bF5",
        "colab_type": "text"
      },
      "source": [
        "Save results in drive."
      ]
    },
    {
      "cell_type": "code",
      "metadata": {
        "id": "23JU2tOV4anb",
        "colab_type": "code",
        "outputId": "77e532a5-5647-4fb5-e086-73613d50b839",
        "colab": {
          "base_uri": "https://localhost:8080/",
          "height": 363
        }
      },
      "source": [
        "# create data frame with all relevant results and true labels\n",
        "cols = [4,5,11,12]\n",
        "bert_results = pd.DataFrame(afd.iloc[afd_sample.index,cols].append(df.iloc[X_test.index,cols]))\n",
        "bert_results[\"true_label\"] = y_afd\n",
        "bert_results[\"true_label_binary\"] = test.label\n",
        "bert_results[\"pred_prob\"] = probs.iloc[:,1].tolist()\n",
        "bert_results[\"pred_label\"] = np.where(bert_results[\"pred_prob\"]> 0.5, 'extremist', 'non_extremist')\n",
        "bert_results[\"pred_label_binary\"] = probs[\"label\"].tolist()\n",
        "bert_results.head(10)"
      ],
      "execution_count": 0,
      "outputs": [
        {
          "output_type": "execute_result",
          "data": {
            "text/html": [
              "<div>\n",
              "<style scoped>\n",
              "    .dataframe tbody tr th:only-of-type {\n",
              "        vertical-align: middle;\n",
              "    }\n",
              "\n",
              "    .dataframe tbody tr th {\n",
              "        vertical-align: top;\n",
              "    }\n",
              "\n",
              "    .dataframe thead th {\n",
              "        text-align: right;\n",
              "    }\n",
              "</style>\n",
              "<table border=\"1\" class=\"dataframe\">\n",
              "  <thead>\n",
              "    <tr style=\"text-align: right;\">\n",
              "      <th></th>\n",
              "      <th>text</th>\n",
              "      <th>date</th>\n",
              "      <th>name</th>\n",
              "      <th>party</th>\n",
              "      <th>true_label</th>\n",
              "      <th>true_label_binary</th>\n",
              "      <th>pred_prob</th>\n",
              "      <th>pred_label</th>\n",
              "      <th>pred_label_binary</th>\n",
              "    </tr>\n",
              "  </thead>\n",
              "  <tbody>\n",
              "    <tr>\n",
              "      <th>43236</th>\n",
              "      <td>Guten Morgen  was ist da los  liebe Kollegen v...</td>\n",
              "      <td>2018-06-14 05:09:44+00:00</td>\n",
              "      <td>Götz Frömming</td>\n",
              "      <td>AfD</td>\n",
              "      <td>extremist</td>\n",
              "      <td>1</td>\n",
              "      <td>0.002055</td>\n",
              "      <td>non_extremist</td>\n",
              "      <td>0</td>\n",
              "    </tr>\n",
              "    <tr>\n",
              "      <th>42586</th>\n",
              "      <td>Warum mutma liche Linksextreme einen Physiothe...</td>\n",
              "      <td>2018-10-18 17:23:51+00:00</td>\n",
              "      <td>Götz Frömming</td>\n",
              "      <td>AfD</td>\n",
              "      <td>extremist</td>\n",
              "      <td>1</td>\n",
              "      <td>0.089216</td>\n",
              "      <td>non_extremist</td>\n",
              "      <td>0</td>\n",
              "    </tr>\n",
              "    <tr>\n",
              "      <th>39514</th>\n",
              "      <td>Neue Zahlen Bis über     Mio Ausländer unterge...</td>\n",
              "      <td>2017-11-03 08:52:28+00:00</td>\n",
              "      <td>Malte Kaufmann</td>\n",
              "      <td>AfD</td>\n",
              "      <td>extremist</td>\n",
              "      <td>1</td>\n",
              "      <td>0.996146</td>\n",
              "      <td>extremist</td>\n",
              "      <td>1</td>\n",
              "    </tr>\n",
              "    <tr>\n",
              "      <th>14181</th>\n",
              "      <td>Ich glaube  da ist mir ein Klarer lieber  als ...</td>\n",
              "      <td>2017-08-21 18:15:22+00:00</td>\n",
              "      <td>Beatrix von Storch</td>\n",
              "      <td>AfD</td>\n",
              "      <td>extremist</td>\n",
              "      <td>1</td>\n",
              "      <td>0.448577</td>\n",
              "      <td>non_extremist</td>\n",
              "      <td>0</td>\n",
              "    </tr>\n",
              "    <tr>\n",
              "      <th>43669</th>\n",
              "      <td>Bürgermeister tritt  bei   Neuwahlen gefordert...</td>\n",
              "      <td>2018-03-30 00:00:30+00:00</td>\n",
              "      <td>Götz Frömming</td>\n",
              "      <td>AfD</td>\n",
              "      <td>extremist</td>\n",
              "      <td>1</td>\n",
              "      <td>0.732496</td>\n",
              "      <td>extremist</td>\n",
              "      <td>1</td>\n",
              "    </tr>\n",
              "    <tr>\n",
              "      <th>31727</th>\n",
              "      <td>Nein ehrlich  Guten Morgen und willkommen in d...</td>\n",
              "      <td>2018-05-04 09:52:45+00:00</td>\n",
              "      <td>Joana Cotar</td>\n",
              "      <td>AfD</td>\n",
              "      <td>extremist</td>\n",
              "      <td>1</td>\n",
              "      <td>0.045480</td>\n",
              "      <td>non_extremist</td>\n",
              "      <td>0</td>\n",
              "    </tr>\n",
              "    <tr>\n",
              "      <th>21726</th>\n",
              "      <td>Parteitag der  in Weinböhla   Zur Eröffnung di...</td>\n",
              "      <td>2017-03-28 10:11:40+00:00</td>\n",
              "      <td>Carsten Hütter</td>\n",
              "      <td>AfD</td>\n",
              "      <td>extremist</td>\n",
              "      <td>1</td>\n",
              "      <td>0.999028</td>\n",
              "      <td>extremist</td>\n",
              "      <td>1</td>\n",
              "    </tr>\n",
              "    <tr>\n",
              "      <th>49839</th>\n",
              "      <td>Nimm doch ein Flugzeug</td>\n",
              "      <td>2019-11-01 16:46:56+00:00</td>\n",
              "      <td>Markus Frohnmaier</td>\n",
              "      <td>AfD</td>\n",
              "      <td>extremist</td>\n",
              "      <td>1</td>\n",
              "      <td>0.867878</td>\n",
              "      <td>extremist</td>\n",
              "      <td>1</td>\n",
              "    </tr>\n",
              "    <tr>\n",
              "      <th>1661</th>\n",
              "      <td>Viele Gewerke hoffen auf Rückkehr zur Meis...</td>\n",
              "      <td>2019-06-14 16:44:46+00:00</td>\n",
              "      <td>Tino Chrupalla</td>\n",
              "      <td>AfD</td>\n",
              "      <td>extremist</td>\n",
              "      <td>1</td>\n",
              "      <td>0.664540</td>\n",
              "      <td>extremist</td>\n",
              "      <td>1</td>\n",
              "    </tr>\n",
              "    <tr>\n",
              "      <th>39771</th>\n",
              "      <td>war live in  Heidelberg  Mit Dr  Malte Kaufm...</td>\n",
              "      <td>2017-08-19 10:35:50+00:00</td>\n",
              "      <td>Malte Kaufmann</td>\n",
              "      <td>AfD</td>\n",
              "      <td>extremist</td>\n",
              "      <td>1</td>\n",
              "      <td>0.021677</td>\n",
              "      <td>non_extremist</td>\n",
              "      <td>0</td>\n",
              "    </tr>\n",
              "  </tbody>\n",
              "</table>\n",
              "</div>"
            ],
            "text/plain": [
              "                                                    text  ... pred_label_binary\n",
              "43236  Guten Morgen  was ist da los  liebe Kollegen v...  ...                 0\n",
              "42586  Warum mutma liche Linksextreme einen Physiothe...  ...                 0\n",
              "39514  Neue Zahlen Bis über     Mio Ausländer unterge...  ...                 1\n",
              "14181  Ich glaube  da ist mir ein Klarer lieber  als ...  ...                 0\n",
              "43669  Bürgermeister tritt  bei   Neuwahlen gefordert...  ...                 1\n",
              "31727  Nein ehrlich  Guten Morgen und willkommen in d...  ...                 0\n",
              "21726  Parteitag der  in Weinböhla   Zur Eröffnung di...  ...                 1\n",
              "49839                          Nimm doch ein Flugzeug     ...                 1\n",
              "1661       Viele Gewerke hoffen auf Rückkehr zur Meis...  ...                 1\n",
              "39771    war live in  Heidelberg  Mit Dr  Malte Kaufm...  ...                 0\n",
              "\n",
              "[10 rows x 9 columns]"
            ]
          },
          "metadata": {
            "tags": []
          },
          "execution_count": 147
        }
      ]
    },
    {
      "cell_type": "code",
      "metadata": {
        "id": "48RGEQ3u4ly1",
        "colab_type": "code",
        "colab": {}
      },
      "source": [
        "# save results in drive\n",
        "bert_results.to_csv(output_dir + \"bert_results.csv\", index=False)"
      ],
      "execution_count": 0,
      "outputs": []
    },
    {
      "cell_type": "code",
      "metadata": {
        "id": "uHe0xo3fCsSS",
        "colab_type": "code",
        "colab": {}
      },
      "source": [
        "bert_results = pd.read_csv(output_dir + 'bert_results.csv')"
      ],
      "execution_count": 0,
      "outputs": []
    },
    {
      "cell_type": "code",
      "metadata": {
        "id": "7ZnZOwrUCv06",
        "colab_type": "code",
        "outputId": "531f19e9-dc0a-4b48-944f-21c800b368da",
        "colab": {
          "base_uri": "https://localhost:8080/",
          "height": 195
        }
      },
      "source": [
        "bert_results.head(3)"
      ],
      "execution_count": 0,
      "outputs": [
        {
          "output_type": "execute_result",
          "data": {
            "text/html": [
              "<div>\n",
              "<style scoped>\n",
              "    .dataframe tbody tr th:only-of-type {\n",
              "        vertical-align: middle;\n",
              "    }\n",
              "\n",
              "    .dataframe tbody tr th {\n",
              "        vertical-align: top;\n",
              "    }\n",
              "\n",
              "    .dataframe thead th {\n",
              "        text-align: right;\n",
              "    }\n",
              "</style>\n",
              "<table border=\"1\" class=\"dataframe\">\n",
              "  <thead>\n",
              "    <tr style=\"text-align: right;\">\n",
              "      <th></th>\n",
              "      <th>text</th>\n",
              "      <th>date</th>\n",
              "      <th>name</th>\n",
              "      <th>party</th>\n",
              "      <th>true_label</th>\n",
              "      <th>true_label_binary</th>\n",
              "      <th>pred_prob</th>\n",
              "      <th>pred_label</th>\n",
              "      <th>pred_label_binary</th>\n",
              "    </tr>\n",
              "  </thead>\n",
              "  <tbody>\n",
              "    <tr>\n",
              "      <th>0</th>\n",
              "      <td>Guten Morgen  was ist da los  liebe Kollegen v...</td>\n",
              "      <td>2018-06-14 05:09:44+00:00</td>\n",
              "      <td>Götz Frömming</td>\n",
              "      <td>AfD</td>\n",
              "      <td>extremist</td>\n",
              "      <td>1</td>\n",
              "      <td>0.002055</td>\n",
              "      <td>non_extremist</td>\n",
              "      <td>0</td>\n",
              "    </tr>\n",
              "    <tr>\n",
              "      <th>1</th>\n",
              "      <td>Warum mutma liche Linksextreme einen Physiothe...</td>\n",
              "      <td>2018-10-18 17:23:51+00:00</td>\n",
              "      <td>Götz Frömming</td>\n",
              "      <td>AfD</td>\n",
              "      <td>extremist</td>\n",
              "      <td>1</td>\n",
              "      <td>0.089216</td>\n",
              "      <td>non_extremist</td>\n",
              "      <td>0</td>\n",
              "    </tr>\n",
              "    <tr>\n",
              "      <th>2</th>\n",
              "      <td>Neue Zahlen Bis über     Mio Ausländer unterge...</td>\n",
              "      <td>2017-11-03 08:52:28+00:00</td>\n",
              "      <td>Malte Kaufmann</td>\n",
              "      <td>AfD</td>\n",
              "      <td>extremist</td>\n",
              "      <td>1</td>\n",
              "      <td>0.996146</td>\n",
              "      <td>extremist</td>\n",
              "      <td>1</td>\n",
              "    </tr>\n",
              "  </tbody>\n",
              "</table>\n",
              "</div>"
            ],
            "text/plain": [
              "                                                text  ... pred_label_binary\n",
              "0  Guten Morgen  was ist da los  liebe Kollegen v...  ...                 0\n",
              "1  Warum mutma liche Linksextreme einen Physiothe...  ...                 0\n",
              "2  Neue Zahlen Bis über     Mio Ausländer unterge...  ...                 1\n",
              "\n",
              "[3 rows x 9 columns]"
            ]
          },
          "metadata": {
            "tags": []
          },
          "execution_count": 10
        }
      ]
    },
    {
      "cell_type": "markdown",
      "metadata": {
        "id": "FGj8ugJMD3yJ",
        "colab_type": "text"
      },
      "source": [
        "## Evaluation"
      ]
    },
    {
      "cell_type": "code",
      "metadata": {
        "id": "yZDV0vodasUG",
        "colab_type": "code",
        "outputId": "63119588-e77c-42e1-f7a5-4cf230f0c4e7",
        "colab": {
          "base_uri": "https://localhost:8080/",
          "height": 295
        }
      },
      "source": [
        "# plot AUC ROC\n",
        "import sklearn.metrics as metrics\n",
        "# calculate the fpr and tpr for all thresholds of the classification\n",
        "fpr, tpr, threshold = metrics.roc_curve(test.label, probs.iloc[:,1])\n",
        "roc_auc = metrics.auc(fpr, tpr)\n",
        "\n",
        "import matplotlib.pyplot as plt\n",
        "plt.title('BERT: Receiver Operating Characteristic')\n",
        "plt.plot(fpr, tpr, 'b', label = 'AUC ROC = %0.2f' % roc_auc)\n",
        "plt.legend(loc = 'lower right')\n",
        "plt.plot([0, 1], [0, 1],'r--')\n",
        "plt.xlim([0, 1])\n",
        "plt.ylim([0, 1])\n",
        "plt.ylabel('True Positive Rate')\n",
        "plt.xlabel('False Positive Rate')\n",
        "plt.show()"
      ],
      "execution_count": 0,
      "outputs": [
        {
          "output_type": "display_data",
          "data": {
            "image/png": "[encoded data removed]",
            "text/plain": [
              "<Figure size 432x288 with 1 Axes>"
            ]
          },
          "metadata": {
            "tags": []
          }
        }
      ]
    },
    {
      "cell_type": "code",
      "metadata": {
        "id": "zGUR2fRfavQh",
        "colab_type": "code",
        "outputId": "befcb230-23d6-4d44-b682-fae4eb1d5c73",
        "colab": {
          "base_uri": "https://localhost:8080/",
          "height": 295
        }
      },
      "source": [
        "# plot AUC PR\n",
        "import sklearn.metrics as metrics\n",
        "from sklearn.metrics import precision_recall_curve\n",
        "\n",
        "# calculate precision-recall curve\n",
        "precision, recall, thresholds = precision_recall_curve(test.label, probs.iloc[:,1])\n",
        "pr_auc = metrics.auc(recall, precision)\n",
        "\n",
        "import matplotlib.pyplot as plt\n",
        "plt.title('BERT: Precision Recall Curve')\n",
        "plt.plot(recall, precision, 'b', label = 'AUC PR = %0.2f' % pr_auc)\n",
        "plt.legend(loc = 'lower right')\n",
        "plt.xlim([0, 1])\n",
        "plt.ylim([0, 1])\n",
        "plt.ylabel('Precision')\n",
        "plt.xlabel('Recall')\n",
        "plt.show()"
      ],
      "execution_count": 0,
      "outputs": [
        {
          "output_type": "display_data",
          "data": {
            "image/png": "[encoded data removed]",
            "text/plain": [
              "<Figure size 432x288 with 1 Axes>"
            ]
          },
          "metadata": {
            "tags": []
          }
        }
      ]
    },
    {
      "cell_type": "code",
      "metadata": {
        "id": "A3v_7vaEJSav",
        "colab_type": "code",
        "outputId": "20de3004-4522-4d9e-fad0-4babb43dacad",
        "colab": {
          "base_uri": "https://localhost:8080/",
          "height": 52
        }
      },
      "source": [
        "from mlxtend.evaluate import confusion_matrix\n",
        "cm = confusion_matrix(y_target = bert_results.true_label_binary, \n",
        "                      y_predicted = bert_results.pred_label_binary, \n",
        "                      binary = True)\n",
        "cm"
      ],
      "execution_count": 0,
      "outputs": [
        {
          "output_type": "execute_result",
          "data": {
            "text/plain": [
              "array([[2071,  356],\n",
              "       [ 731, 2697]])"
            ]
          },
          "metadata": {
            "tags": []
          },
          "execution_count": 150
        }
      ]
    },
    {
      "cell_type": "code",
      "metadata": {
        "id": "BSSLDYbBQniu",
        "colab_type": "code",
        "colab": {}
      },
      "source": [
        "tn, fp, fn, tp = confusion_matrix(y_target = bert_results.true_label_binary, \n",
        "                                  y_predicted = bert_results.pred_label_binary, \n",
        "                                  binary = True).ravel()"
      ],
      "execution_count": 0,
      "outputs": []
    },
    {
      "cell_type": "code",
      "metadata": {
        "id": "kFmO2kXFQyvt",
        "colab_type": "code",
        "outputId": "f4ccbe3d-b9f7-4fcf-d55d-309cda4203b9",
        "colab": {
          "base_uri": "https://localhost:8080/",
          "height": 35
        }
      },
      "source": [
        "(tn, fp, fn, tp)"
      ],
      "execution_count": 0,
      "outputs": [
        {
          "output_type": "execute_result",
          "data": {
            "text/plain": [
              "(2071, 356, 731, 2697)"
            ]
          },
          "metadata": {
            "tags": []
          },
          "execution_count": 103
        }
      ]
    },
    {
      "cell_type": "code",
      "metadata": {
        "id": "KVn9ec4fD9Qe",
        "colab_type": "code",
        "outputId": "d5bb37b5-d584-42ef-f506-4e721bd28803",
        "colab": {
          "base_uri": "https://localhost:8080/",
          "height": 537
        }
      },
      "source": [
        "import matplotlib.pyplot as plt\n",
        "from mlxtend.evaluate import confusion_matrix\n",
        "from mlxtend.plotting import plot_confusion_matrix\n",
        "import array\n",
        "\n",
        "fig, ax = plot_confusion_matrix(conf_mat = cm, figsize = (7,7))\n",
        "plt.title('BERT: Confusion Matrix')\n",
        "plt.xticks(np.arange(2), ('non extremist', 'extremist'))\n",
        "plt.xticks(rotation=90)\n",
        "plt.yticks(np.arange(2), ('non extremist', 'extremist'))\n",
        "plt.savefig('conf_matrix_extremist.jpg')\n",
        "plt.show()"
      ],
      "execution_count": 0,
      "outputs": [
        {
          "output_type": "display_data",
          "data": {
            "image/png": "[encoded data removed]",
            "text/plain": [
              "<Figure size 504x504 with 1 Axes>"
            ]
          },
          "metadata": {
            "tags": []
          }
        }
      ]
    },
    {
      "cell_type": "markdown",
      "metadata": {
        "id": "JYLVFgd0VMq6",
        "colab_type": "text"
      },
      "source": [
        "## Analysis"
      ]
    },
    {
      "cell_type": "code",
      "metadata": {
        "id": "WhwrxFaREX-7",
        "colab_type": "code",
        "colab": {}
      },
      "source": [
        "extremist_parties = pd.crosstab(bert_results.party, bert_results.pred_label)\n",
        "extremist_parties[\"proportion\"] = 100*round(extremist_parties.extremist / (extremist_parties.extremist + extremist_parties.non_extremist),4)\n",
        "extremist_parties = extremist_parties.sort_values(\"proportion\", ascending = False)"
      ],
      "execution_count": 0,
      "outputs": []
    },
    {
      "cell_type": "code",
      "metadata": {
        "id": "rqCwAQ8XGr_I",
        "colab_type": "code",
        "outputId": "25e9a160-51b5-42cb-9e32-e017b3796a1c",
        "colab": {
          "base_uri": "https://localhost:8080/",
          "height": 331
        }
      },
      "source": [
        "extremist_parties"
      ],
      "execution_count": 0,
      "outputs": [
        {
          "output_type": "execute_result",
          "data": {
            "text/html": [
              "<div>\n",
              "<style scoped>\n",
              "    .dataframe tbody tr th:only-of-type {\n",
              "        vertical-align: middle;\n",
              "    }\n",
              "\n",
              "    .dataframe tbody tr th {\n",
              "        vertical-align: top;\n",
              "    }\n",
              "\n",
              "    .dataframe thead th {\n",
              "        text-align: right;\n",
              "    }\n",
              "</style>\n",
              "<table border=\"1\" class=\"dataframe\">\n",
              "  <thead>\n",
              "    <tr style=\"text-align: right;\">\n",
              "      <th>pred_label</th>\n",
              "      <th>extremist</th>\n",
              "      <th>non_extremist</th>\n",
              "      <th>proportion</th>\n",
              "    </tr>\n",
              "    <tr>\n",
              "      <th>party</th>\n",
              "      <th></th>\n",
              "      <th></th>\n",
              "      <th></th>\n",
              "    </tr>\n",
              "  </thead>\n",
              "  <tbody>\n",
              "    <tr>\n",
              "      <th>NPD</th>\n",
              "      <td>2111</td>\n",
              "      <td>260</td>\n",
              "      <td>89.03</td>\n",
              "    </tr>\n",
              "    <tr>\n",
              "      <th>Die Rechte</th>\n",
              "      <td>43</td>\n",
              "      <td>14</td>\n",
              "      <td>75.44</td>\n",
              "    </tr>\n",
              "    <tr>\n",
              "      <th>AfD</th>\n",
              "      <td>543</td>\n",
              "      <td>457</td>\n",
              "      <td>54.30</td>\n",
              "    </tr>\n",
              "    <tr>\n",
              "      <th>FDP</th>\n",
              "      <td>68</td>\n",
              "      <td>359</td>\n",
              "      <td>15.93</td>\n",
              "    </tr>\n",
              "    <tr>\n",
              "      <th>Gruene</th>\n",
              "      <td>105</td>\n",
              "      <td>568</td>\n",
              "      <td>15.60</td>\n",
              "    </tr>\n",
              "    <tr>\n",
              "      <th>CDU</th>\n",
              "      <td>113</td>\n",
              "      <td>624</td>\n",
              "      <td>15.33</td>\n",
              "    </tr>\n",
              "    <tr>\n",
              "      <th>Die Linke</th>\n",
              "      <td>41</td>\n",
              "      <td>305</td>\n",
              "      <td>11.85</td>\n",
              "    </tr>\n",
              "    <tr>\n",
              "      <th>SPD</th>\n",
              "      <td>27</td>\n",
              "      <td>214</td>\n",
              "      <td>11.20</td>\n",
              "    </tr>\n",
              "  </tbody>\n",
              "</table>\n",
              "</div>"
            ],
            "text/plain": [
              "pred_label  extremist  non_extremist  proportion\n",
              "party                                           \n",
              "NPD              2111            260       89.03\n",
              "Die Rechte         43             14       75.44\n",
              "AfD               543            457       54.30\n",
              "FDP                68            359       15.93\n",
              "Gruene            105            568       15.60\n",
              "CDU               113            624       15.33\n",
              "Die Linke          41            305       11.85\n",
              "SPD                27            214       11.20"
            ]
          },
          "metadata": {
            "tags": []
          },
          "execution_count": 12
        }
      ]
    },
    {
      "cell_type": "code",
      "metadata": {
        "id": "Da0xLPP-SdEy",
        "colab_type": "code",
        "colab": {}
      },
      "source": [
        "extremist_parties.to_csv(output_dir + \"extremist_parties.csv\", index=False)"
      ],
      "execution_count": 0,
      "outputs": []
    },
    {
      "cell_type": "code",
      "metadata": {
        "id": "t4VQm8as0Tp9",
        "colab_type": "code",
        "colab": {}
      },
      "source": [
        "#extremist_parties = pd.read_csv(output_dir + 'extremist_parties.csv') "
      ],
      "execution_count": 0,
      "outputs": []
    },
    {
      "cell_type": "code",
      "metadata": {
        "id": "iRvKujoKWv3H",
        "colab_type": "code",
        "outputId": "96b3f2d6-8113-47d6-a1cb-a27560bd10fb",
        "colab": {
          "base_uri": "https://localhost:8080/",
          "height": 313
        }
      },
      "source": [
        "import seaborn as sns\n",
        "import matplotlib.pyplot as plt\n",
        "%matplotlib inline\n",
        "\n",
        "plt.title(\"Percentage of as extremist labelled tweets per party.\") \n",
        "sns.barplot(x=\"proportion\", y = extremist_parties.index, data=extremist_parties,\n",
        " palette=\"Greens_d\")"
      ],
      "execution_count": 0,
      "outputs": [
        {
          "output_type": "execute_result",
          "data": {
            "text/plain": [
              "<matplotlib.axes._subplots.AxesSubplot at 0x7fd39cecfa20>"
            ]
          },
          "metadata": {
            "tags": []
          },
          "execution_count": 14
        },
        {
          "output_type": "display_data",
          "data": {
            "image/png": "[encoded data removed]",
            "text/plain": [
              "<Figure size 432x288 with 1 Axes>"
            ]
          },
          "metadata": {
            "tags": []
          }
        }
      ]
    },
    {
      "cell_type": "code",
      "metadata": {
        "id": "ISrDTGWNXz6S",
        "colab_type": "code",
        "colab": {}
      },
      "source": [
        "extremist_users = pd.crosstab(bert_results.name, bert_results.pred_label)\n",
        "extremist_users[\"proportion\"] = 100*round(extremist_users.extremist / (extremist_users.extremist + extremist_users.non_extremist),4)\n",
        "extremist_users = extremist_users.sort_values(\"proportion\", ascending = False)\n",
        "extremist_users = pd.merge(extremist_users, bert_results[['name', 'party']], on='name', how='left').drop_duplicates(['name'])"
      ],
      "execution_count": 0,
      "outputs": []
    },
    {
      "cell_type": "code",
      "metadata": {
        "id": "28dZI5U2cQxn",
        "colab_type": "code",
        "outputId": "60daae40-008e-400f-b32d-bf01cdf62523",
        "colab": {
          "base_uri": "https://localhost:8080/",
          "height": 990
        }
      },
      "source": [
        "extremist_users.head(30)"
      ],
      "execution_count": 0,
      "outputs": [
        {
          "output_type": "execute_result",
          "data": {
            "text/html": [
              "<div>\n",
              "<style scoped>\n",
              "    .dataframe tbody tr th:only-of-type {\n",
              "        vertical-align: middle;\n",
              "    }\n",
              "\n",
              "    .dataframe tbody tr th {\n",
              "        vertical-align: top;\n",
              "    }\n",
              "\n",
              "    .dataframe thead th {\n",
              "        text-align: right;\n",
              "    }\n",
              "</style>\n",
              "<table border=\"1\" class=\"dataframe\">\n",
              "  <thead>\n",
              "    <tr style=\"text-align: right;\">\n",
              "      <th></th>\n",
              "      <th>name</th>\n",
              "      <th>extremist</th>\n",
              "      <th>non_extremist</th>\n",
              "      <th>proportion</th>\n",
              "      <th>party</th>\n",
              "    </tr>\n",
              "  </thead>\n",
              "  <tbody>\n",
              "    <tr>\n",
              "      <th>0</th>\n",
              "      <td>Gottfried Curio</td>\n",
              "      <td>5</td>\n",
              "      <td>0</td>\n",
              "      <td>100.00</td>\n",
              "      <td>AfD</td>\n",
              "    </tr>\n",
              "    <tr>\n",
              "      <th>5</th>\n",
              "      <td>Thassilo Hanutsch</td>\n",
              "      <td>3</td>\n",
              "      <td>0</td>\n",
              "      <td>100.00</td>\n",
              "      <td>NPD</td>\n",
              "    </tr>\n",
              "    <tr>\n",
              "      <th>8</th>\n",
              "      <td>Jean Fiedler</td>\n",
              "      <td>4</td>\n",
              "      <td>0</td>\n",
              "      <td>100.00</td>\n",
              "      <td>NPD</td>\n",
              "    </tr>\n",
              "    <tr>\n",
              "      <th>12</th>\n",
              "      <td>Junge Nationalisten</td>\n",
              "      <td>147</td>\n",
              "      <td>7</td>\n",
              "      <td>95.45</td>\n",
              "      <td>NPD</td>\n",
              "    </tr>\n",
              "    <tr>\n",
              "      <th>166</th>\n",
              "      <td>Claus Cremer</td>\n",
              "      <td>494</td>\n",
              "      <td>30</td>\n",
              "      <td>94.27</td>\n",
              "      <td>NPD</td>\n",
              "    </tr>\n",
              "    <tr>\n",
              "      <th>690</th>\n",
              "      <td>Jan Jaeschke</td>\n",
              "      <td>314</td>\n",
              "      <td>20</td>\n",
              "      <td>94.01</td>\n",
              "      <td>NPD</td>\n",
              "    </tr>\n",
              "    <tr>\n",
              "      <th>1024</th>\n",
              "      <td>Manfred Dammann</td>\n",
              "      <td>58</td>\n",
              "      <td>4</td>\n",
              "      <td>93.55</td>\n",
              "      <td>NPD</td>\n",
              "    </tr>\n",
              "    <tr>\n",
              "      <th>1086</th>\n",
              "      <td>Udo Voigt</td>\n",
              "      <td>77</td>\n",
              "      <td>9</td>\n",
              "      <td>89.53</td>\n",
              "      <td>NPD</td>\n",
              "    </tr>\n",
              "    <tr>\n",
              "      <th>1172</th>\n",
              "      <td>Frank Franz</td>\n",
              "      <td>569</td>\n",
              "      <td>85</td>\n",
              "      <td>87.00</td>\n",
              "      <td>NPD</td>\n",
              "    </tr>\n",
              "    <tr>\n",
              "      <th>1826</th>\n",
              "      <td>Ricarda Riefling</td>\n",
              "      <td>180</td>\n",
              "      <td>28</td>\n",
              "      <td>86.54</td>\n",
              "      <td>NPD</td>\n",
              "    </tr>\n",
              "    <tr>\n",
              "      <th>2034</th>\n",
              "      <td>NPD Marzahn</td>\n",
              "      <td>11</td>\n",
              "      <td>2</td>\n",
              "      <td>84.62</td>\n",
              "      <td>NPD</td>\n",
              "    </tr>\n",
              "    <tr>\n",
              "      <th>2047</th>\n",
              "      <td>Ronny Zasowk</td>\n",
              "      <td>147</td>\n",
              "      <td>33</td>\n",
              "      <td>81.67</td>\n",
              "      <td>NPD</td>\n",
              "    </tr>\n",
              "    <tr>\n",
              "      <th>2227</th>\n",
              "      <td>Markus Walter</td>\n",
              "      <td>33</td>\n",
              "      <td>9</td>\n",
              "      <td>78.57</td>\n",
              "      <td>NPD</td>\n",
              "    </tr>\n",
              "    <tr>\n",
              "      <th>2269</th>\n",
              "      <td>Stephan Protschka</td>\n",
              "      <td>20</td>\n",
              "      <td>6</td>\n",
              "      <td>76.92</td>\n",
              "      <td>AfD</td>\n",
              "    </tr>\n",
              "    <tr>\n",
              "      <th>2295</th>\n",
              "      <td>Sascha Krolzig</td>\n",
              "      <td>30</td>\n",
              "      <td>11</td>\n",
              "      <td>73.17</td>\n",
              "      <td>Die Rechte</td>\n",
              "    </tr>\n",
              "    <tr>\n",
              "      <th>2336</th>\n",
              "      <td>Jens Maier</td>\n",
              "      <td>87</td>\n",
              "      <td>36</td>\n",
              "      <td>70.73</td>\n",
              "      <td>NPD</td>\n",
              "    </tr>\n",
              "    <tr>\n",
              "      <th>2459</th>\n",
              "      <td>Tino Chrupalla</td>\n",
              "      <td>7</td>\n",
              "      <td>3</td>\n",
              "      <td>70.00</td>\n",
              "      <td>AfD</td>\n",
              "    </tr>\n",
              "    <tr>\n",
              "      <th>2469</th>\n",
              "      <td>Hans-Georg Maassen</td>\n",
              "      <td>2</td>\n",
              "      <td>1</td>\n",
              "      <td>66.67</td>\n",
              "      <td>CDU</td>\n",
              "    </tr>\n",
              "    <tr>\n",
              "      <th>2472</th>\n",
              "      <td>Carsten Hütter</td>\n",
              "      <td>61</td>\n",
              "      <td>39</td>\n",
              "      <td>61.00</td>\n",
              "      <td>AfD</td>\n",
              "    </tr>\n",
              "    <tr>\n",
              "      <th>2572</th>\n",
              "      <td>Joana Cotar</td>\n",
              "      <td>35</td>\n",
              "      <td>23</td>\n",
              "      <td>60.34</td>\n",
              "      <td>AfD</td>\n",
              "    </tr>\n",
              "    <tr>\n",
              "      <th>2630</th>\n",
              "      <td>Hermann Otto Solms</td>\n",
              "      <td>6</td>\n",
              "      <td>4</td>\n",
              "      <td>60.00</td>\n",
              "      <td>FDP</td>\n",
              "    </tr>\n",
              "    <tr>\n",
              "      <th>2640</th>\n",
              "      <td>Fabian Jacobi</td>\n",
              "      <td>3</td>\n",
              "      <td>2</td>\n",
              "      <td>60.00</td>\n",
              "      <td>AfD</td>\n",
              "    </tr>\n",
              "    <tr>\n",
              "      <th>2645</th>\n",
              "      <td>Rene Springer</td>\n",
              "      <td>4</td>\n",
              "      <td>3</td>\n",
              "      <td>57.14</td>\n",
              "      <td>AfD</td>\n",
              "    </tr>\n",
              "    <tr>\n",
              "      <th>2652</th>\n",
              "      <td>Beatrix von Storch</td>\n",
              "      <td>59</td>\n",
              "      <td>45</td>\n",
              "      <td>56.73</td>\n",
              "      <td>AfD</td>\n",
              "    </tr>\n",
              "    <tr>\n",
              "      <th>2756</th>\n",
              "      <td>Alice Weidel</td>\n",
              "      <td>17</td>\n",
              "      <td>13</td>\n",
              "      <td>56.67</td>\n",
              "      <td>AfD</td>\n",
              "    </tr>\n",
              "    <tr>\n",
              "      <th>2786</th>\n",
              "      <td>Jörg Meuthen</td>\n",
              "      <td>9</td>\n",
              "      <td>7</td>\n",
              "      <td>56.25</td>\n",
              "      <td>AfD</td>\n",
              "    </tr>\n",
              "    <tr>\n",
              "      <th>2802</th>\n",
              "      <td>Martin Reichardt</td>\n",
              "      <td>30</td>\n",
              "      <td>26</td>\n",
              "      <td>53.57</td>\n",
              "      <td>AfD</td>\n",
              "    </tr>\n",
              "    <tr>\n",
              "      <th>2858</th>\n",
              "      <td>Götz Frömming</td>\n",
              "      <td>69</td>\n",
              "      <td>61</td>\n",
              "      <td>53.08</td>\n",
              "      <td>AfD</td>\n",
              "    </tr>\n",
              "    <tr>\n",
              "      <th>2988</th>\n",
              "      <td>Stephan Brandner</td>\n",
              "      <td>74</td>\n",
              "      <td>67</td>\n",
              "      <td>52.48</td>\n",
              "      <td>AfD</td>\n",
              "    </tr>\n",
              "    <tr>\n",
              "      <th>3129</th>\n",
              "      <td>Sven Tritschler</td>\n",
              "      <td>13</td>\n",
              "      <td>12</td>\n",
              "      <td>52.00</td>\n",
              "      <td>AfD</td>\n",
              "    </tr>\n",
              "  </tbody>\n",
              "</table>\n",
              "</div>"
            ],
            "text/plain": [
              "                     name  extremist  non_extremist  proportion       party\n",
              "0         Gottfried Curio          5              0      100.00         AfD\n",
              "5       Thassilo Hanutsch          3              0      100.00         NPD\n",
              "8            Jean Fiedler          4              0      100.00         NPD\n",
              "12    Junge Nationalisten        147              7       95.45         NPD\n",
              "166          Claus Cremer        494             30       94.27         NPD\n",
              "690          Jan Jaeschke        314             20       94.01         NPD\n",
              "1024      Manfred Dammann         58              4       93.55         NPD\n",
              "1086            Udo Voigt         77              9       89.53         NPD\n",
              "1172          Frank Franz        569             85       87.00         NPD\n",
              "1826     Ricarda Riefling        180             28       86.54         NPD\n",
              "2034          NPD Marzahn         11              2       84.62         NPD\n",
              "2047         Ronny Zasowk        147             33       81.67         NPD\n",
              "2227        Markus Walter         33              9       78.57         NPD\n",
              "2269    Stephan Protschka         20              6       76.92         AfD\n",
              "2295       Sascha Krolzig         30             11       73.17  Die Rechte\n",
              "2336           Jens Maier         87             36       70.73         NPD\n",
              "2459       Tino Chrupalla          7              3       70.00         AfD\n",
              "2469   Hans-Georg Maassen          2              1       66.67         CDU\n",
              "2472       Carsten Hütter         61             39       61.00         AfD\n",
              "2572          Joana Cotar         35             23       60.34         AfD\n",
              "2630   Hermann Otto Solms          6              4       60.00         FDP\n",
              "2640        Fabian Jacobi          3              2       60.00         AfD\n",
              "2645        Rene Springer          4              3       57.14         AfD\n",
              "2652   Beatrix von Storch         59             45       56.73         AfD\n",
              "2756         Alice Weidel         17             13       56.67         AfD\n",
              "2786         Jörg Meuthen          9              7       56.25         AfD\n",
              "2802     Martin Reichardt         30             26       53.57         AfD\n",
              "2858        Götz Frömming         69             61       53.08         AfD\n",
              "2988     Stephan Brandner         74             67       52.48         AfD\n",
              "3129      Sven Tritschler         13             12       52.00         AfD"
            ]
          },
          "metadata": {
            "tags": []
          },
          "execution_count": 16
        }
      ]
    },
    {
      "cell_type": "code",
      "metadata": {
        "id": "bDB0j5UdJm1m",
        "colab_type": "code",
        "colab": {}
      },
      "source": [
        "extremist_users_20 = extremist_users.loc[extremist_users['extremist'] + extremist_users['non_extremist'] > 10].head(20)"
      ],
      "execution_count": 0,
      "outputs": []
    },
    {
      "cell_type": "code",
      "metadata": {
        "id": "LOS_NnzGc2bp",
        "colab_type": "code",
        "outputId": "adca1bc8-b7ab-42ce-e834-86113a72cf71",
        "colab": {
          "base_uri": "https://localhost:8080/",
          "height": 676
        }
      },
      "source": [
        "extremist_users_20"
      ],
      "execution_count": 0,
      "outputs": [
        {
          "output_type": "execute_result",
          "data": {
            "text/html": [
              "<div>\n",
              "<style scoped>\n",
              "    .dataframe tbody tr th:only-of-type {\n",
              "        vertical-align: middle;\n",
              "    }\n",
              "\n",
              "    .dataframe tbody tr th {\n",
              "        vertical-align: top;\n",
              "    }\n",
              "\n",
              "    .dataframe thead th {\n",
              "        text-align: right;\n",
              "    }\n",
              "</style>\n",
              "<table border=\"1\" class=\"dataframe\">\n",
              "  <thead>\n",
              "    <tr style=\"text-align: right;\">\n",
              "      <th></th>\n",
              "      <th>name</th>\n",
              "      <th>extremist</th>\n",
              "      <th>non_extremist</th>\n",
              "      <th>proportion</th>\n",
              "      <th>party</th>\n",
              "    </tr>\n",
              "  </thead>\n",
              "  <tbody>\n",
              "    <tr>\n",
              "      <th>12</th>\n",
              "      <td>Junge Nationalisten</td>\n",
              "      <td>147</td>\n",
              "      <td>7</td>\n",
              "      <td>95.45</td>\n",
              "      <td>NPD</td>\n",
              "    </tr>\n",
              "    <tr>\n",
              "      <th>166</th>\n",
              "      <td>Claus Cremer</td>\n",
              "      <td>494</td>\n",
              "      <td>30</td>\n",
              "      <td>94.27</td>\n",
              "      <td>NPD</td>\n",
              "    </tr>\n",
              "    <tr>\n",
              "      <th>690</th>\n",
              "      <td>Jan Jaeschke</td>\n",
              "      <td>314</td>\n",
              "      <td>20</td>\n",
              "      <td>94.01</td>\n",
              "      <td>NPD</td>\n",
              "    </tr>\n",
              "    <tr>\n",
              "      <th>1024</th>\n",
              "      <td>Manfred Dammann</td>\n",
              "      <td>58</td>\n",
              "      <td>4</td>\n",
              "      <td>93.55</td>\n",
              "      <td>NPD</td>\n",
              "    </tr>\n",
              "    <tr>\n",
              "      <th>1086</th>\n",
              "      <td>Udo Voigt</td>\n",
              "      <td>77</td>\n",
              "      <td>9</td>\n",
              "      <td>89.53</td>\n",
              "      <td>NPD</td>\n",
              "    </tr>\n",
              "    <tr>\n",
              "      <th>1172</th>\n",
              "      <td>Frank Franz</td>\n",
              "      <td>569</td>\n",
              "      <td>85</td>\n",
              "      <td>87.00</td>\n",
              "      <td>NPD</td>\n",
              "    </tr>\n",
              "    <tr>\n",
              "      <th>1826</th>\n",
              "      <td>Ricarda Riefling</td>\n",
              "      <td>180</td>\n",
              "      <td>28</td>\n",
              "      <td>86.54</td>\n",
              "      <td>NPD</td>\n",
              "    </tr>\n",
              "    <tr>\n",
              "      <th>2034</th>\n",
              "      <td>NPD Marzahn</td>\n",
              "      <td>11</td>\n",
              "      <td>2</td>\n",
              "      <td>84.62</td>\n",
              "      <td>NPD</td>\n",
              "    </tr>\n",
              "    <tr>\n",
              "      <th>2047</th>\n",
              "      <td>Ronny Zasowk</td>\n",
              "      <td>147</td>\n",
              "      <td>33</td>\n",
              "      <td>81.67</td>\n",
              "      <td>NPD</td>\n",
              "    </tr>\n",
              "    <tr>\n",
              "      <th>2227</th>\n",
              "      <td>Markus Walter</td>\n",
              "      <td>33</td>\n",
              "      <td>9</td>\n",
              "      <td>78.57</td>\n",
              "      <td>NPD</td>\n",
              "    </tr>\n",
              "    <tr>\n",
              "      <th>2269</th>\n",
              "      <td>Stephan Protschka</td>\n",
              "      <td>20</td>\n",
              "      <td>6</td>\n",
              "      <td>76.92</td>\n",
              "      <td>AfD</td>\n",
              "    </tr>\n",
              "    <tr>\n",
              "      <th>2295</th>\n",
              "      <td>Sascha Krolzig</td>\n",
              "      <td>30</td>\n",
              "      <td>11</td>\n",
              "      <td>73.17</td>\n",
              "      <td>Die Rechte</td>\n",
              "    </tr>\n",
              "    <tr>\n",
              "      <th>2336</th>\n",
              "      <td>Jens Maier</td>\n",
              "      <td>87</td>\n",
              "      <td>36</td>\n",
              "      <td>70.73</td>\n",
              "      <td>NPD</td>\n",
              "    </tr>\n",
              "    <tr>\n",
              "      <th>2472</th>\n",
              "      <td>Carsten Hütter</td>\n",
              "      <td>61</td>\n",
              "      <td>39</td>\n",
              "      <td>61.00</td>\n",
              "      <td>AfD</td>\n",
              "    </tr>\n",
              "    <tr>\n",
              "      <th>2572</th>\n",
              "      <td>Joana Cotar</td>\n",
              "      <td>35</td>\n",
              "      <td>23</td>\n",
              "      <td>60.34</td>\n",
              "      <td>AfD</td>\n",
              "    </tr>\n",
              "    <tr>\n",
              "      <th>2652</th>\n",
              "      <td>Beatrix von Storch</td>\n",
              "      <td>59</td>\n",
              "      <td>45</td>\n",
              "      <td>56.73</td>\n",
              "      <td>AfD</td>\n",
              "    </tr>\n",
              "    <tr>\n",
              "      <th>2756</th>\n",
              "      <td>Alice Weidel</td>\n",
              "      <td>17</td>\n",
              "      <td>13</td>\n",
              "      <td>56.67</td>\n",
              "      <td>AfD</td>\n",
              "    </tr>\n",
              "    <tr>\n",
              "      <th>2786</th>\n",
              "      <td>Jörg Meuthen</td>\n",
              "      <td>9</td>\n",
              "      <td>7</td>\n",
              "      <td>56.25</td>\n",
              "      <td>AfD</td>\n",
              "    </tr>\n",
              "    <tr>\n",
              "      <th>2802</th>\n",
              "      <td>Martin Reichardt</td>\n",
              "      <td>30</td>\n",
              "      <td>26</td>\n",
              "      <td>53.57</td>\n",
              "      <td>AfD</td>\n",
              "    </tr>\n",
              "    <tr>\n",
              "      <th>2858</th>\n",
              "      <td>Götz Frömming</td>\n",
              "      <td>69</td>\n",
              "      <td>61</td>\n",
              "      <td>53.08</td>\n",
              "      <td>AfD</td>\n",
              "    </tr>\n",
              "  </tbody>\n",
              "</table>\n",
              "</div>"
            ],
            "text/plain": [
              "                     name  extremist  non_extremist  proportion       party\n",
              "12    Junge Nationalisten        147              7       95.45         NPD\n",
              "166          Claus Cremer        494             30       94.27         NPD\n",
              "690          Jan Jaeschke        314             20       94.01         NPD\n",
              "1024      Manfred Dammann         58              4       93.55         NPD\n",
              "1086            Udo Voigt         77              9       89.53         NPD\n",
              "1172          Frank Franz        569             85       87.00         NPD\n",
              "1826     Ricarda Riefling        180             28       86.54         NPD\n",
              "2034          NPD Marzahn         11              2       84.62         NPD\n",
              "2047         Ronny Zasowk        147             33       81.67         NPD\n",
              "2227        Markus Walter         33              9       78.57         NPD\n",
              "2269    Stephan Protschka         20              6       76.92         AfD\n",
              "2295       Sascha Krolzig         30             11       73.17  Die Rechte\n",
              "2336           Jens Maier         87             36       70.73         NPD\n",
              "2472       Carsten Hütter         61             39       61.00         AfD\n",
              "2572          Joana Cotar         35             23       60.34         AfD\n",
              "2652   Beatrix von Storch         59             45       56.73         AfD\n",
              "2756         Alice Weidel         17             13       56.67         AfD\n",
              "2786         Jörg Meuthen          9              7       56.25         AfD\n",
              "2802     Martin Reichardt         30             26       53.57         AfD\n",
              "2858        Götz Frömming         69             61       53.08         AfD"
            ]
          },
          "metadata": {
            "tags": []
          },
          "execution_count": 18
        }
      ]
    },
    {
      "cell_type": "code",
      "metadata": {
        "id": "j9Bqsi_JVQO6",
        "colab_type": "code",
        "outputId": "bb36d211-2dc1-485e-dbeb-dc00c9f9e79a",
        "colab": {
          "base_uri": "https://localhost:8080/",
          "height": 313
        }
      },
      "source": [
        "import seaborn as sns\n",
        "import matplotlib.pyplot as plt\n",
        "%matplotlib inline\n",
        "\n",
        "plt.title(\"Percentage of as extremist labelled tweets per user.\") \n",
        "sns.barplot(x=\"proportion\", y = \"name\", data=extremist_users_20,\n",
        " palette=\"Greens_d\")"
      ],
      "execution_count": 0,
      "outputs": [
        {
          "output_type": "execute_result",
          "data": {
            "text/plain": [
              "<matplotlib.axes._subplots.AxesSubplot at 0x7fd3e32169b0>"
            ]
          },
          "metadata": {
            "tags": []
          },
          "execution_count": 19
        },
        {
          "output_type": "display_data",
          "data": {
            "image/png": "[encoded data removed]",
            "text/plain": [
              "<Figure size 432x288 with 1 Axes>"
            ]
          },
          "metadata": {
            "tags": []
          }
        }
      ]
    },
    {
      "cell_type": "code",
      "metadata": {
        "id": "bxgJxS18M35W",
        "colab_type": "code",
        "colab": {}
      },
      "source": [
        "# save results in drive\n",
        "#extremist_users.to_csv(output_dir + \"bert_extremist_users.csv\", index=False)\n",
        "#extremist_users_20.to_csv(output_dir + \"bert_extremist_users_20.csv\", index=False)"
      ],
      "execution_count": 0,
      "outputs": []
    },
    {
      "cell_type": "code",
      "metadata": {
        "id": "2me9imA8CQEh",
        "colab_type": "code",
        "colab": {}
      },
      "source": [
        "#extremist_users_20 = pd.read_csv(output_dir + 'bert_extremist_users_20.csv') "
      ],
      "execution_count": 0,
      "outputs": []
    },
    {
      "cell_type": "code",
      "metadata": {
        "id": "FeVb8jCRCbzp",
        "colab_type": "code",
        "outputId": "6f71c672-9b6e-432e-b2bd-62d98ee2ef6d",
        "colab": {
          "base_uri": "https://localhost:8080/",
          "height": 112
        }
      },
      "source": [
        "extremist_users_20.head(2)"
      ],
      "execution_count": 0,
      "outputs": [
        {
          "output_type": "execute_result",
          "data": {
            "text/html": [
              "<div>\n",
              "<style scoped>\n",
              "    .dataframe tbody tr th:only-of-type {\n",
              "        vertical-align: middle;\n",
              "    }\n",
              "\n",
              "    .dataframe tbody tr th {\n",
              "        vertical-align: top;\n",
              "    }\n",
              "\n",
              "    .dataframe thead th {\n",
              "        text-align: right;\n",
              "    }\n",
              "</style>\n",
              "<table border=\"1\" class=\"dataframe\">\n",
              "  <thead>\n",
              "    <tr style=\"text-align: right;\">\n",
              "      <th></th>\n",
              "      <th>name</th>\n",
              "      <th>extremist</th>\n",
              "      <th>non_extremist</th>\n",
              "      <th>proportion</th>\n",
              "      <th>party</th>\n",
              "    </tr>\n",
              "  </thead>\n",
              "  <tbody>\n",
              "    <tr>\n",
              "      <th>0</th>\n",
              "      <td>Junge Nationalisten</td>\n",
              "      <td>147</td>\n",
              "      <td>7</td>\n",
              "      <td>95.45</td>\n",
              "      <td>NPD</td>\n",
              "    </tr>\n",
              "    <tr>\n",
              "      <th>1</th>\n",
              "      <td>Claus Cremer</td>\n",
              "      <td>494</td>\n",
              "      <td>30</td>\n",
              "      <td>94.27</td>\n",
              "      <td>NPD</td>\n",
              "    </tr>\n",
              "  </tbody>\n",
              "</table>\n",
              "</div>"
            ],
            "text/plain": [
              "                  name  extremist  non_extremist  proportion party\n",
              "0  Junge Nationalisten        147              7       95.45   NPD\n",
              "1         Claus Cremer        494             30       94.27   NPD"
            ]
          },
          "metadata": {
            "tags": []
          },
          "execution_count": 8
        }
      ]
    },
    {
      "cell_type": "code",
      "metadata": {
        "id": "qZR5byiKOE73",
        "colab_type": "code",
        "outputId": "f5686530-f524-44c1-a513-04558925b6ea",
        "colab": {
          "base_uri": "https://localhost:8080/",
          "height": 1000
        }
      },
      "source": [
        "bert_results.loc[bert_results['name'] == \"Claus Cremer\"].text.tolist()"
      ],
      "execution_count": 0,
      "outputs": [
        {
          "output_type": "execute_result",
          "data": {
            "text/plain": [
              "['Und wieder mehr Asylanten als erwartet   NRW wird massiv geflutet und mit den negativen Folgen wird die     ',\n",
              " 'RT  NRW  Köln  Einmal mehr Asylantenkriminalität   Polizei durchsucht Übergangswohnheim   ',\n",
              " 'Alles Gute und viel Erfolg im neuen Jahr   Jahreswechsel  ',\n",
              " 'RT  NRW  Ostwestfälischer  Verband nun auch wieder im Netz vertreten  www  owl de',\n",
              " 'Auch im Kreis  Steinfurt sind die Aktivisten weiter flei ig im Plakatiereinsatz   ',\n",
              " 'Die  NRW bei Facebook und Twitter         Widerstand  Rheinland  Westfalen',\n",
              " 'Zurück von einer Vortragsveranstaltung des KV Essen  wo ich gesprochen habe  Voller Saal und gute Stimmung  So lob  ich mir das ',\n",
              " 'Hallo Gutmenschen  Bitte kein Gejammer  IHR habt sie mit Schildern am Bahnhof willkommen gehei en   Paris  Europa',\n",
              " 'Ich habe ein neues Foto auf Facebook gepostet  ',\n",
              " 'Die Polizei  München hat ein Infotelefon für die Bürger geschaltet  Telefon Nr               ',\n",
              " 'Heute beim Kreiswahlausschuss in  Duisburg  wo die   als einzige rechte Kraft zur OB Wahl antreten wird   VorOrtAktiv',\n",
              " 'Ich habe ein neues Foto auf Facebook gepostet  ',\n",
              " 'Also ich mag die Band Frei Wild ja auch n ihr so  aber eine  italienische Band  ist sie trotzdem nicht ',\n",
              " '   ',\n",
              " 'Nach den heutigen Verteilungen ging es gleich weiter     Wahlkampfimpressionen',\n",
              " ' Hamburg  Natürlich ist Gewalt als pol  Mittel abzulehnen  aber der Protest bzw  der  Widerstand gegen  G   ist wichtig und richtig ',\n",
              " ' Deutschland  Thüringen  Und wieder einmal mu te ein  Demokrat  in seine juristischen Schranken gewiesen werden      ',\n",
              " 'Deutschland eine Zukunft geben  Raus aus dem Euro  raus aus der EU   ',\n",
              " 'Heute durch  Gelsenkirchen Ückendorf gefahren  Wie war das  Frau Kraft    kennt keine Ausländerghettos ',\n",
              " 'RT  de  Die Deutschlandfahrt der  startet  ',\n",
              " ' Asylflut So sieht es leider aus   ',\n",
              " 'Ich wünsche allen Bürgern  Freunden und Unterstützern ein frohes  und sichereres  Oster  Ostarafest ',\n",
              " ' RatBo  Gute Idee  liebe   aber da war die   wohl einmal mehr schneller am Ball          Für SIE aktiv   ',\n",
              " 'Am Wochenende findet eine landesweite Mandatsträgertagung der  NRW statt  Ziel ist eine weitere Koordinierung     ',\n",
              " ' ',\n",
              " 'RT  BoWat  NEIN zum Minarettbau in Bochum  Islamisierung stoppen   Heimat bewahren   ',\n",
              " ' ',\n",
              " 'Die Bekloppten sterben halt nicht aus      ',\n",
              " 'Da scheinen aber einige Personen Probleme damit zu haben  wenn man sich nicht mehr spalten lässt   ',\n",
              " '   November  Schicksalstag der deutschen Nation   Im Gedenken an die Teilwiedervereinigung und die deutschen Maueropfer ',\n",
              " 'Multikultur   Vielfalt   Fortschritt   Bereicherung   Integration  Habe ich irgendein dummes Schlagwort der     ',\n",
              " 'Anstatt sich um UN Einrichtungen zu kümmern  sollte Herr Gauck lieber mal bedürftige deutsche Familien besuchen     ',\n",
              " ' ',\n",
              " 'RT  NRW  Widerstand von  und örtlicher Bürgerinitiative zeigt Erfolg  Salafistischer Islamistenverein in     ',\n",
              " 'Recht hat er   ',\n",
              " 'Die Mitglieder Urabstimmung bei der  hat übrigens        für die Verschmelzung von  und DVU ergeben ',\n",
              " 'Nicht vergessen  Gefangen   Gefoltert   Gemordet  Am         Auf nach Bad Nenndorf     ',\n",
              " '     Prozent der Bürger in Bochum u  Wattenscheid sind arbeitslos  Puh  zum Glück bauen wir aber      ',\n",
              " 'Heute wählen die Iraner einen Nachfolger für ihren Präsidenten Mahmud Ahmadinedschad  Ich wünsche den Iranern     ',\n",
              " 'NEIN ZUM HEIM  Morgen findet in Essen Frintrop eine  Kundgebung gegen die Ansiedlung von Asylanten in der     ',\n",
              " 'Heute etwas legerer  aber dennoch konzentriert bei der Arbeit      Euch einen schönen Restsonntag     AusLiebeZurHeimat',\n",
              " 'Heute mal wieder auf der Sitzung der Bezirksvertretung  Wattenscheid   KommunalStattGlobal  SozialUndNational',\n",
              " 'Statt Asylanten bespa en  eigenen Landsleuten helfen  Speichern Sie diese Telefonnummern  um Leben zu retten   ',\n",
              " ' Bochum  Wattenscheid  Bürgerwehr  Widerstand  ',\n",
              " ' London  Europa  Terror  ',\n",
              " 'Trotz anlaufendem Bundestagswahlkampf sind auch in dieser Woche  Mitglieder aus NRW bei den Kameraden in     ',\n",
              " 'Am    Mai gibt es für nationale Aktivisten in  NRW eine Menge zu tun bzw  zu erleben  Raus auf die Stra e ',\n",
              " 'Neben den Landtagswahlen fanden auch die Kreistagswahlen in MV statt   Die  schnitt bislang vor allem in  cont   ',\n",
              " 'Schon seit mehreren Stunden im Stadtrat flei ig  Arbeit für Familie  Volk und Heimat findet halt nicht nur auf     ',\n",
              " 'RT  Gelsenkirchen  Das Direktkandidatenflugblatt von Dennis Blömer für den Wahlkreis      Gelsenkirchen       ',\n",
              " '   ',\n",
              " ' Ruhrachse führte Heldengedenken in Wattenscheid durch Am heutigen Heldengedenktag Volkstrauertag traf sich     ',\n",
              " ' NRW legt Verfassungsbeschwerde gegen die Landtagsneuwahl      ein   ',\n",
              " 'Auf der heutigen  Pegida Kundgebung in  Duisburg  ',\n",
              " ' ',\n",
              " 'Wir haben schon auf unsere  Heimat geachtet  bevor es  cool wurde     Deutschland  Europa  Widerstand  ',\n",
              " 'RT  NRW  Audio Wahlaufruf des  Landesvorsitzenden Claus Cremer zur Bundestagswahl           ',\n",
              " 'Also ich finde die  Sentinelesen ja vollkommen in Ordnung und merkwürdigerweise sagen in diesem Fall etliche Leute  dass der Stamm natürlich vollkommen im Recht war  als er sein Gebiet verteidigte  Auch sollte     ',\n",
              " ' NRW veröffentlicht Rahmenkommunalwahlprogramm   ',\n",
              " 'Gerade mal meinen Kalender rausgeholt und geschaut wann ich die Dienstreise nach Karlsruhe wegen dem     ',\n",
              " 'So  heute noch ein paar Verbänden eine Menge Wahlkampfmaterial auf s Auge drücken und morgen wieder auf der Stra e und am Bürger   nrw  ',\n",
              " 'Für Kultur  und Arterhaltung ',\n",
              " 'Impressionen vom heutigen  Trauermarsch in  Mönchengladbach  an welchem ich teilgenommen habe  Persönlich möchte ich anmerken  Ich wei  nicht was passiert ist  denn ich war nicht dabei  Was ich aber wei  ist      ',\n",
              " ' Chemnitz  Das war übrigens einer der friedlichen  Acts  des Irrenkonzertes  welcher zur Völkerverständigung beigetragen hat     ',\n",
              " ' Kiel  Dutzende  Einzelfälle belästigen Mädchen     Ausländerkriminalität',\n",
              " 'Diesen Monat startet die Deutschlandfahrt der   Vor allem westdeutsche Städte werden Ziel der Reise sein  Auf geht s ',\n",
              " 'Frei nach Monty Python s  Das Leben des Brian   Volksfront von Judäa oder Judäische Volksfront   stellt Anfrage     ',\n",
              " 'So ist es   ',\n",
              " 'RT  BoWat  Medienberichte belegen  Immer mehr Asylanten strömen nach Bochum und Wattenscheid  Die  hat auf diese  ',\n",
              " 'Heute viele positive Bürgergespräche am Rande der Kurzkundgebungen im  Ruhrgebiet geführt     NRW  Landtagswahl',\n",
              " 'Nationale Ruhrachse auch      weiter vorantreiben      Bochum  Dortmund  Essen',\n",
              " 'Meine Partei und ich wünschen Ihnen und Ihren Familien einen guten Übergang in das neue Jahr  sowie viel Glück     ',\n",
              " '      ',\n",
              " 'Heute mal wieder in Sachen  Kommunalpolitik unterwegs  Diesmal im Bezirksrathaus Duisburg Hamborn ',\n",
              " 'RT  ME D  Remagen  Erfolgreicher Trauermarsch mit über     Teilnehmern  Im Gedenken an die   Millionen toten Kriegsgefangenen   ',\n",
              " 'In diesem Sinne   ',\n",
              " 'Auf in den  pol   Kampf für  Volk und  Heimat  gegen  Islamisierung und  Asylflut   HoGeSa  Köln',\n",
              " '      Uhr  Dunkelheit  Kälte  HBF    Auf zur PV Sitzung  Guten Morgen  Deutschland ',\n",
              " 'Aus LIEBE zu Deutschland   ',\n",
              " 'RT  matthiasfaust  Querulant Branghofer verliert vor Gericht    gt  www matthiasfaust de',\n",
              " ' Schutzzone  Bochum  Wattenscheid  Die neuen  Taschenalarme sind frisch bei uns eingetroffen und kommen schon bald in die Verteilung  Gerade für Frauen und Mädchen leider ein notwendiger   ',\n",
              " 'Massenarbeitslosigkeit  Überfremdung  sozialer Niedergang   uro Wahn  Das ist die BRD im Jahr       Damit es besser wird    Was sonst ',\n",
              " '      PRESSEMITTEILUNG        Herr Obama  zündeln Sie nicht in Europa   Stra burger Plenarwoche  Die Ukraine     ',\n",
              " ' ',\n",
              " 'Das eigene  Volk zuerst  Die DE Sonderausgabe zum    Mai           ',\n",
              " 'Aus LIEBE zur Heimat   ',\n",
              " 'Keine Pause im Politgeschäft  Auf dem Weg zum Landtags  und Bundeswahlkampfstab     Volkspartei',\n",
              " 'RT  BoWat   Bochum ist pleite  Ausbaden sollen es die Bürger  Rot Grün will mehr Radarkontrollen auf A    A   und im Stadtgebiet ',\n",
              " 'Die Bekloppten sterben echt nicht aus     WPWW  ',\n",
              " 'Zum    Juni  Sonnenwende    ',\n",
              " 'Zur Zeit Ratssitzung   mit einer Anfrage zum Salafisten Samir Aidoudi auf der Tagesordnung ',\n",
              " 'Petra Pau    hält Verbotsgerede für kostenlose Werbung für die    Ich halte es eher für den  cont   ',\n",
              " 'Wer verbietet  der hat Angst vor der Wahrheit   ',\n",
              " 'Bekannt aus Funk und Fernsehen  www schulhof cd info',\n",
              " 'Ich habe ein neues Foto auf Facebook gepostet  ',\n",
              " 'RT  NRW  Erster Arbeitstag der NRW Wahlprogrammkommission nach    Stunden Arbeit beendet   Landtagswahl  NRW  ',\n",
              " 'Ich habe ein neues Foto auf Facebook gepostet  ',\n",
              " ' Bochum  Wattenscheid  RatBo    Deutschland     ',\n",
              " 'RT  twittprognosis  Landtagswahl NRW                             PIRATEN            FW         ',\n",
              " ' ',\n",
              " 'Wird Ostern bald auch verboten  Deutschland schafft sich weiter ab     MW   ',\n",
              " 'RT  NRW  Abt  gesunder Geist im gesunden Körper  Heute findet der gro e Leistungsmarsch der  NRW statt  Weitere Infos folgen ',\n",
              " 'Schöne Wahlkampfauftaktveranstaltung inkl  JHV in  Mettmann durchgeführt  Die neue Mannschaft ist hochmotiviert     NRW  Landtagswahl',\n",
              " 'Kommunalwahl NRW  Heute Wahlkampfinfostand und Materialverteilung in Bochum Werne  Anschlie end Lautsprecherfahrt durchgeführt ',\n",
              " 'Ich habe ein neues Foto auf Facebook gepostet  ',\n",
              " 'RT  BoWat  Asyl ist KEIN Selbstbedienungsladen    Einmal Deutschland und zurück  Keine Asylunterkünfte nach    ',\n",
              " ' ',\n",
              " 'Mal ein bischen Werbung  www facebook com nrw aufrufen   Gefällt mir  klicken und die  im Rheinland und Westfalen unterstützen ',\n",
              " ' ',\n",
              " 'Wie widerlich diese Franzosen feiern  Da können wir uns mal von den Afrikanern etc  eine Scheibe abschneiden  Da ist es immer ruhig und gesittet  Ich wei  nicht warum wir Europäer uns immer wie primitive Affen und minderbemittelte Nebenlinien der     ',\n",
              " 'Es bleibt dabei  Drinnen und drau en eine Front  Freiheit für alle Nationalisten   ',\n",
              " ' Für ein Recht auf Zukunft    Demonstration der Jungen Nationaldemokraten am Samstag in Leipzig ',\n",
              " 'Mal wieder unterwegs im  Rheinland und  Westfalen  Am        ging es zum Kreisverband  Mönchengladbach  wo ich im     ',\n",
              " 'RT  BoWat    Es sind noch einige der alten Kultaufnäher  Freiheit für  cont   ',\n",
              " 'Zurück von einer Saalveranstaltung der  Köln  Sehr warm  aber gute Stimmung und etliche Interessenten     NRW  Köln',\n",
              " 'RT  NRW  Und es geht immer weiter  Die bekannte Ratingagentur  Fitch  hat fünf  cont   ',\n",
              " 'JA zu  Europa   NEIN zur  EU ',\n",
              " 'Festung  Europa schaffen   Asylmi brauch stoppen   Widerstand leisten   ',\n",
              " 'Es gibt keine  Deutschen  mit  türkischen Wurzeln  und  Erdogan kann so viele Türken in der    verhaften wie er will  Nicht unser Problem ',\n",
              " 'Weiter geht s in  NRW     SchutzzonenSchaffen  WiderstandLeisten  ',\n",
              " 'FB RT  Thorsten Thomsen  Pierre Vogel lädt ins Paradies ein  Warum geht er nicht schon mal vor ',\n",
              " 'Heute hei t es Kraft tanken und morgen wieder für die Heimat durchstarten  Allen Bürgern  Freunden und Unterstützern einen schönen Sonntag ',\n",
              " 'Zurück vom     ordentlichen Landesparteitag der  NRW  Viele Entscheidungen getroffen und auch kontrovers diskutiert  Guter Tag ',\n",
              " 'Da war ich auch schon immer gegen            Knaller  VierteKlasseAbgebrochen  ',\n",
              " 'Salafisten drohen  Deutschland ist ein Kriegsgebiet  ',\n",
              " 'Kommunen entlasten  deutsches Geld für deutsche Interessen einsetzen ',\n",
              " 'Tja  manchen Leuten ist wohl wirklich nur mit der Geschlossenen zu helfen         ',\n",
              " 'Hier das ausführliche Urteil des VG  Gie en bezüglich unserer   Wahlplakate  Auch in der Justiz gibt es scheinbar Menschen  die sich trauen die Wahrheit zu sagen     MigrationTötet  WiderstandJetzt',\n",
              " 'Sollte es zu Neuwahlen kommen  ist die  NRW bereit  Die Arbeitskreise haben bereits getagt und die Planungen laufen ',\n",
              " 'RT  BoWat  OPEL  Wieder     Arbeitsplätze in Gefahr      ',\n",
              " 'RT  altermediade  Dresden          Februar       Der Genozid an         Menschen  Von Dr  Claus Nordbruch  ',\n",
              " 'Bilder von der heutigen Demonstration in Duisburg gibt es auf   ',\n",
              " 'Frau Röpke ist auch gerade an unserem Infostand eingetroffen  So früh am morgen so ein Gesicht    Schlimm ',\n",
              " 'RT  NRW  Das VG Gelsenkirchen hat entschieden  da  die Kommunalwahl in Dortmund nicht wiederholt werden mu      ',\n",
              " 'Rund    Millionen privater e Mail Benutzerdaten sind ausgespäht worden und können nun zu missbräuchlichen Zwecken     ',\n",
              " 'Bericht zur gelungenen Saalveranstaltung in  Mettmann     NRW    Rheinland  Landtagswahl',\n",
              " 'Naja  lieber  DFB  es könnte auch daran liegen  dass sich immer weniger Deutsche mit dem Projekt  Die  Mannschaft  und seinen   ',\n",
              " ' NRW als  besondere Problemregion   Bei der Armut in NRW ist keine Besserung in Sicht    Sozial geht nur national  ',\n",
              " 'Und weiter geht s  Am ersten Mai auf nach  Mönchengladbach     ',\n",
              " 'Wenn schon  Lügenpresse  ein Unwort ist  dann ist das nächste  Unwort bestimmt  Wahrheit    ',\n",
              " 'Polizeipresse  Polizei Bochum   POL BO  Herne   Sexueller Übergriff auf junge Schülerin       ',\n",
              " 'Die   gibt es auch bei  Instagram   ',\n",
              " 'Über           Fremdländer sind lt   Migrationsbericht  im Jahr      in die BRD eingesickert  Betrachtet man  cont   ',\n",
              " 'RT  NRW  Wie abnormal kann man sein      Höchststrafe für Kinderschänder ',\n",
              " 'RT  NRW  Ma losigkeit geht weiter   Die Damen und Herren Landtagsabgeordneten wollen sich am Donnerstag erneut ihre  ',\n",
              " 'Sehe ich auch so   DeutschlandErwache ist keine Straftat  sondern eine Notwendigkeit ',\n",
              " 'Im Landtag  NRW    Wahlausschu sitzung am                 Landtagswahl',\n",
              " 'Oh  einige der islamistischen  Terroristen von  Paris kamen als sog   Flüchtlinge  nach  Europa  Welch     ',\n",
              " 'Asylant müsste man sein  dann würde einem sowas vermutlich nicht passieren         ',\n",
              " 'Heute auf zu einem Bürgertreffen und über die aktuellen Probleme in diesem Land diskutieren aufklären   Bochum  Wattenscheid',\n",
              " 'Mahnwache MG     Landtagswahl  NRW  ',\n",
              " '  Mai        Raus auf die Stra e  ran an s Volk   ',\n",
              " 'Glückwunsch an die Dortmunder Kameraden  Gruppenstatus erreicht und nach bisherigem Stand auch einige Bezirksvertretungen genommen ',\n",
              " 'Ich habe ein neues Foto auf Facebook gepostet  ',\n",
              " 'RT  BoWat     Freitag Antifanten Demo in Bochum gegen  Ratseinzug  Ob wieder so edle Gestalten auftauchen ',\n",
              " 'In der September Ausgabe der  Deutschen Stimme   DS    Artikel über die Anfrage der   Ratsgruppe  Bochum zum Fall des Terrorunterstützers  Sami A     RatBO  Deutschland  Europa   ',\n",
              " 'Guten Morgen  Welt     ',\n",
              " 'Der Kindermörder aus  Herne scheint gefasst zu sein  Die Forderung bleibt  Todesstrafe für Kindermörder   Untermensch',\n",
              " 'Alles Unschuldslämmer    Besonders die  die sich entziehen wollten     Asylflut  NRW',\n",
              " 'Für SIE vor Ort aktiv     ts ',\n",
              " '   ',\n",
              " 'Antifa hei t Schmerzen haben    Plakatzerstörung nachhaltig gescheitert   ',\n",
              " ' nrw Schade das sie nicht gleich ganz schlie en   PEGIDA wird das sicherlich massiv stören   IronieAus',\n",
              " 'Na endlich      ',\n",
              " 'Neben FB und Twitter kann man auch meine reguläre Netzseite  mit Hintergründen  Bildern etc   besuchen   ',\n",
              " ' RatBo Aktuelles Infomaterial der   im Rat der Stadt gibts s über unsere Ratsgeschäftsstelle  imrat bochum de',\n",
              " 'Zukunft sichern   wählen ',\n",
              " 'Egal was heute Nacht noch passiert  Ich stelle hiermit klar  dass ich nicht als Innenminister unter Angela Merkel zur Verfügung stehe      Deutschland        GrenzenSichern  EuropaSchützen',\n",
              " 'Gestern zu Gast beim Neujahrsempfang der  Fraktionen  Leun und  Wetzlar  Eine gelungene Veranstaltung mit guten Rede  und Musikbeiträgen ',\n",
              " 'Liebe Dortmunder  morgen hei t es unbedingt ins Wahllokal zu gehen und die soziale Heimatpartei  zu wählen  Aus Liebe zu Deutschland ',\n",
              " 'Heute unterwegs gesehen und für gut befunden  Bild   ist natürlich mehr was für die Christen unter uns  sagt aber trotzdem alles aus ',\n",
              " ' ',\n",
              " 'Heute kam es im Kreis  Coesfeld erneut zu einer gro  angelegten Verteilaktion  Rund       Haushalte wurden mit Informationen der sozialen  Heimatpartei   versorgt  Wenn auch Sie aus dem   ',\n",
              " '   Minuten unzensierte Systemkritik und Informationen rund um die    Hier das Interview des  NRW Landesvorsitzenden Claus Cremer mit dem Politblog  Abakus News      Deutschland  Europa  Widerstand',\n",
              " 'Die Armut ist ein Teil Deutschlands Während die politische Klasse in Berlin sich darüber den Kopf zerbricht  ob     ',\n",
              " 'RT  MM     Justiz   gegen schärfere Mindeststrafen bei Kindesmissbrauch   ',\n",
              " 'RT  BoWat  Und schon wieder Ausländerkriminalität    Am           wählen     Radikal für DEUTSCHE     ',\n",
              " 'Wie ich soeben erfahren habe  sollen heute alle  noch inhaftierten  Aktivisten aus dem  AB Mittelrhein Proze       ',\n",
              " 'Wahlwerbespot des  Bündnispartners DVU zur Europawahl     Zwar nicht der Knaller  aber wenigstens inhaltlich richtig ',\n",
              " 'Solidarität mit  Palästina   PalestineUnderAttack  Palestine',\n",
              " ' Asylflut  Naja  dann bleiben die Jungs bei ihren abendlichen Absprachen bezüglich ihrer  Fachkräftearbeiten      ',\n",
              " '    der Asylanträge von  Schein Asylanten aus den  Balkanländern werden abgelehnt  Warum werden sie dann nicht auch abgeschoben ',\n",
              " 'Olympia  Ich bin dafür auch die iranischen Sportler nach ihrem Verhältnis zu Israel und die      ',\n",
              " 'Endlich mal  wenn auch eher symbolisch  Heute wurde ein r Student in Bochum zu        auf  cont   ',\n",
              " ' ',\n",
              " 'Nur durch Glück wurde niemand verletzt  Irrer r stie  Stra enschild durch Frontscheibe des Einsatzfahrzeuges ',\n",
              " 'RT  BoWat  Andere reden  wir handeln  Heute fand ein gut frequentierter Informationsstand der  cont   ',\n",
              " 'Mal ein bisschen Werbung für unseren Händler des Vertrauens        ',\n",
              " 'Frisch an s Werk für deutsche Interessen   ',\n",
              " 'Traurig ist  wenn ein OB seine verängstigten Bürger ignoriert und sich der Diskussion entzieht    ',\n",
              " 'Nach dem Schwulen  jetzt der Asiate  Die  ist wirklich  anders        Die NORMALEN ',\n",
              " 'Geplantes Verbotsverfahren wird scheitern   wird noch massiver in die Öffentlichkeit treten   ',\n",
              " 'Für die Verrückten von  WirSindMehr hier mal ein paar Landsleute von  WirSindNichtMehr   DeutscheOpfer  FremdeTäter  Aufstehen  Widerstand  ',\n",
              " ' Hannover  Das  VG Hannover hat dass Verbot der   Demo durch die  Polizei H wieder aufgehoben  Gut so   Widerstand jetzt   Gegen  Pressehetze und  Gossenjournalismus  H    ',\n",
              " 'Bei der heutigen  Wahlkampfkundgebung in  Iserlohn wurden übrigens   gewalttätige Linksextremisten verhaftet     NRW  Landtagswahl',\n",
              " 'Heute Multikulti Terror in Englang  vor nicht allzu langer Zeit in Frankreich  regelmä ige Ausschreitungen in  cont   ',\n",
              " 'Selten  Alle afrikanischen Mannschaften dieser  WM auf einem Bild ',\n",
              " 'Gerade Luftunterstützung bekommen   Werbeflieger zieht über das  Ruhrgebiet     NRW  ltw  ',\n",
              " 'Bericht zur Mahnwachenkundgebung der  in Dortmund  ',\n",
              " 'Ich habe ein neues Foto auf Facebook gepostet  ',\n",
              " 'Kommunalpolitischer Abend in Essen   ',\n",
              " 'Heute Sitzung der Bezirksvertretungen Wattenscheid  Aktuelle Infos gibt es immer unter   ',\n",
              " 'Flei ig   ',\n",
              " 'Abt  Zeitgeschichte  Vor ein paar Jahren habe ich anscheinend schonmal in  Duisburg öffentlich Stellung bezogen      ',\n",
              " 'Käufliche   in  NRW    Die   bietet interessierten Mitbürgern und Journalisten kostenlose Gesprächstermine an ',\n",
              " 'So  zur Abwechslung jetzt schon Feierabend für heute  Gleich noch ein wenig kommunale Literatur lesen und dann morgen wieder ran an den Feind     Deutschland  KommunalStattGlobal   ',\n",
              " 'Wünsche allen Kameraden  Freunden und Unterstützern besinnliche Jul  Weihnachtstage ',\n",
              " 'Guten Morgen  Auf dem Weg zum Bundesparteitag  Infos über die Veranstaltung gibt es über die bekannten Parteikanäle ',\n",
              " ' Widerstand leisten     unterstützen   ',\n",
              " 'Endlich mal jemand  der nicht sofort einknickt       ',\n",
              " 'Natürlich darf heute auch ein anderes  wichtiges Thema nicht vergessen werden  Allen Müttern einen schönen Muttertag   KeimzelleDesVolkes',\n",
              " 'Albert Leo Schlageter   Märtyrer für  Deutschland ',\n",
              " 'Meinungsfreiheit statt  politische Korrektheit    SagWasDuDenkst',\n",
              " 'Lachhaft  NRW Polizei sucht Bewerber   Zuwanderer besonders gefragt     Salafisten  Überfremdung',\n",
              " ' Hamburg  G    Linksgewalt Die ausländische Presse mit einem guten und schonungslosen Einblick in die sog    ',\n",
              " 'Ersten Angaben zufolge sind rd      nationale Aktivisten in Bad Nenndorf und nehmen an dem jährlichen Trauermarsch teil ',\n",
              " 'Aus der Landesgeschäftsstelle zur Sitzung des Haupt  und Finanzausschu es und danach noch ein Gespräch mit rheinischen KV Vertretern ',\n",
              " 'Für ein  Europa der Vaterländer   APF        ',\n",
              " 'Die  NRW bei Facebook   ',\n",
              " ' TellEUROPE  ',\n",
              " 'Wünsche allen Freunden und Unterstützern einen ruhigen und angenehmen  Rest    Advent im Kreise der Lieben ',\n",
              " 'Nachgereicht  Bild vom pol  Aschermittwoch mit Unterstützung des Front National ',\n",
              " 'Spontane Kundgebung der   in König Wusterhausen  Redner waren Aileen Rokohl  Ronny Zasowk und Claus Cremer   ',\n",
              " 'Die neue  Nation in Europa  unseres Europaabgeordneten Udo Voigt ist erschienen  Noch sind ein paar Exemplare da     ',\n",
              " ' c      Widerstand',\n",
              " 'Der nationale Widerstand demonstriert in Essen Mitte   Asylflut und  Islamisierung stoppen ',\n",
              " 'RT  NRW  GE E  Unfassbar  nur sechs Monate auf Bewährung für Kindesmissbrauch     MW   ',\n",
              " '   Duisburg  Verwaltungsgericht  Düsseldorf Schöner Erfolg unserer örtlichen Ratspartei ',\n",
              " 'Nächste Termine         Gedenken an den Mauerfall          Sitzung der Bezirksvertretung Wattenscheid          Sitzung des  GLV ',\n",
              " 'Die Listen zum  Wahlantritt der   zur  Europawahl sind da  Einfach anfordern  unterschreiben und zur Landesgeschäftsstelle schicken   NRW   Postfach                Bochum   Wer dann   ',\n",
              " 'Na dann kann ja nichts mehr schief gehen    Islamisierung stoppen   ',\n",
              " 'PM der  im Rat der Stadt Bochum  Tränenliste  Bochum   Ratssitzung am            eine reine Farce  ',\n",
              " 'Das öffentliche Versagen der Behörden in  Köln  sowie das rechtswidrige Vorgehen gegen die   machen     ',\n",
              " 'Naja  also Solidarität mit  USrael geht mir persönlich schon ein wenig zu weit      FreePalestine     ',\n",
              " 'RT  NRW  Nach einer fantastischen Kundgebung in der gutbesuchten Innenstadt von Duisburg  ist der heutige     ',\n",
              " ' Heimatliebe ist kein Verbrechen   SagWasDuDenkst  EsIstUnserLand',\n",
              " 'Wu te gar nicht das an meinem Büro ein Bach vorbei flie t     Supergewitter  ',\n",
              " 'RT  Bochum Wattenscheid  NEIN zum Heim in Günnigfeld  Heute verteilen Aktivisten im Wattenscheider Stadtteil     ',\n",
              " 'Mit Udo Pastörs ins Superwahljahr        Parteipräsidium berät Situation nach dem Rücktritt Holger Apfels Am     ',\n",
              " ' b     Planmä ig und zum Entsetzen der örtlichen Linksextremisten marschiert die nationale Opposition durch  Berlin  Das Thema wird deutlich in die Öffentlichkeit getragen ',\n",
              " 'Während die christlichen Heere morgen mal wieder Pause machen  ist der nationale Parteisoldat im Einsatz       ',\n",
              " ' ',\n",
              " 'Kurzinterview mit dem Bundespräsidentschaftskandidaten Dr  Olaf Rose   ',\n",
              " 'War heute eigentlich auch der  DGB in  Bochum  Berichtet ja kaum einer drüber       Arbeiterverräter',\n",
              " 'Doppeltes Ungemach für  Die    In NRW steht ein Fraktionsvorsitzender der ehemaligen DDR Staatspartei im     ',\n",
              " 'Gerade beim gemütlichen Fu ballabend  Als Bundesvorstandsmitglied bin ich natürlich neutral  als     ',\n",
              " 'Asylflut stoppen  Widerstand zeigen   ',\n",
              " 'RT  BoWat  Soll da etwas verheimlicht werden  Verwaltung will Anfrage der  zur geplanten Moschee am Bismarckpl   ',\n",
              " 'Nur der verdient sich Freiheit wie das Leben  der täglich sie erobern mu    Johann Wolfgang von Goethe  ',\n",
              " ' KeineEheFürAlle  ',\n",
              " 'Im Einsatz für deutsche Interessen ',\n",
              " 'Gut so Einzelnen Vertretern des BRD Gossenjournalismus wurde die Akkreditierung zum BPT      versagt   Dient auch dem Schutz der Aktivisten ',\n",
              " 'Während die übrigen Stadtverordneten sich heute in einem kollektiven  Schuldkult  ergehen  werde ich an einer         ',\n",
              " 'RT  BoWat  Zur Zeit findet auf dem Rathausvorplatz eine Mahnwache palästinensischer Aktivisten gegen den  cont   ',\n",
              " 'Auf dem Weg zur Arbeit im Radio wieder nur  NSU BlaBla   Nochmal  Es gibt KEINEN rechtsextremen  Terror   sondern      ',\n",
              " 'Die Zeiten haben sich irgendwie nicht geändert   ',\n",
              " 'Zur Kommunal  und Europawahl   ',\n",
              " 'Heute eine gelungene kommunalpolitische Veranstaltung durchgeführt       Für SIE vor Ort aktiv ',\n",
              " 'Am Tag der Deutschen  Teil Einheit wünsche ich allen Landsleuten einen schönen Feiertag und allen Aktivsten auf     ',\n",
              " 'Was für eine Bereicherung     RefugeesNotWelcome  ',\n",
              " 'RT  BoWat   Bundesparteitag in Wattenscheid   ',\n",
              " 'Auf dem Weg zur traditionellen    November Aktion der  in Essen  Im Gedenken an die Maueropfer ',\n",
              " 'Alles Gro e steht im Sturm   ',\n",
              " 'RT  BoWat  Nur wir setzen uns für eine vernünftige und an den Interessen unserer Kinder orientierten     ',\n",
              " ' SagWasDuDenkst  Widerstand  Deutschland  Europa',\n",
              " '   ',\n",
              " 'Zurück von einer effektiven und zielführenden Sitzung des geschäftsführenden Landesvorstandes  NRW  Allen Freunden und Unterstützern einen schönen Restsonntag     Widerstand  Deutschland  VorOrtAktiv',\n",
              " 'Tja lieber  Der Islam gehört zu Deutschland  Christian  Kannst ja bei Deinen Moslemfreunden fragen  ob die Deinen  Ehrensold  bezahlen ',\n",
              " ' Deutschland  Europa  Widerstand    APF   ',\n",
              " 'Ich habe ein neues Foto auf Facebook gepostet  ',\n",
              " '  BoWat   OBwahlBO  ratbo  db   ',\n",
              " 'Für und mit   war ich heute bei der Bürgerdemonstration in  Bottrop  wo über      Landsleute unter     ',\n",
              " 'Blöde Nazipropaganda    Sicherlich hat sie ihm Signale gesendet      IronieAus  Rapefugees  GrenzenSichern  EuropaSchützen',\n",
              " 'Auch bei der Briefwahl daran denken   ',\n",
              " 'Laut einem heute veröffentlichten Urteil des LG Köln  sind Beschneidungen aus religiösen      ',\n",
              " 'Bericht zu den Landesparteitagen der  NRW unter  ',\n",
              " 'Und weiter geht der Wahlkampfeinsatz  Heute stehen Essen  Wuppertal und Düsseldorf auf dem Programm ',\n",
              " 'Unglaublich   ',\n",
              " 'Vielleicht ist die wei e Welt doch noch nicht so ganz verloren   USA  Trump  MakeGermanyGreatAgainToo',\n",
              " 'Mal ein bisschen Werbung für meinen Heimatverband       Gefällt mir  klicken nicht vergessen ',\n",
              " 'Und der nächste  Blödsinn einer links liberal versifften Weltanschauung  Leistung  Ambitionen  sportliches     ',\n",
              " 'Grenzen schlie en   Europa schützen  Gegen  Islamisierung   Überfremdung und  Terrorismus   APF    ',\n",
              " 'Heute auf dem Landesparteitag der  NRW zum Spitzenkandidaten zur Bundestagswahl gewählt worden  Ich  cont ',\n",
              " 'Die FB Bundesseite der  schickt sich an die Seite der n zu überholen  Also ran   ',\n",
              " 'Asylflut hat Wohnungsmangel zur Folge Der Mieterbund warnt davor  dass die Vernachlässigung des Baus von     ',\n",
              " ' ratbo  obwahlbo  ',\n",
              " 'Aus Krankheitsgründen heute leider nicht in Recklinghausen  Hoffe aber die Kameraden vor Ort sind zahlreich und haben viel Erfolg ',\n",
              " 'Klarstellung zum Oslo Killer    Gerade hat Nick Griffin  BNP  getwittert   The Oslo mass murderer is not a  cont   ',\n",
              " ' Natürlich kannst Du heute eine Kippa tragen  aber dann biste halt kacke     ',\n",
              " 'Heute auch wieder im direkten Stra eneinsatz und am Bürger  Und mag man uns noch so kurze Fristen geben   Wir bleiben am Ball ',\n",
              " 'Deutsches Geld für deutsche Interessen   ',\n",
              " 'Für einen gesamteuropäischen  wei en  Widerstand   Deutschland  Europa    APF  Heimat  Tradition  Kultur  Art  Rasse',\n",
              " 'Deshalb   Widerstand leisten   ',\n",
              " 'Mein Wort zum Sonntag ',\n",
              " 'Heutzutage leider notwendiger denn je    ',\n",
              " 'Hier sieht man einmal mehr  wie sich der deutsche Staat verarschen lässt   WiderstandJetzt  ',\n",
              " 'Und weiter geht s mit den  Rapefugees  Warte schon auf den Ersten Idioten der  Einzelfall ruft       ',\n",
              " 'Die Firma Steilmann gibt ihren bisherigen Geschäftssitz in Wattenscheid auf und zieht auf Wuns    Read more at  ',\n",
              " 'Unser Wahlprogramm zur  Europawahl     ',\n",
              " 'Ich wünsche allen Mitstreitern und Unterstützern einen guten und gesunden Übergang in das Kampfjahr      ',\n",
              " 'Nach zwei Rednerauftritten an Rhein und Ruhr   Krefeld und  Münster   ist nun Feierabend  Euch allen ein schönes     ',\n",
              " 'Techniktip  Das könnte interessant werden   Twitter wird zur Messenger App   ',\n",
              " '   Verboten GUT   ',\n",
              " ' Ruhrgebiet  Heute beim  RVR die Wahlunterlagen zum Wahlantritt des Bündnisses  ruhralternative abgegeben  Auch die Formulare für eine sog  Unterstützungsunterschrift liegen nun vor  Der Wahlkampf um das  Ruhrparlament kann losgehen ',\n",
              " '      PRESSEMITTEILUNG        Das Gemeinwohl mu  Vorrang haben   Udo Voigt lehnt das umstrittene TISA Abkommen     ',\n",
              " ' ',\n",
              " ' Dresden   Aus der Trauer zur Kraft  Alliierter Bombenholocaust   Kein Vergeben  kein Vergessen   ',\n",
              " 'Zweiter Tag der   Parteivorstandssitzung  Frisch und frei ans Werk für  Deutschland   ',\n",
              " 'Ab sofort ist auch DS TV online  Die erste Ausgabe gibt es hier   ',\n",
              " ' JN Kondom sorgt für  gewollten  Wirbel in Essen Stadtverordneter Haliti sieht etwaigen Ermittlungen mit     ',\n",
              " 'Bericht zur Eröffnungsfeier     LGS',\n",
              " 'Das letzte Aufgebot im Kampf gegen die   ',\n",
              " 'So fängt der Arbeitstag ja super an   Postterror      ',\n",
              " 'Meinen Twitter hat es  erwischt    Einer meiner neuen  Follower  ist  twitter com BafVS     Ob es da eine hauptamtliche Twitter Stelle gibt ',\n",
              " 'RT  NRW  Am Sitz der neuen VS Behörde zur zentralen Erfassung sog   Rechtsextremisten  in Meckenheim      ',\n",
              " 'Und auch in den nächsten   Jahren     Für SIE vor Ort aktiv ',\n",
              " 'Der neue Parteivorsitzende der  hei t Frank Franz  Ich gratuliere an dieser Stelle und wünsche viel Erfolg für     ',\n",
              " 'Ersten Informationen zufolge  haben sich über      Teilnehmer zum Trauermarsch in Magdeburg eingefunden  Nochmal viel Erfolg von hier aus ',\n",
              " 'Tolle Stadt   ',\n",
              " 'Zur Zeit in der Dezembersitzung des HFA Bochum  Es geht insbesondere um den Haushalt      ',\n",
              " 'NRW  Verstö t der Verband des Innenministers gegen geltendes Recht   ',\n",
              " ' Ruhrgebiet  Deutschland  Europa  APF  Widerstand        ',\n",
              " 'KW       Formalitäten in Bochum und Wattenscheid geschafft   tritt zur Stadtratswahl BO  inkl    BV s  und WAT an ',\n",
              " 'Ich habe ein neues Foto auf Facebook gepostet  ',\n",
              " ' ',\n",
              " 'RT  Bochum Wattenscheid  Natürlich gibt es über die Ratsgeschäftsstelle der  auch zielgerichtetes     ',\n",
              " ' Sperrklausel    VGH  Münster  ',\n",
              " 'Ich habe ein neues Foto auf Facebook gepostet  ',\n",
              " 'Heute führte die  NRW eine Presseschulung in der Landesgeschäftsstelle in Essen durch  Marcel Haliti     ',\n",
              " 'Und wieder sind es die eigenen Leute  die unter dem  Asylwahnsinn der etablierten Politversager leiden müssen      ',\n",
              " 'Heute erstes Treffen des AK Politik im Jahr       Ein Thema wird u a  die Möglichkeit einer Neuwahl in NRW sein   ',\n",
              " 'Die  Bochum Wattenscheid ist ab heute auch mit bezahlter FB Werbung am Start  um noch mehr Bürgerinnen und     ',\n",
              " 'Berlins Bewerbung für die Olympischen Spiele   WirWollenDieSpiele',\n",
              " 'Vor der Sitzung haben ein paar Verwirrte eine kleine Mahnwache abgehalten und Flugblätter verteilt   OhneMich   D',\n",
              " 'Auch diese Woche geht es wieder in ein Rathaus UND raus auf die Stra e  Im Gegensatz zu den Etablierten sind Nationalisten nicht nur zu Wahlkampfzeiten aktiv  Mehr dazu später ',\n",
              " 'RT  BoWat  Auch die neuen Flugblätter zur Asylproblematik in Wattenscheid Leithe sind jetzt eingetroffen  Als      ',\n",
              " ' Europa  Deutschland  Heimat  Kultur  Art  Rasse  Volk  Widerstand  GrenzenSichern  KontinentSchützen    APF  ',\n",
              " 'In satira veritas     ',\n",
              " 'Heute den freien Tag genutzt  um noch ein paar Interessentenanfragen zu sichten bzw  zu beantworten  Sei auch     ',\n",
              " 'Nicht vergessen  Mit allen Stimmen   wählen   EP      Europawahl  Kommunalwahl  NRW',\n",
              " 'RT  de   würde in Mecklenburg Vorpommern   ohne schon in den Wahlkampf eingetreten zu sein   den Wiedereinzug     ',\n",
              " ' Schutzzone  Bochum  Wattenscheid  RatBO  Heute besuchte uns eine Bürgerin in der Ratsgeschäftsstelle  die von der Schutzzonen Kampagne und unserem Aufruf gehört hat  Natürlich konnten wir   ',\n",
              " 'Letzte Infostandaktion für heute in Rostock Toitenwinkel erfolgreich hinter uns gebracht  Morgen wieder ran ans Volk ',\n",
              " 'Das  geheime  Täterfoto von Mircos Mörder wurde anscheinend aus der Polizeidienststelle heraus an die BILD Zeitung übermittelt  Gut so ',\n",
              " 'Ich habe ein neues Foto auf Facebook gepostet  ',\n",
              " 'Die DS Aktuell bei Twitter  www twitter com dsaktuell ',\n",
              " 'In Bonn hat heute ein Linksextremisten versucht den Parteivorsitzenden Holger Apfel zu attackieren  Ende vom Lied       ',\n",
              " 'Wollen wir es hoffen  Walloniens Nein entfacht Flächenbrand in Europa    ',\n",
              " ' Inhalte statt  Grinsegesichter   OBWahlBO',\n",
              " 'Mal den Keller aufgeräumt und alte Schätzchen gefunden  Die erste  Bürgerinitiative Ausländerstopp  BIA   kam in     ',\n",
              " 'RT  de  Die Polizei Hannover sucht einen gefährlichen n Gewalttäter  helft mit   ',\n",
              " 'Es gibt für uns keine Tabuorte und auch keine Tabudaten  So wird die  heute würdevoll den dt  Opfern des         ',\n",
              " ' HorstMahler  Solidarität  ',\n",
              " 'Das Schöne daran ein heimatverbundener Nationalist zu sein ist die Tatsache  dass ich mich nicht verteidigen muss und mir jeder Spruch herzlich egal ist  Hier komm  ich wech   Hier bin ich zu Haus   Ruhrgebiet   ',\n",
              " 'Der VVN BdA Bochum fordert  da  sich die Abgeordneten der Systemparteien OHRENSCHÜTZER aufsetzen  wenn die  das Wort ergreift   ',\n",
              " 'Auf dem Weg nach  Saarbrücken     Neujahrsempfang  LTW    ',\n",
              " 'In diesem Sinne  Kopf auf die Schultern und nicht in den Sand  Für Familie  Volk und Vaterland ',\n",
              " 'Abschlusskundgebung in  Falkensee   MordVerjährtNicht  Hess  GebtDieAktenFrei',\n",
              " 'Warum wir  verfassungsfeindlich  sein sollen  Weil wir die  Volksgemeinschaft fordern  Aber wie hei t es so schön  In diesem Staat verfolgt zu werden  ist die höchste Ehre dieser Zeit    ',\n",
              " 'Ehrlich gesagt hätte mich ein anderes Ergebnis auch stark gewundert       ',\n",
              " 'Bericht der  APF über den sehr gut organisierten Kongress in  Rom   ',\n",
              " 'Was n tv leider  vergisst  zu schreiben ist  dass diese Verfahren gegen Linksextremisten geführt werden  siehe z B  Videos bei Blickpunkt TV      b      Berlin',\n",
              " 'Der erste Einsatz in BI wird gerade beendet  Nach Reden von Frank Franz und mir  sowie einigen Musikbeiträgen geht es nun nach Münster ',\n",
              " 'So sieht es aus  Darum  Am        die  in das Europaparlament wählen   ',\n",
              " 'Nach der Ratssitzung geht es nun zur JHV meines Kreisverbandes  Ich schaffe es heute noch nach Hause     ',\n",
              " 'Heute bei Videoaufnahmen für ein nationales Jugendmedienprojekt  Thematisch ging es schwerpunktmä ig um das Nationale Bündnis  Ruhrgebiet   NBR      Ruhralternative  Ruhrpott  NRW   ',\n",
              " 'Brrr  zur Zeit ist es hier drau en wie in der BRD allgemein   dunkel und kalt ',\n",
              " 'NRW  Die ist die Polithure der  und der n  ',\n",
              " 'NRW  RT  de  Presseaufregung   wirbt bei Schülervertretern  mit Radiobeitrag   ',\n",
              " 'RT  NRW  Würdevolle Gedenkveranstaltungen der  NRW     ',\n",
              " 'Es gibt Menschen  die sind halt gerne dumm  Sie gehören doch sicherlich nicht dazu  oder      ',\n",
              " 'Duisburg  Die Wähler im Stimmbezirk      haben der   bei der Nachwahl am heutigen Tage mit satten     das     ',\n",
              " 'Bei den Etablierten leider Fakt   ',\n",
              " 'RT  BoWat  Die  Stadtverordneten aus Bochum und Essen  Claus Cremer und Marcel Haliti  werden in der kommenden      ',\n",
              " 'Die   bei Twitter  Klar   de  nrw  bowat  direkt',\n",
              " 'Ich mag die  Demokraten   Da wählt der Bürger eine unliebsame Partei und sofort wird wieder ein Verbotsverfahren gefordert ',\n",
              " '    RT  BoWat  Abteilung   Nationales Fundbüro   ',\n",
              " ' Aufnahmestopp  Europa  Deutschland  GrenzenSichern  AsylflutStoppen  ',\n",
              " ' IsraelMordet  SolidaritätMitPalästina',\n",
              " 'Heute in  Bielefeld bei eine Demonstration gegen  Asylmi brauch ',\n",
              " '  Million Tote rufen zur Tat   ',\n",
              " '      Erste Ansichten aus der Zensurbehörde ',\n",
              " 'Heute Abend hei t es in  Dortmund Solidarität zeigen   Polizeigewalt und politisch motivierter  Staatsterror müssen gestoppt werden ',\n",
              " ' cc  Politische Verfolgung  Unterdrückung und Schikanen gibt es in unserer Demokratie nicht       sagen die     ',\n",
              " 'Heute fand in  NRW die    Führungskräftekonferenz des   Parteivorstandes statt      ',\n",
              " 'Nach einem arbeitsreichen Tag auch wieder daheim  Dank an alle  die Unterstützungsunterschrift geleistet haben   ',\n",
              " 'RT  NRW  Dein SMS Kontakt zur nationalen Opposition im Rheinland und Westfalen                   Einfach     ',\n",
              " 'Kreisparteitag der  Bochum Wattenscheid durchgeführt   rm   ',\n",
              " 'Wenn man jetzt schon über die Haare sprechen mu   ist es wirklich vorbei     ',\n",
              " 'Heldentat in Duisburg    jährige rettet Kind vor Gewalttäter  ',\n",
              " 'Kostenlose Mitversicherung von im Ausland lebenden Türken  Petitionsausschuss lehnt Antrag auf Stopp ab  ',\n",
              " 'RT  BoWat  Die WAZ berichtet  da  im Bochumer Ausländerbüro noch immer Chaos herrscht    Mit  cont   ',\n",
              " 'Auf dem Weg zum zweiten Kundgebungstag  Auf geht s  Deutschland kennt kein Wochenende ',\n",
              " 'Quod es negesarium es ligitum ',\n",
              " 'Noch freut sich der Rotpöbel über die Demoverhinderung bei  Bogida   aber auch in  Dresden waren es anfangs  nur        ',\n",
              " 'Aus der  BRD ist schon lange  Absurdistan geworden  Die Herrschenden können nur dankbar dafür sein  da  unser   ',\n",
              " 'Im Einsatz   Heldengedenken       ',\n",
              " 'Ich habe ein neues Foto auf Facebook gepostet  ',\n",
              " 'Nachdem sich die Woche mit einer Menge Schriftkram  einer Ratssitzung und einem Klageverfahren dem Ende zuneigt      ',\n",
              " 'Ich habe ein neues Foto auf Facebook gepostet  ',\n",
              " ' ',\n",
              " 'RT   Muenster  Schon wieder wurde ein Kind in Steinfurt missbraucht  Wir fordern  Todesstrafe für Kinderschänder   ',\n",
              " ' RatBo  OBwahlBO  ',\n",
              " ' ltwnrw Die neuen Werbepostkarten der   sind nun auch im Einsatz  Vielleicht auch schon bald in Ihrem Briefkasten   ',\n",
              " 'Heute wurden   Kundgebungen der  in der Seidenstadt Krefeld unter dem Motto   Islamisierung stoppen       ',\n",
              " ' Bochum  Sexualstraftäter  Forensik  Die Bürgerinnen und Bürger wollen keine Verzögerung  sie wollen gar keine     ',\n",
              " 'Zahl des Monats  Über        Menschen in Bochum Wattenscheid sind arbeitslos  Das entspricht         Die Lösung     Sozial statt global ',\n",
              " 'Ich habe ein neues Foto auf Facebook gepostet  ',\n",
              " 'Wahlbeteiligung zur Europawahl bis zum Mittag auf historischem Tiefstand  Glückwunsch  mein lieber Herr  Demokratenverein  ',\n",
              " 'Claus Cremer zur Europa  und NRW Kommunalwahl im Mai        Deutschland und Europa brauchen eine soziale und     ',\n",
              " 'Ich habe ein neues Foto auf Facebook gepostet  ',\n",
              " '   Deutschland  APF  Europa  Widerstand',\n",
              " 'Das Bundesverfassungsgericht hat alle Vorschriften zur Sicherungsverwahrung für verfassungswidrig erklärt  Extrem     ',\n",
              " 'Im Rheinland und Westfalen droht ein Pflegenotstand   ',\n",
              " ' Widerstand leisten     Mitglied werden   ',\n",
              " 'Blick aus dem Ratssaal  Ja  ich bin drin     ',\n",
              " 'Volk steh auf  Ein Drittel      der in Deutschland lebenden Muslime bevölkert das Rheinland und Westfalen  Widerstand jetzt    ',\n",
              " 'Der Moment  wenn die Gegenseite mehr Werbung für einen macht  als man es selbst machen könnte     G       ',\n",
              " 'Linksextremistischer Brandanschlag auf die    NRW  Fahrzeug niedergebrannt und Gebäude beschmiert  Weitere Berichte folgen   ',\n",
              " 'RT  BoWat   Bildungsstreik  Junge Protestler stürmen Bochumer Rathaus  Vollste Solidarität   Wer sich nicht wehrt  lebt verkehrt ',\n",
              " ' ',\n",
              " 'Ha ha ha  Aus der  Marterialsammlung  für ein  Verbotsverfahren   Die aggressiv kämpferische Haltung der  cont   ',\n",
              " 'Neue Werbeartikel wie Infostand  Messestand   Beachflag  etc  erhalten  Fotos folgen  Die nächsten Aktionen können kommen     Deutschland',\n",
              " 'RT  NRW  Natürlich nicht strafbar   und der Zensus            ',\n",
              " 'Und weiter geht s  Heute werde ich an einem äu ersten Zipfel von NRW  an der Grenze zu RLP  auf einer     ',\n",
              " 'Ich habe ein neues Foto auf Facebook gepostet  ',\n",
              " 'RT  NRW   Veranstaltung im Rathaus Dortmund   Nationale Ruhrachse weiter gestärkt ',\n",
              " ' Denn was auch immer auf Erden besteht besteht durch Ehre und Treue Wer heute die alte Pflicht verrät verrät auch morgen die neue    Stifter',\n",
              " 'Zum Abschlu  dieser Woche noch zwei Zitate  die mir durch den Kopf gehen     Glaube denen  die die Wahrheit     ',\n",
              " ' DefendEurope  ',\n",
              " 'Heute in Köln die Wahlwerbespots der   TV und Radio  abgegeben  Pressemitteilung mit den Sendeterminen folgt auf  ',\n",
              " 'Zur Zeit auf der Demo  Mütter gegen Gewalt  in  Bottrop  Auch viele nationale Aktivisten vor Ort ',\n",
              " 'Pressemitteilung  Weitere     Millionen Euro für Asylanten durch Nachtragshaushalt der Landesregierung   Geld an     ',\n",
              " ' VorOrtAktiv     ',\n",
              " 'Wahlplakat der   im aktuellen Landtagswahlkampf  Hamburg  ',\n",
              " 'An die Berliner in meiner Liste   ',\n",
              " 'Sicher leben   Asylflut stoppen   ',\n",
              " 'Zitat des st  Bezirksbürgermeisters  Die  heute in der Dortmunder Nordstadt   Lieber einen Kinderschänder hier  als Euch Nazis      ',\n",
              " 'Ich habe ein neues Foto auf Facebook gepostet  ',\n",
              " 'Der SMS Kontakt zur  im Rheinland und Westfalen                  Normale SMS Gebühren  Über diese Nummer     ',\n",
              " 'RT  BoWat  Nachgereicht     Ein  Plagiator     ms ',\n",
              " 'Auch im Kreis Viersen betreiben Presse und Gutmenschen kostenlose Werbung für unsere Positionen  Dafür meinen     ',\n",
              " 'Wieder linksextremistischer AntiFatzke in Bochum verurteilt   ',\n",
              " 'Schöne Veranstaltung  Hoffe das nimmt weiter Gestalt an      RT    NRW  Heute fand im     ',\n",
              " 'Allen nationalen Aktivisten die heute  hoffentlich zahlreich  den Weg nach Bad Nenndorf finden  wünsche ich viel     ',\n",
              " ' Stadtimpressionen  Bochum  Wattenscheid  RatBO    Widerstand  Deutschland  Europa  ',\n",
              " 'Ich wünsche allen Freunden und Unterstützern einen schönen    Advent   ',\n",
              " 'Im Einsatz   Duisburg   Mai  Europawahl  Kommunalwahl  ',\n",
              " 'RT  NRW  Neuanfang für Duisburg     unterstützt den erneuten Abwahlversuch von Skandal OB   ',\n",
              " 'Man hat es wirklich nur noch mit absoluten Vollpfosten zu tun    Interessant ist aber  welche Angst in den     ',\n",
              " ' Weihnachtsfrauen bei der Arbeit   NRW',\n",
              " 'Ich habe ein neues Foto auf Facebook gepostet  ',\n",
              " 'Der WDR vermeldet gerade   Immer weniger Deutsche sterben an einem Herzinfarkt    Stimmt wohl   sie verhungern  www nein zum euro de',\n",
              " 'Gestern ebenfalls den Meldebogen als Befrager für den  Zensus       abgeschickt  Das Meldeformular  cont   ',\n",
              " 'Aktuelle Infos über die Kundgebungsfahrt des  Flaggschiffes unter  www twitter com flaggschiff    NRW  Landtagswahl',\n",
              " 'Zur Stunde findet der Neujahrsempfang der  NRW in Essen statt  Zu Gast ist der  Generalsekretär Peter Marx ',\n",
              " 'RT  BoWat  Wahlkampfendspurt  In den letzten Tagen des Wahlkampfes wird die  Bochum amp Wattenscheid noch einem     ',\n",
              " 'Lesenswert     Olympia',\n",
              " ' ',\n",
              " 'Ihr nutzt neben  Twitter auch noch  Facebook  Kein Problem   ',\n",
              " 'RT  NRW  Dein Ihr SMS Kontakt zur Landesgeschäftsstelle NRW                  ',\n",
              " 'Ein Dank geht natürlich auch an  dortmundsrechte und die Identitären  die heute mit Aktivisten die Demo in Bochum unterstützt haben ',\n",
              " 'FB RT   Bochum Wattenscheid  Daten zur Ausländerkriminalität    spricht Tabuthema an   ',\n",
              " 'RT  BoWat  Ohne Pause geht die politische Arbeit weiter  Seit heute verteilen junge Aktivisten Flugblätter     ',\n",
              " 'Richtig so  In  Bochum und  Wattenscheid gibt es schlie lich genug   und damit echte  Politkriminelle  wie     ',\n",
              " 'Auch nicht ganz von der Hand zu weisen   ',\n",
              " 'In Essen bei der    November Mahnwache des örtlichen Kreisverbandes eingetroffen  Schon etliche Kameraden vor Ort ',\n",
              " ' APF  Europa  Widerstand  Genua  ',\n",
              " 'Rot Grün plant Wahlrecht mit        Gute  Idee  ',\n",
              " 'Im Gedenken an Albert Leo Schlageter    Sein Erbe  unser Auftrag ',\n",
              " 'Es geht weiter mit den heutigen Lautsprecherfahrten  Herrliches Wetter und gute Stimmung ',\n",
              " '  Naja  wer Interesse an wirklich nationaler Politik hat   ',\n",
              " 'Diese Woche noch einen Arbeitstermin in der Hauptstadt  Hoffe bis dahin sind die Temperaturen runter gegangen und     ',\n",
              " 'Tja  wer bei den Doofen was Schlaues sagt ist dann halt auch doof      ',\n",
              " 'RT  NRW  Verfassungsschutz NRW warnt   NRW ist bei immer mehr weiblichen Landsleuten erfolgreich   Das freut uns   ',\n",
              " 'RT  BoWat  Das Problem eines aggressiven Symbols der Überfremdung  Landnahme und Unterdrückung    Lebenslügen   ',\n",
              " 'Wir sind heute kein Volk mehr  sondern lediglich eine Bevölkerung  Wenn es verboten sein soll diesen Zustand     ',\n",
              " 'In Karlsruhe steht nicht nur eine Partei vor Gericht Am kommenden Dienstag  dem     Februar       wird das     ',\n",
              " ' ',\n",
              " '  obwohl die reale Gefahr besteht  da  Ihre Partei dann in reflexartige Abwehrhaltung  vielleicht auch zu Ihnen  geht    ',\n",
              " 'Rheinische Post  OB Abwahl   sammelt  Die Bürgerinitiative  Neuanfang für Duisburg  hat nach eigenen Angaben bis     ',\n",
              " ' Bochum  Wattenscheid  Da meldet sich die  BPE  mit ihrem sehr kritikwürdigen  Lautsprecher  M  Stürzenberger bei den örtlichen Ratsleuten und fordert eine recht sinnvolle Sache  Jedoch ziemlich verspätet  Die     ',\n",
              " 'Was zählt   ',\n",
              " 'Auf geht s  Bis       Uhr haben die Bürger in RLP  BaWü und Hessen noch die Möglichkeit der  ihre Stimme zu geben ',\n",
              " 'Die  im Rat der Stadt Bochum hat einen Jahreskalender      herausgebracht  Zu bekommen ist der Kalender in  ',\n",
              " 'Aus traurigem und aktuellen Anla  findet morgen eine Mahnwache der JN NRW im Kreis Viersen statt  Motto  Todesstrafe für Kindermörder ',\n",
              " 'RT  NRW  Deutsche Hochschulen als islamistische Zentren  Forderung des  Wissenschaftsrats  unverantwortlich   ',\n",
              " 'RT  NRW  Bei einer aktuellen Wahlumfrage kommen die  Piraten  in NRW auf     Kein Programm  keine Inhalte  dafür     ',\n",
              " 'Ich habe ein neues Foto auf Facebook gepostet  ',\n",
              " ' ',\n",
              " ' Sachsen vor Wiedereinzug   Kanzlerin Merkel irritiert Nach aktuellen Umfragen liegt die  in Sachsen bei       ',\n",
              " 'RT  de  Polizei entfernt Sarrazinplakat an der  Bundeszentrale in Berlin   ',\n",
              " 'Heute werde ich im Stadtrat einen Antrag der n gegen  TTIP unterstützen  WIR haben keine Scheuklappen auf   ',\n",
              " 'Auf der nächsten Sitzung will der Bochumer Stadtrat über eine Wahlordnung für den  Integrationsrat  abstimmen      ',\n",
              " ' Parteivorstand nach Europawahl  Jetzt in die Landtage  Der Parteivorstand der  beriet am zurückliegenden     ',\n",
              " 'Zur Zeit demonstrieren hunderte Kameraden in Hamburg beim  Tag Der Deutschen Zukunft    TDDZ   Viel Gluck nach HH ',\n",
              " 'Video von der Demonstration am        in Duisburg     ',\n",
              " 'Auf dem Weg in den Kreis Unna zur Rednerveranstaltung mit Udo Voigt ',\n",
              " 'Kripo sucht mit Phantombild nach Bankräuber von Wattenscheid  ',\n",
              " 'Die  NRW bei Facebook     Noch heute Unterstützer werden ',\n",
              " 'Heute geht es im Düsseldorfer Landtag um den Irrsinn des  Kommunal Soli    ',\n",
              " 'Ein Herz für  Deutschland   ',\n",
              " 'Hier die Einschätzung der anderen Feldpostnummer  Den medialen Erfolg der   haben sie verbittert eingestanden      ',\n",
              " 'Verbot der nationalen Antikriegstagdemonstration aufgehoben  Auf nach Dortmund   ',\n",
              " 'Der finanzpolitische Euroterror ist seit heute offiziell  In Luxemburg haben die  U Finanzmarionetten den ständigen ESM beschlossen   ',\n",
              " 'RT  BoWat  Bildung statt Wahnsinn  Darum stimmte die  gegen die Einführung weiterer sog  Sekundarschulen    ',\n",
              " 'RT  NRW  Die NRW Landesregierung will die Eigenbedarfsgrenze für Drogen erhöhen und damit die Staats     ',\n",
              " ' RAPEfugees  Asylterror    Wieder einer dieser x fachen  Einzelfälle   Köln  Deutschland     ',\n",
              " 'Bischöfin fürchtet dritten  Landtagseinzug in Sachsen Anhalt  Tja  die Einen hoffen  die Anderen fürchten  Wohl zu Recht ',\n",
              " 'Wahrscheinlich hat das wieder nichts mit dem  Islam zu tun und oder ist einer dieser berüchtigten  Einzelfälle     ',\n",
              " ' Europaparlament  Brüssel    NRW  ',\n",
              " 'Nach dem erfolgreichen Infostand in WAT  jetzt Kurzkundgebungen und Verteilaktionen in Bärendorf  Langendreer  Dahlhausen und WAT West ',\n",
              " 'Nach Büroarbeiten für den LV  stehen jetzt noch ein paar kommunale Papie      ',\n",
              " 'Heute war ich Gast auf der Jahreshauptversammlung der  Mönchengladbach  In meiner Rede konnte ich die     ',\n",
              " 'Diesem Zitat von Landsmann Vogl kann man sich doch nur anschlie en   ',\n",
              " 'Auf dem Weg zur   Mai Veranstaltung des  KV EN  Allen Aktivisten heute deutschlandweit viel Glück und Erfolg     NRW',\n",
              " 'Schöner Spruch   Deutschland wird auch die BRD überstehen  ',\n",
              " 'Heute Infostand in  Wattenscheid am Ort der geplanten Moschee abgehalten  Etliche Bürgergespräche geführt und Unterschriften gesammelt   ',\n",
              " 'Fakt ist  Im Radio wurde gesagt  da  heute der schönste Tag ist war  Wer würde da widersprechen       April  Deutschland',\n",
              " 'RN  Der WAT Wahnsinn  Privatleute und Firmen steigen in Massen auf das neue Kennzeichen um  BOCHUM Was ist los  WAT      ',\n",
              " 'Irgendwie hoffe ich ja das dieser Untermensch Marcel He e nicht der Polizei  sondern den Richtigen in die Hände fällt     Herne  Bochum',\n",
              " 'RT  bowat Konstituierende Sitzung des Bochumer Rates beendet  Neben ein paar  demokratischen    Read more at  ',\n",
              " 'Schöne  neue   demokratische  Eurowelt  Widerstand jetzt      ',\n",
              " 'Guttenberg hat bei Professor aus NRW abgeschrieben   ']"
            ]
          },
          "metadata": {
            "tags": []
          },
          "execution_count": 13
        }
      ]
    },
    {
      "cell_type": "code",
      "metadata": {
        "id": "X0dsd-eZTRZg",
        "colab_type": "code",
        "outputId": "77e8b2aa-da21-49e3-d0ba-8ac502926ca3",
        "colab": {
          "base_uri": "https://localhost:8080/",
          "height": 1000
        }
      },
      "source": [
        "bert_results.loc[bert_results['name'] == \"Claus Cremer\"].pred_prob.tolist()"
      ],
      "execution_count": 0,
      "outputs": [
        {
          "output_type": "execute_result",
          "data": {
            "text/plain": [
              "[0.9990490078926086,\n",
              " 0.9989657402038574,\n",
              " 0.2868679463863373,\n",
              " 0.999206840991974,\n",
              " 0.9992037415504456,\n",
              " 0.9990034699440002,\n",
              " 0.9991390705108644,\n",
              " 0.7493624091148376,\n",
              " 0.9427180886268616,\n",
              " 0.7336426973342896,\n",
              " 0.9992792010307312,\n",
              " 0.9427180886268616,\n",
              " 0.4173605740070343,\n",
              " 0.9222025275230408,\n",
              " 0.9973165392875672,\n",
              " 0.2119872272014618,\n",
              " 0.99903404712677,\n",
              " 0.9990655779838562,\n",
              " 0.997945249080658,\n",
              " 0.9991943240165709,\n",
              " 0.9992504715919496,\n",
              " 0.9992129802703856,\n",
              " 0.9991306662559508,\n",
              " 0.9990890026092528,\n",
              " 0.9222025275230408,\n",
              " 0.99908185005188,\n",
              " 0.9222025275230408,\n",
              " 0.9991688728332521,\n",
              " 0.9842759370803832,\n",
              " 0.930268406867981,\n",
              " 0.9988642930984496,\n",
              " 0.9980657696723938,\n",
              " 0.9222025275230408,\n",
              " 0.9988730549812316,\n",
              " 0.8715841770172119,\n",
              " 0.997512936592102,\n",
              " 0.9918279647827148,\n",
              " 0.999243140220642,\n",
              " 0.995768427848816,\n",
              " 0.9991374015808104,\n",
              " 0.9986302852630616,\n",
              " 0.9992221593856812,\n",
              " 0.9991424083709716,\n",
              " 0.9991169571876526,\n",
              " 0.9933330416679382,\n",
              " 0.9991340041160583,\n",
              " 0.9991323351860046,\n",
              " 0.9984752535820008,\n",
              " 0.9992282390594482,\n",
              " 0.9985505938529968,\n",
              " 0.9222025275230408,\n",
              " 0.9991306662559508,\n",
              " 0.9987056255340576,\n",
              " 0.9991540908813475,\n",
              " 0.9222025275230408,\n",
              " 0.9991135001182556,\n",
              " 0.9991289973258972,\n",
              " 0.9896917939186096,\n",
              " 0.9963428378105164,\n",
              " 0.9992221593856812,\n",
              " 0.9986979961395264,\n",
              " 0.9265034794807434,\n",
              " 0.9991524219512941,\n",
              " 0.9987816214561462,\n",
              " 0.9991524219512941,\n",
              " 0.9991272091865541,\n",
              " 0.7445634603500366,\n",
              " 0.9540517926216124,\n",
              " 0.9990168809890748,\n",
              " 0.9990490078926086,\n",
              " 0.9991688728332521,\n",
              " 0.6136273741722107,\n",
              " 0.9222025275230408,\n",
              " 0.9990187883377076,\n",
              " 0.9989596605300904,\n",
              " 0.997933268547058,\n",
              " 0.9618217349052428,\n",
              " 0.9983124732971193,\n",
              " 0.9992734789848328,\n",
              " 0.9872527718544006,\n",
              " 0.9992387294769288,\n",
              " 0.9991672039031982,\n",
              " 0.9885582923889159,\n",
              " 0.9222025275230408,\n",
              " 0.9992190599441528,\n",
              " 0.9992098808288574,\n",
              " 0.9105454087257384,\n",
              " 0.998920440673828,\n",
              " 0.9989412426948548,\n",
              " 0.8860265612602234,\n",
              " 0.99826580286026,\n",
              " 0.999072790145874,\n",
              " 0.900791883468628,\n",
              " 0.9959927201271056,\n",
              " 0.9427180886268616,\n",
              " 0.9990836381912231,\n",
              " 0.9427180886268616,\n",
              " 0.9991289973258972,\n",
              " 0.9991340041160583,\n",
              " 0.9222025275230408,\n",
              " 0.9991524219512941,\n",
              " 0.999216079711914,\n",
              " 0.9990907907485962,\n",
              " 0.9990763664245604,\n",
              " 0.9427180886268616,\n",
              " 0.9990563988685608,\n",
              " 0.9222025275230408,\n",
              " 0.9992504715919496,\n",
              " 0.9222025275230408,\n",
              " 0.9971272349357604,\n",
              " 0.99923574924469,\n",
              " 0.9986541271209716,\n",
              " 0.9991390705108644,\n",
              " 0.9991186261177064,\n",
              " 0.9992548823356628,\n",
              " 0.9988774657249452,\n",
              " 0.9884250164031982,\n",
              " 0.998664617538452,\n",
              " 0.8149381279945374,\n",
              " 0.9990378618240356,\n",
              " 0.998798131942749,\n",
              " 0.9991289973258972,\n",
              " 0.9981505274772644,\n",
              " 0.23014023900032046,\n",
              " 0.9984083771705629,\n",
              " 0.9990745782852172,\n",
              " 0.9584211707115172,\n",
              " 0.3442229628562927,\n",
              " 0.9987576007843018,\n",
              " 0.9991374015808104,\n",
              " 0.6442250609397888,\n",
              " 0.9992037415504456,\n",
              " 0.995216965675354,\n",
              " 0.999050796031952,\n",
              " 0.9915870428085328,\n",
              " 0.9990960359573364,\n",
              " 0.999050796031952,\n",
              " 0.9990434050559998,\n",
              " 0.9990942478179932,\n",
              " 0.994687795639038,\n",
              " 0.9992445707321168,\n",
              " 0.9982247948646544,\n",
              " 0.9990800619125366,\n",
              " 0.9992175102233888,\n",
              " 0.999184787273407,\n",
              " 0.9487276077270508,\n",
              " 0.9988259673118592,\n",
              " 0.9944880604743958,\n",
              " 0.9992417097091676,\n",
              " 0.99922513961792,\n",
              " 0.9991047978401184,\n",
              " 0.9991816878318788,\n",
              " 0.9991323351860046,\n",
              " 0.9427180886268616,\n",
              " 0.9990978240966796,\n",
              " 0.9990283250808716,\n",
              " 0.7611836194992065,\n",
              " 0.9982247948646544,\n",
              " 0.9992445707321168,\n",
              " 0.9991306662559508,\n",
              " 0.9222025275230408,\n",
              " 0.9977524876594543,\n",
              " 0.9917323589324952,\n",
              " 0.4096044898033142,\n",
              " 0.999009132385254,\n",
              " 0.9985674619674684,\n",
              " 0.9800912737846376,\n",
              " 0.9991672039031982,\n",
              " 0.936575710773468,\n",
              " 0.9992720484733582,\n",
              " 0.9976125955581664,\n",
              " 0.9222025275230408,\n",
              " 0.9989975094795228,\n",
              " 0.9991306662559508,\n",
              " 0.9990359544754028,\n",
              " 0.9634719491004944,\n",
              " 0.9990691542625428,\n",
              " 0.9990763664245604,\n",
              " 0.9990907907485962,\n",
              " 0.9929746389389038,\n",
              " 0.9992475509643556,\n",
              " 0.9650862812995912,\n",
              " 0.9508692026138306,\n",
              " 0.9992489218711852,\n",
              " 0.9222025275230408,\n",
              " 0.9986672401428224,\n",
              " 0.999058187007904,\n",
              " 0.9641192555427552,\n",
              " 0.9941232800483704,\n",
              " 0.9990206956863404,\n",
              " 0.9969544410705566,\n",
              " 0.9983288645744324,\n",
              " 0.998844027519226,\n",
              " 0.8962967395782471,\n",
              " 0.9991832375526428,\n",
              " 0.998221218585968,\n",
              " 0.9925249218940736,\n",
              " 0.9989328980445862,\n",
              " 0.9992021918296814,\n",
              " 0.9503188729286194,\n",
              " 0.9958900809288024,\n",
              " 0.9991832375526428,\n",
              " 0.2895725667476654,\n",
              " 0.9989995360374452,\n",
              " 0.9917002320289612,\n",
              " 0.999189555644989,\n",
              " 0.9991424083709716,\n",
              " 0.9797453284263612,\n",
              " 0.9983865022659302,\n",
              " 0.9774138927459716,\n",
              " 0.9893269538879396,\n",
              " 0.9991490840911864,\n",
              " 0.998981773853302,\n",
              " 0.99906188249588,\n",
              " 0.9991524219512941,\n",
              " 0.9991289973258972,\n",
              " 0.9991990923881532,\n",
              " 0.999001443386078,\n",
              " 0.9990378618240356,\n",
              " 0.4491358995437622,\n",
              " 0.99891197681427,\n",
              " 0.9986302852630616,\n",
              " 0.9989677667617798,\n",
              " 0.9991655349731444,\n",
              " 0.9991540908813475,\n",
              " 0.9990673661231996,\n",
              " 0.999054491519928,\n",
              " 0.999170422554016,\n",
              " 0.999257743358612,\n",
              " 0.9991340041160583,\n",
              " 0.9991880059242249,\n",
              " 0.9990490078926086,\n",
              " 0.9991323351860046,\n",
              " 0.503135621547699,\n",
              " 0.9990710020065308,\n",
              " 0.9991752505302428,\n",
              " 0.9404625296592712,\n",
              " 0.99903404712677,\n",
              " 0.9990226030349731,\n",
              " 0.999009132385254,\n",
              " 0.9990836381912231,\n",
              " 0.9222025275230408,\n",
              " 0.7387633323669434,\n",
              " 0.9992806315422058,\n",
              " 0.9782811403274536,\n",
              " 0.9891815781593324,\n",
              " 0.9991100430488586,\n",
              " 0.998809814453125,\n",
              " 0.9957767128944396,\n",
              " 0.9890764951705932,\n",
              " 0.9990187883377076,\n",
              " 0.9990942478179932,\n",
              " 0.999160647392273,\n",
              " 0.9989637136459352,\n",
              " 0.9652831554412842,\n",
              " 0.9225521683692932,\n",
              " 0.9983515739440918,\n",
              " 0.9990907907485962,\n",
              " 0.9990978240966796,\n",
              " 0.9991272091865541,\n",
              " 0.9991540908813475,\n",
              " 0.9714828729629515,\n",
              " 0.6070227026939392,\n",
              " 0.999054491519928,\n",
              " 0.9988991022109984,\n",
              " 0.9222025275230408,\n",
              " 0.999054491519928,\n",
              " 0.9569571614265442,\n",
              " 0.998969793319702,\n",
              " 0.9503188729286194,\n",
              " 0.9990130662918092,\n",
              " 0.996864140033722,\n",
              " 0.9992221593856812,\n",
              " 0.9501802921295166,\n",
              " 0.998460292816162,\n",
              " 0.9990907907485962,\n",
              " 0.9975985884666444,\n",
              " 0.997821569442749,\n",
              " 0.9820137619972228,\n",
              " 0.999009132385254,\n",
              " 0.06705628335475923,\n",
              " 0.9989738464355468,\n",
              " 0.9990600943565368,\n",
              " 0.9991672039031982,\n",
              " 0.998890459537506,\n",
              " 0.981979250907898,\n",
              " 0.9991306662559508,\n",
              " 0.8576489090919495,\n",
              " 0.5416133999824524,\n",
              " 0.9990637898445128,\n",
              " 0.9991638660430908,\n",
              " 0.999170422554016,\n",
              " 0.9820826053619384,\n",
              " 0.5195937156677246,\n",
              " 0.1569429486989975,\n",
              " 0.99908185005188,\n",
              " 0.9939261078834534,\n",
              " 0.9992563128471376,\n",
              " 0.19860760867595675,\n",
              " 0.9991912245750428,\n",
              " 0.9991272091865541,\n",
              " 0.10434035211801528,\n",
              " 0.6807194352149963,\n",
              " 0.9992693066596984,\n",
              " 0.9992445707321168,\n",
              " 0.9222025275230408,\n",
              " 0.9990763664245604,\n",
              " 0.9929472208023072,\n",
              " 0.9889063835144044,\n",
              " 0.9991864562034608,\n",
              " 0.09138211607933044,\n",
              " 0.9986801743507384,\n",
              " 0.18579943478107447,\n",
              " 0.04023794457316399,\n",
              " 0.9991012811660768,\n",
              " 0.9990302324295044,\n",
              " 0.9992401599884032,\n",
              " 0.9991880059242249,\n",
              " 0.7682119011878967,\n",
              " 0.9991490840911864,\n",
              " 0.996870219707489,\n",
              " 0.999024510383606,\n",
              " 0.9990490078926086,\n",
              " 0.9503188729286194,\n",
              " 0.9222025275230408,\n",
              " 0.9992114305496216,\n",
              " 0.9983025789260864,\n",
              " 0.9503188729286194,\n",
              " 0.99871826171875,\n",
              " 0.999220609664917,\n",
              " 0.9982993006706238,\n",
              " 0.999160647392273,\n",
              " 0.8810532093048096,\n",
              " 0.9989738464355468,\n",
              " 0.9991457462310792,\n",
              " 0.9991082549095154,\n",
              " 0.9990378618240356,\n",
              " 0.3556070029735565,\n",
              " 0.9963215589523317,\n",
              " 0.9992296695709229,\n",
              " 0.9989758729934692,\n",
              " 0.9991424083709716,\n",
              " 0.9990960359573364,\n",
              " 0.9592689275741576,\n",
              " 0.9503188729286194,\n",
              " 0.9988752007484436,\n",
              " 0.9992417097091676,\n",
              " 0.15140382945537567,\n",
              " 0.4976196587085724,\n",
              " 0.9989877343177797,\n",
              " 0.9991507530212402,\n",
              " 0.9988664388656616,\n",
              " 0.03197956085205078,\n",
              " 0.9991943240165709,\n",
              " 0.999226689338684,\n",
              " 0.986151397228241,\n",
              " 0.9991655349731444,\n",
              " 0.9987381100654602,\n",
              " 0.9181873202323914,\n",
              " 0.12074950337409973,\n",
              " 0.9981649518013,\n",
              " 0.2366926223039627,\n",
              " 0.9993013143539428,\n",
              " 0.9986878037452698,\n",
              " 0.999226689338684,\n",
              " 0.9992237091064452,\n",
              " 0.9990302324295044,\n",
              " 0.9800339937210084,\n",
              " 0.999170422554016,\n",
              " 0.9991117119789124,\n",
              " 0.9502266049385072,\n",
              " 0.9991238713264464,\n",
              " 0.9959378242492676,\n",
              " 0.99903404712677,\n",
              " 0.9934738278388976,\n",
              " 0.9992037415504456,\n",
              " 0.99903404712677,\n",
              " 0.9990763664245604,\n",
              " 0.9534921050071716,\n",
              " 0.9991943240165709,\n",
              " 0.9981791973114014,\n",
              " 0.9986032843589784,\n",
              " 0.999180018901825,\n",
              " 0.9770445227622986,\n",
              " 0.9989412426948548,\n",
              " 0.988514006137848,\n",
              " 0.9991440773010254,\n",
              " 0.9991927742958068,\n",
              " 0.9769127368927002,\n",
              " 0.9991186261177064,\n",
              " 0.7158711552619934,\n",
              " 0.9991424083709716,\n",
              " 0.999180018901825,\n",
              " 0.14134065806865692,\n",
              " 0.9857043027877808,\n",
              " 0.99910306930542,\n",
              " 0.998879611492157,\n",
              " 0.9503188729286194,\n",
              " 0.9980044960975648,\n",
              " 0.9503188729286194,\n",
              " 0.9222025275230408,\n",
              " 0.995583474636078,\n",
              " 0.9967711567878724,\n",
              " 0.9991390705108644,\n",
              " 0.9992327690124512,\n",
              " 0.9991151690483092,\n",
              " 0.9991424083709716,\n",
              " 0.9503188729286194,\n",
              " 0.3589707612991333,\n",
              " 0.99891197681427,\n",
              " 0.9503188729286194,\n",
              " 0.999009132385254,\n",
              " 0.8976953029632568,\n",
              " 0.9713745713233948,\n",
              " 0.9991440773010254,\n",
              " 0.5182947516441345,\n",
              " 0.9991374015808104,\n",
              " 0.9937829375267028,\n",
              " 0.9992591738700868,\n",
              " 0.9992083907127379,\n",
              " 0.9222025275230408,\n",
              " 0.999054491519928,\n",
              " 0.9990942478179932,\n",
              " 0.9991507530212402,\n",
              " 0.9978044629096984,\n",
              " 0.9503188729286194,\n",
              " 0.9990691542625428,\n",
              " 0.560312807559967,\n",
              " 0.9983547329902648,\n",
              " 0.9990264177322388,\n",
              " 0.9987576007843018,\n",
              " 0.9991768002510072,\n",
              " 0.9991204142570496,\n",
              " 0.9987331032752992,\n",
              " 0.9910145401954652,\n",
              " 0.7961340546607971,\n",
              " 0.9990781545639038,\n",
              " 0.9987792372703552,\n",
              " 0.9503188729286194,\n",
              " 0.9982624650001526,\n",
              " 0.9989494681358336,\n",
              " 0.9991880059242249,\n",
              " 0.999262034893036,\n",
              " 0.9991752505302428,\n",
              " 0.9992693066596984,\n",
              " 0.9990264177322388,\n",
              " 0.9991424083709716,\n",
              " 0.9990978240966796,\n",
              " 0.9991975426673888,\n",
              " 0.9991752505302428,\n",
              " 0.9505029916763306,\n",
              " 0.9503188729286194,\n",
              " 0.999312162399292,\n",
              " 0.9980238676071168,\n",
              " 0.9991272091865541,\n",
              " 0.9986698627471924,\n",
              " 0.9990378618240356,\n",
              " 0.17974643409252167,\n",
              " 0.9222025275230408,\n",
              " 0.9737446904182434,\n",
              " 0.999140739440918,\n",
              " 0.9991958737373352,\n",
              " 0.999001443386078,\n",
              " 0.9990836381912231,\n",
              " 0.9992489218711852,\n",
              " 0.931400179862976,\n",
              " 0.9990378618240356,\n",
              " 0.9989738464355468,\n",
              " 0.004709205590188503,\n",
              " 0.6025586724281311,\n",
              " 0.9903476238250732,\n",
              " 0.999160647392273,\n",
              " 0.9979210495948792,\n",
              " 0.249996155500412,\n",
              " 0.9989616870880128,\n",
              " 0.9990490078926086,\n",
              " 0.9991374015808104,\n",
              " 0.9992489218711852,\n",
              " 0.9222025275230408,\n",
              " 0.032867982983589165,\n",
              " 0.9992129802703856,\n",
              " 0.9991864562034608,\n",
              " 0.4902036786079407,\n",
              " 0.004289588425308466,\n",
              " 0.9991524219512941,\n",
              " 0.99906188249588,\n",
              " 0.9983707070350648,\n",
              " 0.9991374015808104,\n",
              " 0.9503188729286194,\n",
              " 0.9222025275230408,\n",
              " 0.995566189289093,\n",
              " 0.999009132385254,\n",
              " 0.9906237721443176,\n",
              " 0.9991204142570496,\n",
              " 0.996160626411438,\n",
              " 0.9989657402038574,\n",
              " 0.9991169571876526,\n",
              " 0.9990490078926086,\n",
              " 0.9991655349731444,\n",
              " 0.9991220831871032,\n",
              " 0.942081868648529,\n",
              " 0.9983515739440918,\n",
              " 0.9985923171043396,\n",
              " 0.9990978240966796,\n",
              " 0.9394705891609192,\n",
              " 0.9990378618240356,\n",
              " 0.9990226030349731,\n",
              " 0.9991374015808104,\n",
              " 0.7645401358604431,\n",
              " 0.999216079711914,\n",
              " 0.9982590079307556,\n",
              " 0.9978384375572203,\n",
              " 0.9990854263305664,\n",
              " 0.9992533326148988,\n",
              " 0.9983320832252502,\n",
              " 0.9991720914840698,\n",
              " 0.9992114305496216,\n",
              " 0.999226689338684,\n",
              " 0.999054491519928,\n",
              " 0.9979169964790344,\n",
              " 0.9992190599441528,\n",
              " 0.9992563128471376,\n",
              " 0.999189555644989,\n",
              " 0.13335877656936646]"
            ]
          },
          "metadata": {
            "tags": []
          },
          "execution_count": 14
        }
      ]
    },
    {
      "cell_type": "code",
      "metadata": {
        "id": "iFT3epIIOXZ4",
        "colab_type": "code",
        "outputId": "ee83971a-aa01-468a-fb43-09487ddb1908",
        "colab": {
          "base_uri": "https://localhost:8080/",
          "height": 494
        }
      },
      "source": [
        "bert_results.loc[bert_results['name'] == \"Stephan Protschka\"].text.tolist()"
      ],
      "execution_count": 0,
      "outputs": [
        {
          "output_type": "execute_result",
          "data": {
            "text/plain": [
              "['Was essen Sie wenn ich fragen darf ',\n",
              " 'Ich habe eine  Identität und liebe meine  Kultur und mein  Deutschland ',\n",
              " 'Franz Josef  Strau  wäre heute bei uns  Das wei  die   und deswegen bekämpft sie uns vehemend  VIDEO   ',\n",
              " 'Deutsches Gericht spricht Spaniern Sozialhilfe zu   JUNGE FREIHEIT  Armutseinwanderung  Europäische Union',\n",
              " 'Wenn Sie diese Bilder nicht mehr sehen wollen  dann müssen Sie   wählen   EU  Urheberrecht      ',\n",
              " 'Russland ist dicht  Der Rückzug aus Afghanistan jetzt ein logistischer Alptraum   russland RU  ',\n",
              " 'Ich will einfach mal Danke sagen     Europawahl  Dingolfing  Landau',\n",
              " 'WEN   WÄHLST   DU     via  YouTube',\n",
              " 'Guten Morgen  Deutschland  Heute fehlen mir die Worte  nach dieser schrecklichen Tat in  Halle  Wünsche euch allen einen friedlichen Tag ',\n",
              " 'Lasst uns dagegen Kämpfen  BITTE auch die  wähler    Freihandelsabkommen TTIP stoppen     via  YouTube',\n",
              " '   ',\n",
              " 'Leichte Verletzungen zum Täter keine Antwort da er von der Polizei festgenommen wurde und eine Anzeige bekommt ',\n",
              " 'Foul  Während der  WM     will  sigmargabriel  Fracking durchdrücken  Nicht mit uns  Unterzeichnen    via  campact',\n",
              " 'Es mangelt in Deutschland an guter Fachkraft  Unser Arbeitsmarkt wird mit Hochqualifizierten   ',\n",
              " 'Man kann von der   oder von  ManfredWeber halten was man will  aber das ist Betrug am Wähler ',\n",
              " 'Bayern  Asylanten vergreifen sich an kleinen Mädchen   Unzensuriert at  ',\n",
              " 'Seehofers  Ankerzentrum au er Rand und Band      Polizisten konnten die randalierenden Asylbewerber nicht unter Kontrolle bringen  Da scheint die vorweihnachtliche Dankbarkeit sich zu zeigen     Bamberg   Bayern',\n",
              " ' Anfrage  Kundgebung für weltoffenes Dresden kostete über         Euro   Nachrichten   LVZ Online  ',\n",
              " 'Orwell grü t   via  youtube',\n",
              " 'Typisch deutsch  Einreisen ins Land ohne Papiere möglich  Besuch eines Freibads ohne Papiere nicht möglich  Zuerst MÜSSEN die Grenzen geschlossen werden und dann die Ausreisepflichtigen abgeschoben werden  Dann haben wir wieder friedliche Bäder in Deutschland       ',\n",
              " 'Haben die bei  RettetDieBienen nicht was vergessen  Es wird immer nur auf die deutsche  Landwirtschaft hingewiesen   EEG vernichtet Leben  Zeit für Veränderung  Zeit für die     ',\n",
              " ' JustusBender können Sie bitte erläutern  welche Geste Höcke auf dem Bild macht  Ist für die Einordnung wichtig ',\n",
              " '  Fakten aus der  Landwirtschaft  die die  n hassen     ',\n",
              " 'Deutschland ist sicherer geworden  laut Seehofer  Es werden zwar viel weniger Fahrräder geklaut  dafür gerät man immer öfters in Konflikt mit Messern  Das Sicherheitsgefühl ist in Deutschland hinüber   ',\n",
              " 'Finanzkrise  Griechen Milliarden   Schuldenerlass nach der Wahl   ',\n",
              " 'Da gebe ich Ihnen recht dass es was anderes ist  Meins waren Worte  Ihr Applaus unterstützt Offenen Rechtsbruch ']"
            ]
          },
          "metadata": {
            "tags": []
          },
          "execution_count": 164
        }
      ]
    },
    {
      "cell_type": "code",
      "metadata": {
        "id": "zIFosdQWPqRs",
        "colab_type": "code",
        "outputId": "c99b577d-b638-4050-b4af-856bebb7d271",
        "colab": {
          "base_uri": "https://localhost:8080/",
          "height": 474
        }
      },
      "source": [
        "bert_results.loc[bert_results['name'] == \"Stephan Protschka\"].pred_prob.tolist()"
      ],
      "execution_count": 0,
      "outputs": [
        {
          "output_type": "execute_result",
          "data": {
            "text/plain": [
              "[0.7626451253890991,\n",
              " 0.9990283250808716,\n",
              " 0.9975513815879822,\n",
              " 0.9938429594039917,\n",
              " 0.3962433934211731,\n",
              " 0.6038442254066467,\n",
              " 0.022564494982361794,\n",
              " 0.9990960359573364,\n",
              " 0.9991357922554016,\n",
              " 0.7381031513214111,\n",
              " 0.925567090511322,\n",
              " 0.994168758392334,\n",
              " 0.0023459072690457106,\n",
              " 0.9500414729118347,\n",
              " 0.8314854502677917,\n",
              " 0.9920772910118103,\n",
              " 0.9971550703048706,\n",
              " 0.9937222599983215,\n",
              " 0.9634031057357788,\n",
              " 0.9992519021034241,\n",
              " 0.1149633452296257,\n",
              " 0.00216576736420393,\n",
              " 0.8761583566665649,\n",
              " 0.9963853359222412,\n",
              " 0.026556571945548058,\n",
              " 0.68804931640625]"
            ]
          },
          "metadata": {
            "tags": []
          },
          "execution_count": 165
        }
      ]
    },
    {
      "cell_type": "code",
      "metadata": {
        "id": "s4xGznLuTMV0",
        "colab_type": "code",
        "colab": {}
      },
      "source": [
        ""
      ],
      "execution_count": 0,
      "outputs": []
    }
  ]
}